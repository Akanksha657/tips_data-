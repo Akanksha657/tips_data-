{
  "nbformat": 4,
  "nbformat_minor": 0,
  "metadata": {
    "colab": {
      "name": "tips_akanksha.ipynb",
      "provenance": [],
      "collapsed_sections": []
    },
    "kernelspec": {
      "name": "python3",
      "display_name": "Python 3"
    }
  },
  "cells": [
    {
      "cell_type": "code",
      "metadata": {
        "id": "Fp4AE-YnAoit",
        "colab_type": "code",
        "outputId": "7ac84aab-dc38-4c4f-bd89-021707270528",
        "colab": {
          "resources": {
            "http://localhost:8080/nbextensions/google.colab/files.js": {
              "data": "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",
              "ok": true,
              "headers": [
                [
                  "content-type",
                  "application/javascript"
                ]
              ],
              "status": 200,
              "status_text": ""
            }
          },
          "base_uri": "https://localhost:8080/",
          "height": 111
        }
      },
      "source": [
        "from google.colab import files\n",
        "files.upload()"
      ],
      "execution_count": 96,
      "outputs": [
        {
          "output_type": "display_data",
          "data": {
            "text/html": [
              "\n",
              "     <input type=\"file\" id=\"files-8c9df438-89f2-486b-974f-e340da41b741\" name=\"files[]\" multiple disabled />\n",
              "     <output id=\"result-8c9df438-89f2-486b-974f-e340da41b741\">\n",
              "      Upload widget is only available when the cell has been executed in the\n",
              "      current browser session. Please rerun this cell to enable.\n",
              "      </output>\n",
              "      <script src=\"/nbextensions/google.colab/files.js\"></script> "
            ],
            "text/plain": [
              "<IPython.core.display.HTML object>"
            ]
          },
          "metadata": {
            "tags": []
          }
        },
        {
          "output_type": "stream",
          "text": [
            "Saving assign.xlsx to assign (4).xlsx\n"
          ],
          "name": "stdout"
        },
        {
          "output_type": "execute_result",
          "data": {
            "text/plain": [
              "{'assign.xlsx': b'PK\\x03\\x04\\x14\\x00\\x06\\x00\\x08\\x00\\x00\\x00!\\x00\\x9f;\\xdd\\xa0\\x8c\\x01\\x00\\x00\\x89\\x06\\x00\\x00\\x13\\x00\\x08\\x02[Content_Types].xml \\xa2\\x04\\x02(\\xa0\\x00\\x02\\x00\\x00\\x00\\x00\\x00\\x00\\x00\\x00\\x00\\x00\\x00\\x00\\x00\\x00\\x00\\x00\\x00\\x00\\x00\\x00\\x00\\x00\\x00\\x00\\x00\\x00\\x00\\x00\\x00\\x00\\x00\\x00\\x00\\x00\\x00\\x00\\x00\\x00\\x00\\x00\\x00\\x00\\x00\\x00\\x00\\x00\\x00\\x00\\x00\\x00\\x00\\x00\\x00\\x00\\x00\\x00\\x00\\x00\\x00\\x00\\x00\\x00\\x00\\x00\\x00\\x00\\x00\\x00\\x00\\x00\\x00\\x00\\x00\\x00\\x00\\x00\\x00\\x00\\x00\\x00\\x00\\x00\\x00\\x00\\x00\\x00\\x00\\x00\\x00\\x00\\x00\\x00\\x00\\x00\\x00\\x00\\x00\\x00\\x00\\x00\\x00\\x00\\x00\\x00\\x00\\x00\\x00\\x00\\x00\\x00\\x00\\x00\\x00\\x00\\x00\\x00\\x00\\x00\\x00\\x00\\x00\\x00\\x00\\x00\\x00\\x00\\x00\\x00\\x00\\x00\\x00\\x00\\x00\\x00\\x00\\x00\\x00\\x00\\x00\\x00\\x00\\x00\\x00\\x00\\x00\\x00\\x00\\x00\\x00\\x00\\x00\\x00\\x00\\x00\\x00\\x00\\x00\\x00\\x00\\x00\\x00\\x00\\x00\\x00\\x00\\x00\\x00\\x00\\x00\\x00\\x00\\x00\\x00\\x00\\x00\\x00\\x00\\x00\\x00\\x00\\x00\\x00\\x00\\x00\\x00\\x00\\x00\\x00\\x00\\x00\\x00\\x00\\x00\\x00\\x00\\x00\\x00\\x00\\x00\\x00\\x00\\x00\\x00\\x00\\x00\\x00\\x00\\x00\\x00\\x00\\x00\\x00\\x00\\x00\\x00\\x00\\x00\\x00\\x00\\x00\\x00\\x00\\x00\\x00\\x00\\x00\\x00\\x00\\x00\\x00\\x00\\x00\\x00\\x00\\x00\\x00\\x00\\x00\\x00\\x00\\x00\\x00\\x00\\x00\\x00\\x00\\x00\\x00\\x00\\x00\\x00\\x00\\x00\\x00\\x00\\x00\\x00\\x00\\x00\\x00\\x00\\x00\\x00\\x00\\x00\\x00\\x00\\x00\\x00\\x00\\x00\\x00\\x00\\x00\\x00\\x00\\x00\\x00\\x00\\x00\\x00\\x00\\x00\\x00\\x00\\x00\\x00\\x00\\x00\\x00\\x00\\x00\\x00\\x00\\x00\\x00\\x00\\x00\\x00\\x00\\x00\\x00\\x00\\x00\\x00\\x00\\x00\\x00\\x00\\x00\\x00\\x00\\x00\\x00\\x00\\x00\\x00\\x00\\x00\\x00\\x00\\x00\\x00\\x00\\x00\\x00\\x00\\x00\\x00\\x00\\x00\\x00\\x00\\x00\\x00\\x00\\x00\\x00\\x00\\x00\\x00\\x00\\x00\\x00\\x00\\x00\\x00\\x00\\x00\\x00\\x00\\x00\\x00\\x00\\x00\\x00\\x00\\x00\\x00\\x00\\x00\\x00\\x00\\x00\\x00\\x00\\x00\\x00\\x00\\x00\\x00\\x00\\x00\\x00\\x00\\x00\\x00\\x00\\x00\\x00\\x00\\x00\\x00\\x00\\x00\\x00\\x00\\x00\\x00\\x00\\x00\\x00\\x00\\x00\\x00\\x00\\x00\\x00\\x00\\x00\\x00\\x00\\x00\\x00\\x00\\x00\\x00\\x00\\x00\\x00\\x00\\x00\\x00\\x00\\x00\\x00\\x00\\x00\\x00\\x00\\x00\\x00\\x00\\x00\\x00\\x00\\x00\\x00\\x00\\x00\\x00\\x00\\x00\\x00\\x00\\x00\\x00\\x00\\x00\\x00\\x00\\x00\\x00\\x00\\x00\\x00\\x00\\x00\\x00\\x00\\x00\\x00\\x00\\x00\\x00\\x00\\x00\\x00\\x00\\x00\\x00\\x00\\x00\\x00\\x00\\x00\\x00\\x00\\x00\\x00\\x00\\x00\\x00\\x00\\x00\\x00\\x00\\x00\\x00\\x00\\x00\\x00\\x00\\x00\\x00\\x00\\x00\\x00\\x00\\x00\\x00\\x00\\x00\\x00\\x00\\x00\\x00\\x00\\x00\\x00\\x00\\x00\\x00\\x00\\x00\\x00\\x00\\x00\\x00\\x00\\x00\\x00\\xc4U\\xc9N\\xc30\\x10\\xbd#\\xf1\\x0f\\x91\\xaf\\xa8q\\xe1\\x80\\x10j\\xda\\x03\\xcb\\x11\\x90(\\x1f\\xe0\\xda\\xd3\\xc6\\xaac[\\x9e)\\xb4\\x7f\\xcf\\xc4]\\x84Pi\\x15\\xb5\\x12\\x97D\\x89=o\\x19\\xdb\\xcf\\x83\\xd1\\xb2q\\xc5\\'$\\xb4\\xc1W\\xe2\\xba\\xec\\x8b\\x02\\xbc\\x0e\\xc6\\xfaY%>\\xc6\\xcf\\xbd;Q )o\\x94\\x0b\\x1e*\\xb1\\x02\\x14\\xa3\\xe1\\xe5\\xc5`\\xbc\\x8a\\x80\\x05W{\\xacDM\\x14\\xef\\xa5D]C\\xa3\\xb0\\x0c\\x11<\\x8fLCj\\x14\\xf1g\\x9a\\xc9\\xa8\\xf4\\\\\\xcd@\\xde\\xf4\\xfb\\xb7R\\x07O\\xe0\\xa9G-\\x86\\x18\\x0e\\x1ea\\xaa\\x16\\x8e\\x8a\\xa7%\\xff^+\\x99X/\\x8a\\x87\\xf5\\xbc\\x96\\xaa\\x12*Fg\\xb5\"\\x16*?\\xbd\\xf9E\\xd2\\x0b\\xd3\\xa9\\xd5`\\x82^4\\x0c]bL\\xa0\\x0c\\xd6\\x00\\xd4\\xb82&\\xcb\\x8c\\xe9\\x1d\\x88\\xd8\\x18\\n\\xb9\\x973\\x81\\xc3n\\xa4\\x1bW%WfaX\\xdb\\x88Wl\\xfd\\x0f\\x86v\\xe4oW\\x9b\\xbaW^\\x8ed\\r\\x14o*\\xd1\\x8bj\\xd8\\xbb\\\\:\\xf9\\x15\\xd2|\\x12\\xc2\\xbc<\\x0c\\xd2\\xb55\\xb9Ee\\xa3\\xac\\xdf\\xea>\\xc0\\x9f\\'\\xa3\\xcc\\xaf\\xeb3\\x0bi\\xfde\\xe0\\x8e:n\\xfeI\\x07\\xf1^\\x07\\x99\\x9f\\xa7\\xb7\"\\xc3\\x1c1\\x8e\\xb4r\\x80\\xe7^\\xfe\\x0cz\\x8c\\xb9V\\t\\xcc;\\xf1)\\x9a\\x9d]\\xc0O\\xec#:\\xb4r\\xfa\\xa1\\xe6\\xadz\\xe6&\\xecp\\x0f\\xf1s\\xb4\\xbc\\xa5\\x10\\x91\\xd3+Aw\\x01\\xdb\\xa8h\\xab{\\x91\\x81 \\x91\\x85]X\\xec;t;F\\x8e\\xbe\\x93\\x1dC\\x9b\\xad\\x06LWn\\xbd@\\n\\xcd\\xc9\\xf4k\\x98=\\xe42_$\\xc3o\\x00\\x00\\x00\\xff\\xff\\x03\\x00PK\\x03\\x04\\x14\\x00\\x06\\x00\\x08\\x00\\x00\\x00!\\x00\\x13^\\xbee\\x02\\x01\\x00\\x00\\xdf\\x02\\x00\\x00\\x0b\\x00\\x08\\x02_rels/.rels \\xa2\\x04\\x02(\\xa0\\x00\\x02\\x00\\x00\\x00\\x00\\x00\\x00\\x00\\x00\\x00\\x00\\x00\\x00\\x00\\x00\\x00\\x00\\x00\\x00\\x00\\x00\\x00\\x00\\x00\\x00\\x00\\x00\\x00\\x00\\x00\\x00\\x00\\x00\\x00\\x00\\x00\\x00\\x00\\x00\\x00\\x00\\x00\\x00\\x00\\x00\\x00\\x00\\x00\\x00\\x00\\x00\\x00\\x00\\x00\\x00\\x00\\x00\\x00\\x00\\x00\\x00\\x00\\x00\\x00\\x00\\x00\\x00\\x00\\x00\\x00\\x00\\x00\\x00\\x00\\x00\\x00\\x00\\x00\\x00\\x00\\x00\\x00\\x00\\x00\\x00\\x00\\x00\\x00\\x00\\x00\\x00\\x00\\x00\\x00\\x00\\x00\\x00\\x00\\x00\\x00\\x00\\x00\\x00\\x00\\x00\\x00\\x00\\x00\\x00\\x00\\x00\\x00\\x00\\x00\\x00\\x00\\x00\\x00\\x00\\x00\\x00\\x00\\x00\\x00\\x00\\x00\\x00\\x00\\x00\\x00\\x00\\x00\\x00\\x00\\x00\\x00\\x00\\x00\\x00\\x00\\x00\\x00\\x00\\x00\\x00\\x00\\x00\\x00\\x00\\x00\\x00\\x00\\x00\\x00\\x00\\x00\\x00\\x00\\x00\\x00\\x00\\x00\\x00\\x00\\x00\\x00\\x00\\x00\\x00\\x00\\x00\\x00\\x00\\x00\\x00\\x00\\x00\\x00\\x00\\x00\\x00\\x00\\x00\\x00\\x00\\x00\\x00\\x00\\x00\\x00\\x00\\x00\\x00\\x00\\x00\\x00\\x00\\x00\\x00\\x00\\x00\\x00\\x00\\x00\\x00\\x00\\x00\\x00\\x00\\x00\\x00\\x00\\x00\\x00\\x00\\x00\\x00\\x00\\x00\\x00\\x00\\x00\\x00\\x00\\x00\\x00\\x00\\x00\\x00\\x00\\x00\\x00\\x00\\x00\\x00\\x00\\x00\\x00\\x00\\x00\\x00\\x00\\x00\\x00\\x00\\x00\\x00\\x00\\x00\\x00\\x00\\x00\\x00\\x00\\x00\\x00\\x00\\x00\\x00\\x00\\x00\\x00\\x00\\x00\\x00\\x00\\x00\\x00\\x00\\x00\\x00\\x00\\x00\\x00\\x00\\x00\\x00\\x00\\x00\\x00\\x00\\x00\\x00\\x00\\x00\\x00\\x00\\x00\\x00\\x00\\x00\\x00\\x00\\x00\\x00\\x00\\x00\\x00\\x00\\x00\\x00\\x00\\x00\\x00\\x00\\x00\\x00\\x00\\x00\\x00\\x00\\x00\\x00\\x00\\x00\\x00\\x00\\x00\\x00\\x00\\x00\\x00\\x00\\x00\\x00\\x00\\x00\\x00\\x00\\x00\\x00\\x00\\x00\\x00\\x00\\x00\\x00\\x00\\x00\\x00\\x00\\x00\\x00\\x00\\x00\\x00\\x00\\x00\\x00\\x00\\x00\\x00\\x00\\x00\\x00\\x00\\x00\\x00\\x00\\x00\\x00\\x00\\x00\\x00\\x00\\x00\\x00\\x00\\x00\\x00\\x00\\x00\\x00\\x00\\x00\\x00\\x00\\x00\\x00\\x00\\x00\\x00\\x00\\x00\\x00\\x00\\x00\\x00\\x00\\x00\\x00\\x00\\x00\\x00\\x00\\x00\\x00\\x00\\x00\\x00\\x00\\x00\\x00\\x00\\x00\\x00\\x00\\x00\\x00\\x00\\x00\\x00\\x00\\x00\\x00\\x00\\x00\\x00\\x00\\x00\\x00\\x00\\x00\\x00\\x00\\x00\\x00\\x00\\x00\\x00\\x00\\x00\\x00\\x00\\x00\\x00\\x00\\x00\\x00\\x00\\x00\\x00\\x00\\x00\\x00\\x00\\x00\\x00\\x00\\x00\\x00\\x00\\x00\\x00\\x00\\x00\\x00\\x00\\x00\\x00\\x00\\x00\\x00\\x00\\x00\\x00\\x00\\x00\\x00\\x00\\x00\\x00\\x00\\x00\\x00\\x00\\x00\\x00\\x00\\x00\\x00\\x00\\x00\\x00\\x00\\x00\\x00\\x00\\x00\\x00\\x00\\x00\\x00\\x00\\x00\\x00\\x00\\x00\\x00\\x00\\x00\\x00\\x00\\x00\\x00\\x00\\x00\\x00\\x00\\x00\\x00\\x00\\x00\\xac\\x92MK\\x031\\x10\\x86\\xef\\x82\\xff!\\xcc\\xbd;\\xdb*\"\\xd2l/E\\xe8Md\\xfd\\x011\\x99\\xfd`7\\x99\\x90\\xa4\\xba\\xfd\\xf7FAt\\xa1\\xb6\\x1ez\\x9c\\xafw\\x9ey\\x99\\xf5f\\xb2\\xa3x\\xa3\\x10{v\\x12\\x96E\\t\\x82\\x9cf\\xd3\\xbbV\\xc2K\\xfd\\xb8\\xb8\\x07\\x11\\x93rF\\x8d\\xecH\\xc2\\x81\"l\\xaa\\xeb\\xab\\xf53\\x8d*\\xe5\\xa1\\xd8\\xf5>\\x8a\\xac\\xe2\\xa2\\x84.%\\xff\\x80\\x18uGV\\xc5\\x82=\\xb9\\\\i8X\\x95r\\x18Z\\xf4J\\x0f\\xaa%\\\\\\x95\\xe5\\x1d\\x86\\xdf\\x1aP\\xcd4\\xc5\\xceH\\x08;s\\x03\\xa2>\\xf8\\xbc\\xf9\\xbc67M\\xafi\\xcbzo\\xc9\\xa5#+\\x90\\xa6D\\xce\\x90Y\\xf8\\x90\\xd9B\\xea\\xf35\\xa2V\\xa1\\xa5$\\xc1\\xb0~\\xca\\xe9\\x88\\xca\\xfb\"c\\x03\\x1e\\'Z\\xfd\\x9f\\xe8\\xefk\\xd1RRF%\\x85\\x9a\\x03\\x9d\\xe6\\xf9\\xec8\\x05\\xb4\\xbc\\xa4Es\\x13\\x7f\\xdc\\x99F|\\xe70\\xbc2\\x0f\\xa7Xn/\\xc9\\xa2\\xf71\\xb1=c\\xceW\\xcf7\\x12\\xce\\xde\\xb2\\xfa\\x00\\x00\\x00\\xff\\xff\\x03\\x00PK\\x03\\x04\\x14\\x00\\x06\\x00\\x08\\x00\\x00\\x00!\\x00\\x8a.\\x0f.\\r\\x03\\x00\\x00\\\\\\x07\\x00\\x00\\x0f\\x00\\x00\\x00xl/workbook.xml\\xa4UQo\\x9b0\\x10~\\x9f\\xb4\\xff`\\xf9\\x9d\\x82\\t\\xd0\\x14\\x95L#4Z\\xa5m\\xea\\xba\\xae{\\xa949`\\x82U\\xb0\\x99m\\x9aT\\xd3\\xfe\\xfb\\xce\\x10\\xd2\\xa6\\xa9\\xa6\\xaeC\\x89\\x8d}\\xc7\\xc7ww\\xdf\\x99\\xd3w\\x9b\\xa6FwLi.E\\x82\\xc9\\x91\\x87\\x11\\x13\\xb9,\\xb8X%\\xf8\\xdb\\xd5\\xc2\\x99b\\xa4\\r\\x15\\x05\\xad\\xa5`\\t\\xbeg\\x1a\\xbf\\x9b\\xbd}s\\xba\\x96\\xeav)\\xe5-\\x02\\x00\\xa1\\x13\\\\\\x19\\xd3\\xc6\\xae\\xab\\xf3\\x8a5T\\x1f\\xc9\\x96\\t\\xb0\\x94R5\\xd4\\xc0R\\xad\\\\\\xdd*F\\x0b]1f\\x9a\\xda\\xf5=/r\\x1b\\xca\\x05\\x1e\\x10b\\xf5\\x12\\x0cY\\x96<g\\x99\\xcc\\xbb\\x86\\t3\\x80(VS\\x03\\xf4u\\xc5[=\\xa25\\xf9K\\xe0\\x1a\\xaan\\xbb\\xd6\\xc9e\\xd3\\x02\\xc4\\x92\\xd7\\xdc\\xdc\\xf7\\xa0\\x185y|\\xbe\\x12R\\xd1e\\raoH\\x886\\n~\\x11\\xfc\\x89\\x07\\x83?\\xbe\\tL\\x07\\xafjx\\xae\\xa4\\x96\\xa59\\x02hw }\\x10?\\xf1\\\\B\\xf6R\\xb09\\xcc\\xc1\\xcb\\x90\\x02W\\xb1;nk\\xb8c\\xa5\\xa2W\\xb2\\x8avX\\xd1\\x03\\x18\\xf1\\xfe\\x1b\\x8d\\x80\\xb4z\\xad\\xc4\\x90\\xbcW\\xa2\\x85;n>\\x9e\\x9d\\x96\\xbcf\\xd7\\x83t\\x11m\\xdb\\xcf\\xb4\\xb1\\x95\\xaa1\\xaa\\xa96g\\x057\\xacH\\xf01,\\xe5\\x9a\\xedm\\xa8\\xaeM;^\\x83\\xd5\\xf7#?\\xc0\\xeel\\'\\xe7\\x0b\\x85\\nV\\xd2\\xae6W \\xe4\\x11\\x1e:#\\x8aN\\xfc\\xd0z\\x820\\xde\\xd7\\x86)A\\r\\x9bKa@\\x87\\xdb\\xb8\\xfeWs=\\xf6\\xbc\\x92\\xa0pt\\xc9~v\\\\1h,\\xd0\\x17\\xc4\\n#\\xcdc\\xba\\xd4\\x17\\xd4T\\xa8Su\\x82\\xb3\\xf8f)\\xa9*\\x10\\x17%\\x17\\xa0\\xdc\\x1b\\xaa5_\\t\\xdb\\x19\\x88\\xdc<\\xd2\\'=l\\x86\\x7fP(\\xcdm\\xd8.\\xc4=p\\x1b\\xee\\x9f\\xe6\\x00(\\xaaxT\\xe1\\x85Q\\x08\\xee\\xcf\\xb3\\x8fP\\x89\\xaf\\xf4\\x0e\\xea\\x02\\xd5/\\xb6m{\\x0e\\x89\\'\\x93\\x1f\"W1\\xf9\\xf1+\\r\\xbct:\\x8d\"g\\x92\\xce\\xdf;A6\\x0f\\x9di\\x90fN\\x98\\x06\\xc7\\xe14\\x0c&\\xd1\\xd9\\xfc7\\x04\\xa3\\xa28\\x97\\xb43\\xd5\\xb6\\xe4\\x16:\\xc1A\\xf8\\x8c\\xe9\\x13\\xdd\\x8c\\x16\\xe2\\xc5\\x1d/\\x1eh\\xfc\\xf2\\xb6\\x97c\\xe7\\'\\xc3h\\xfbm\\x03\\xb6\\x87\\xdb5gk\\xfd \\x0e\\xbbD\\x9b\\xef\\\\\\x14r\\x9d`\\x87\\xf8\\x10\\xd4\\xfd\\xfer\\xdd\\x1b\\xbf\\xf3\\xc2T\\xa0.\\xefx\\x02.\\xc3\\xde\\x07\\xc6W\\x150&\\x84D\\xb6\\x15\\x94o\\x99%x\\x8fQ60Z\\xc0\\xe5\\xd8a\\x8f\\x91\\xfb\\x88R\\x7f\\x8c\\x02\\xb5~F\\xa2\\x97\\xbe\\xe9\\xcf\\xbf~\\xa7O1F*\\xb6oP\\xe7\\x05\\xb1\\x11=\\xf6\\xfd\\x02\\'\\xe5\\xces\\xf2\\xc8\\xd3\\xef\\x8b=\\xc2\\xe7\\xb4\\xce\\xa1%\\xec\\xd4CN\\x89\\xe7\\x9fX\\x0f\\xb61\\x1f\\xb5\\xe9gP#\\x870\\xd2p\\x9az\\x93\\x13\\xdf\\t\\x16d\\xe1\\x04\\xe4\\xc4s\\xd24\\n\\x9c0[L\\xc2c\\x92\\xcd\\xcf\\xc2\\x85\\xad\\xa3\\xfd\\\\\\xc4\\x1b\\x8bX\\xbe\\xf2\\x14\\x98\\xba\\xfd\\xd3\\x8c\\x9a\\x0e:\\xc46G\\xbf\\x8e\\xed\\xb8\\xd8\\xee\\xee6\\xcbac\\x9b\\xa2=\\xd9\\xc7\\x97\\x99\\re\\xfb\\xf4\\xdf\\x1c\\x17\\xd7}V\\x9e}\\x8f\\x0b\\xa9\\x80\\x96\\x18\\x13\\xe2\\x8e\\x1f\\xc6\\xd9\\x1f\\x00\\x00\\x00\\xff\\xff\\x03\\x00PK\\x03\\x04\\x14\\x00\\x06\\x00\\x08\\x00\\x00\\x00!\\x00\\xfei\\xeaW\\n\\x01\\x00\\x00\\xcc\\x03\\x00\\x00\\x1a\\x00\\x08\\x01xl/_rels/workbook.xml.rels \\xa2\\x04\\x01(\\xa0\\x00\\x01\\x00\\x00\\x00\\x00\\x00\\x00\\x00\\x00\\x00\\x00\\x00\\x00\\x00\\x00\\x00\\x00\\x00\\x00\\x00\\x00\\x00\\x00\\x00\\x00\\x00\\x00\\x00\\x00\\x00\\x00\\x00\\x00\\x00\\x00\\x00\\x00\\x00\\x00\\x00\\x00\\x00\\x00\\x00\\x00\\x00\\x00\\x00\\x00\\x00\\x00\\x00\\x00\\x00\\x00\\x00\\x00\\x00\\x00\\x00\\x00\\x00\\x00\\x00\\x00\\x00\\x00\\x00\\x00\\x00\\x00\\x00\\x00\\x00\\x00\\x00\\x00\\x00\\x00\\x00\\x00\\x00\\x00\\x00\\x00\\x00\\x00\\x00\\x00\\x00\\x00\\x00\\x00\\x00\\x00\\x00\\x00\\x00\\x00\\x00\\x00\\x00\\x00\\x00\\x00\\x00\\x00\\x00\\x00\\x00\\x00\\x00\\x00\\x00\\x00\\x00\\x00\\x00\\x00\\x00\\x00\\x00\\x00\\x00\\x00\\x00\\x00\\x00\\x00\\x00\\x00\\x00\\x00\\x00\\x00\\x00\\x00\\x00\\x00\\x00\\x00\\x00\\x00\\x00\\x00\\x00\\x00\\x00\\x00\\x00\\x00\\x00\\x00\\x00\\x00\\x00\\x00\\x00\\x00\\x00\\x00\\x00\\x00\\x00\\x00\\x00\\x00\\x00\\x00\\x00\\x00\\x00\\x00\\x00\\x00\\x00\\x00\\x00\\x00\\x00\\x00\\x00\\x00\\x00\\x00\\x00\\x00\\x00\\x00\\x00\\x00\\x00\\x00\\x00\\x00\\x00\\x00\\x00\\x00\\x00\\x00\\x00\\x00\\x00\\x00\\x00\\x00\\x00\\x00\\x00\\x00\\x00\\x00\\x00\\x00\\x00\\x00\\x00\\x00\\x00\\x00\\x00\\x00\\x00\\x00\\x00\\x00\\x00\\x00\\x00\\x00\\x00\\x00\\x00\\x00\\x00\\x00\\x00\\x00\\x00\\x00\\x00\\x00\\x00\\x00\\x00\\x00\\x00\\x00\\x00\\x00\\x00\\x00\\x00\\x00\\x00\\x00\\xbc\\x93OK\\xc40\\x10\\xc5\\xef\\x82\\xdf!\\xcc\\xdd\\xa6\\xad\\xba\\x88l\\xba\\x07E\\xd8\\xab\\xae\\x1f \\xa4\\xd3\\xa6l\\x9b\\x94\\xcc\\xf8\\xa7\\xdf\\xdeP\\xb1ua\\xa9\\x97\\xe2q\\xde\\x90\\xf7~<2\\xdb\\xddg\\xd7\\x8aw\\x0c\\xd4x\\xa7 KR\\x10\\xe8\\x8c/\\x1bW+x=<]\\xdd\\x81 \\xd6\\xae\\xd4\\xadw\\xa8`@\\x82]qy\\xb1}\\xc6Vs|D\\xb6\\xe9ID\\x17G\\n,s\\x7f/%\\x19\\x8b\\x9d\\xa6\\xc4\\xf7\\xe8\\xe2\\xa6\\xf2\\xa1\\xd3\\x1c\\xc7P\\xcb^\\x9b\\xa3\\xaeQ\\xe6i\\xba\\x91\\xe1\\xb7\\x07\\x14\\'\\x9eb_*\\x08\\xfb\\xf2\\x1a\\xc4a\\xe8c\\xf2\\xdf\\xde\\xbe\\xaa\\x1a\\x83\\x8f\\xde\\xbcu\\xe8\\xf8L\\x84\\xe4\\xc8\\x85\\xd1P\\x87\\x1aY\\xc18~\\x8bY\\x12AA\\x9eg\\xc8\\xd7d\\xf8\\xf0\\xe1H\\x16\\x91g\\x8eI\"9n\\xf2%\\x98\\xec\\x9fa\\x16\\x9b\\xd9\\xac\\tctk\\x1e\\xacn\\xdc\\xdc\\xcc$-5r\\xbb&\\x04Y\\x1d\\xb0|\\xe1\\x10/\\x80f\\x90\\x13y\\t\\xe6fU\\x18\\x1e\\xdaxp\\xd3\\x87\\xa5q\\xfe\\x89\\x97\\'7X|\\x01\\x00\\x00\\xff\\xff\\x03\\x00PK\\x03\\x04\\x14\\x00\\x06\\x00\\x08\\x00\\x00\\x00!\\x000\\xfd;\\xc2\\xf8#\\x00\\x00u\\xf6\\x00\\x00\\x18\\x00\\x00\\x00xl/worksheets/sheet1.xml\\x9c]ko\\x1cG\\x92\\xfc~\\xc0\\xfd\\x07\\x81\\xdf\\xb79\\xd5\\xf3\\xe0\\x8c!k\\xb1C\\xaf|\\x0b\\xdc\\xe1\\x0e\\xf7\\xfaNS\\x94EX\\x12u$m\\xef\\xe2p\\xff\\xfd\\xb2\\xba\\xb3\\x86\\x1d\\x19S!\\xe5\\n\\xbb\\xb65QU]Y\\xcf\\xa8\\xacG\\xbc\\xfe\\xe3_?}|\\xf5\\xdb\\xdd\\xe3\\xd3\\xfd\\xc3\\xe7\\xef/\\xca\\xb0\\xbaxu\\xf7\\xf9\\xf6\\xe1\\xdd\\xfd\\xe7\\x9f\\xbf\\xbf\\xf8\\xaf\\xff|\\xfb\\x87\\xfd\\xc5\\xab\\xa7\\xe7\\x9b\\xcf\\xefn>>|\\xbe\\xfb\\xfe\\xe2owO\\x17\\x7f|\\xf3\\x8f\\xff\\xf0\\xfa\\xf7\\x87\\xc7_\\x9e>\\xdc\\xdd=\\xbf\\xb2\\x14>?}\\x7f\\xf1\\xe1\\xf9\\xf9\\xcbw\\x97\\x97O\\xb7\\x1f\\xee>\\xdd<\\r\\x0f_\\xee>\\x1b\\xf2\\xfe\\xe1\\xf1\\xd3\\xcd\\xb3\\xfd\\xf5\\xf1\\xe7\\xcb\\xa7/\\x8fw7\\xef\\xa6H\\x9f>^\\x8e\\xab\\xd5\\xee\\xf2\\xd3\\xcd\\xfd\\xe7\\x8b9\\x85\\xef\\x1e\\xbf%\\x8d\\x87\\xf7\\xef\\xefo\\xef~x\\xb8\\xfd\\xf5\\xd3\\xdd\\xe7\\xe79\\x91\\xc7\\xbb\\x8f7\\xcf\\x96\\xff\\xa7\\x0f\\xf7_\\x9eZj\\x9fn\\xbf%\\xb9O7\\x8f\\xbf\\xfc\\xfa\\xe5\\x0f\\xb7\\x0f\\x9f\\xbeX\\x12?\\xdd\\x7f\\xbc\\x7f\\xfe\\xdb\\x94\\xe8\\xc5\\xabO\\xb7\\xdf\\xfd\\xe5\\xe7\\xcf\\x0f\\x8f7?}4\\xbb\\xffZ67\\xb7\\xaf\\xfe\\xfah\\xff\\x1b\\xed\\xff\\xeb\\xf6\\x99\\xe9w\\xfa\\xd2\\xa7\\xfb\\xdb\\xc7\\x87\\xa7\\x87\\xf7\\xcf\\x83\\xa5|9\\xe7\\x99\\xcd?\\\\\\x1e.onO)\\xb1\\xfd\\xdf\\x94L\\xd9\\\\>\\xde\\xfdv_+\\xf0%\\xa9\\xf1\\xef\\xcbR\\xd9\\x9e\\xd2\\x1a_\\x12[\\xff\\x9d\\x89\\xedN\\x89\\xd5\\xe2z\\xfc\\xee\\xd7\\xfbw\\xdf_\\xfc\\xef\\xca\\xff\\xfc\\xc1\\xfe]\\xea?V/\\xffh\\xd8\\xff]\\xbcy\\xfd\\xee\\xdej\\xb8Z\\xf5\\xea\\xf1\\xee\\xfd\\xf7\\x17\\x7f*\\xdf\\xfd8n\\xb6\\x17\\x97o^O-\\xe8\\xbf\\xef\\xef~\\x7fZ\\xfc\\xf7\\xab\\xe7\\x9b\\x9f\\xfe\\xe3\\xee\\xe3\\xdd\\xed\\xf3\\x9d}\\xa5\\\\\\xbcz~\\xf8\\xf2\\xcfw\\xef\\x9f\\xaf\\xef>~\\xb4\\xd8\\xe3\\xb8\\xbbxU\\xdb\\xecO\\x0f\\x0f\\xbf\\xd4\\xb8\\x7f\\xb1P+\\xfb\\xcc\\xd3\\x14\\xa7~\\xe6\\xe6\\xf6\\xf9\\xfe\\xb7\\xbb9\\xfc\\xbf\\x8e\\xeb\\xad5\\xfc\\xff\\x99>=\\xfd\\xc5\\xbe{y\\xfa\\xf0\\xf2\\xbf[&\\xdeN-\\xfd\\xdf\\x1e_\\xbd\\xbb{\\x7f\\xf3\\xeb\\xc7\\xe7\\x7f\\x7f\\xf8\\xfd\\x9f\\xee\\xee\\x7f\\xfe\\xf0l\\xb9\\xb1\\xb4\\xa6\\x86\\xf2\\xdd\\xbb\\xbf\\xfdp\\xf7tk-\\xd7>>\\x8c/\\xd6\\xfcp\\xf3|\\xf3\\xe6\\xf5\\xe3\\xc3\\xef\\xaf\\xac\\x15X\\xe6\\x9f\\xbe\\xdc\\xd4>U\\xbe\\xbb\\xea\\xc5|\\xf3\\xfa\\xb6\\x86\\xfdS\\xb5\\xf4\\xfb\\x8b\\'\\xb3\\xe4\\xb77\\xab\\xd7\\x97\\xbfY\\xd6n\\x1d;.\\xb1\\x82\\xd8\\xf5\\x12\\x1b\\x11\\xfba\\x89\\xad\\x11\\xfb\\xf3\\x12\\xdb \\xf6v\\x89m\\x11\\xfbq\\x89\\xedN\\xd8\\xa5\\x99|\\xb2\\xdb\\x9a\\xdc\\xb7\\xdb=N\\x16\\x97\\xddp\\xd8\\x1f\\x16\\x7f\\xf6\\xa1\\x08<\\xd8\\xb0\\x8a\\xf6\\xdb\\xc7N\\xe5v\\x15\\xec_b!\\xc1?/\\xb1C\\xb0\\x7f\\x89\\x95P\\x19?\\xce9y)j0\\xdd:\\xc8\\xb7\\x9b\\xbe\\x9eM_\\r\\xebP\\x01GG\\x86\\xddK\\tO\\xad\\xe4\\xda\\xd2?Y[BQ\\xfc\\xb0\\x04\\xa3\\xb9K,\\x9a\\x0b\\x89Fs\\xe7\\xac\\xbc\\xb4\\x1e0w\\x931w3\\x99;\\xda\\xdc\\x142~\\x9c\\x91\\xf5\\x10\\xda\\xda\\xb5%\\xdf\\xb7v\\tFk\\x97X\\xb4\\x16\\x12\\x8d\\xd6zN\\xce\\xb7\\xeb:\\x92|s\\x7f\\xde\\xce\\xd6\\xae\\x87]l\\xca3\\xb2\\x1e\\xd6\\xb1)[\\xfa}s\\x97`4w\\x89Es!\\xd1h\\xaeg\\xf2\\xbc\\xb96\\xd0~\\xbb\\xb9\\xbb\\xd9\\xdc\\xcd\\xb0\\r\\x198\\xce\\x88\\x95C4\\xd7\\xd2\\xef\\xf6\\xdc%\\x16\\xad]b\\xd1\\xda%F=w\\xce\\xc9K_\\x83\\xa6l\\x03\\xf4\\xb7[{5[\\xbb\\x1d\\xc6h\\xed\\x8cl\\x86\\xabh\\xad\\xa5\\xdf\\xaf\\xdc%\\x18\\xcd]b\\xd1\\\\H4V\\xaeg\\xe5|\\xe5V:\\xf8\\xcdmy?\\x99\\xbb\\x1f\\xae\\xc2\\x00{\\x9c\\x810\\xed\\\\[\\xda}S\\x97`4u\\x89ES!\\xd1hj\\xcc\\x07\\xd4\\xec!c\\xeaa\\xae\\xd9\\xdd\\xb0\\x8f\\xddvF\\xd6C\\x89\\xe6Z\\xfa}s\\x97`4w\\x89Es!\\xd1h\\xee\\x9c\\x95NC.F\\xfd\\x13\\xb4\\xa3r\\xa7\\xdf\\xde\\x94\\xed\\xb0\\x8a\\x93\\x90%4A\\xc3!\\xceB\\xf5\\x13}\\x93\\x01\\x8d6\\x03\\x18\\x8d\\xc6t\\xa3\\xd5\\x9e\\x9f\\xce\\xcc[rl\\xab\\xcc\\xb6YG\\x8d\\xf5l\\tU\\xb3\\xd7\\xc3\\x18(\\xd3u\\xfd\\x840{\\x89\\x92\\xd9K\\x90\\xcc\\x86t\\xc9\\xec9?=\\xb3Sd\\xab8\\x8d2\\xce\\x1a\\xbbr\\x83x\\xe42D\\x99\\xadH\\x16D%\\xb3%\\xcd\\xf2\\xfc\\xf4\\xccN\\x11\\xad\\xe2$\\xc6\\xc6\\xeb\\xd0\\x94\\x8f\\x0eE\\xe6a?\\xf7\\'\\'\\x00\\xa9\\xa6\\x15\\xd3\\x82\\x984?y^z\\xfd:E\\xb6\\xca\\xccd\\xac_o\\xc2xul\\xd0\\xb0\\rm\\xe0\\xda\\x10U\\xd3\\x8aqAT\\xaai\\xc9\\xb9<?\\xbd\\x9aN\\xb1.[\\xa1Mc\\xd6~\\xd8\\x84\\xde{t\\x88:\\xb5d]u\\xc5w\\xea\\xf2T\\xd5\\x8awAL\\xae\\xea9\\x9f\\xbd\\xaaNQ\\xaf2\\xf3\\x9a\\xb2\\x19\\xf6ds#_\\xab8iY$\\xd1\\xc0\\x15\\xfd\\x82\\x98T\\xd3\\x92\\x80yN{5\\x9d\\xa2`\\xc59X\\x19\\xb64\\x82\\xcf\\xd0z8\\x90\\xd5\\x92\\x85Y\\x92\\xa2\\xb2\\x15\\x0f\\x83\\x98\\\\\\xd9\\x9e\\xd5\\xf3L\\xac\\xa4\\xa8\\x98\\x85\\x9e\\x1a\\xb8-\\x1a\\xa9\\xb2\\x1d\\x1av\\xd4\\xaf\\x97\\xe4).\\x92\\xeb\\xf7\\xfbM\\\\Q2\\x88\\xc9V\\xcf\\xd9\\xe9\\xac\\x1cK\\x8a\\x95Y\\xe8\\xc9\\xea\\x1d\\x13n\\x87\\xd6g\\xe6-I\\xccj\\x06\\xfaf+j\\x061\\xd9l\\xe7\\x89\\x1d\\xd7H\\x8a\\x9c\\x8d\\xce\\xc0\\xcc9\\x12\\xa7k\\x87x\\xcdl@\\xbfc\\x03H\\x1e\\x91eLr\\x89\\x00\\xe5#\\x9f\\xc8\\x9c\\xd1N]\\x8f)jf\\xa1k]\\x8f\\xaba\\x17f\\xe5\\xa3C\\xb6t\\x8e\\xf3u\\xfdD\\x9f\\x9a\\x01JfC\\xd40b\\xbc\\xc5\\x84\\xc9n\\xe7\\x8a\\x9d\\xca\\xce9\\xc2\\x9c\\x9b]\\xd9\\xb0\\xd5\\xfc\\xa7\\xf5\\xdfq\\xfa\\x1e\\xe7p\\x9ba\\x15,\\xb96D\\x15\\x82\\xf4\\x86AT*\\x04\\xed\\x10\\x93\\x1e\\xb11\\xc5\\xd4,\\xb4W>\\xad\\xac\\x1b4\\\\Q\\xe5+\\xb2V\\xbf\\xdf\\xed\\xe7\\x00\\xc6\\x85\\xdd[D\\xa9\\xee=\\xab\\x9d\\xbaO\\xb1\\xb5\\xf1\\xc4\\xd6h\\x89\\xed\\xd0\\xc8\\xcb\\x11CDOWd\\rb\\xb2\\xd9\\x92\\xad\\xb5\\xfct\\xccN\\xb15s\\x9cOK\\xad\\x03\\x93T\\x87\\xaehv\\xbf6D\\xb5rE\\xd80*\\xb5r\\xe9*\\xf3\\x0cu\\x18[\\xdd\\x95H\\xf8\\xbc\\x9d\\xb1\\x1d\\x86=\\xf5\\xee\\xc6\\xd8\\n\\xf5n\\xa0V\\xd1\\xf7[3\\xd0o\\xe6\\x10\\x95\\xec\\x96\\x9c\\xcd\\x12\\x9ezd\\xa7\\xbeS\\x9cm\\x9c\\x89P\\xb9\\x1a\\xf6\\xab\\xa5\\xb3?:\\xd1<\\xdcH\\x8e\\xf1kCT\\xe5+\\x02\\x87Q\\xa9\\x10\\xa4+\\xcd3\\xd4\\xab\\xfc\\x14\\x83\\x1b\\x9d\\xa6\\xd9,F\\x93\\xfay\\x7f\\x9a\\xc5PF+\\xfe\\x86Q\\xc9h\\xe9T\\xf3\\x8cv\\xd8\\xfa\\x98\"p\\x16z\"p\\xe3\\xb0\\xa3\\xcav\\x97\\x1b\\xee\\xc1\\\\\\xd7\\xf4\\xc5\\x8c\\xae\\xd8\\x1bF%\\xa3\\xa5k\\xcd3\\xda1z\\x9d\\xa2o\\x16z\\xea:e\\x88\\x15\\xed\\xc8f\\x88\\xab\\xd1\\xfa\\x01\\xb1\\xc1\\xb3D#\\x8f\\xc1\\xa8\\xd1jDi\\x93\\xc7sz\\xbe\\x93\\xafS\\xfc\\xcdBOU}\\x18v\\x1b\\xd5\\xc9=\\x1c\\x95\\xc0\\x92\\x8e\\xc5\\xb5J\\xcdIw\\x94\\x03\\x90f5D\\xa9\\x00\\xa4\\x93m\\x9d\"r\\x16\\xba\\x16\\xc0a\\xd8n\\x97<nE\\x8d\\xa0\\xedin\"\\xa1\\xa9\\xdf\\x13\\xad@\\x119\\x8cJ\\xad@\\x129\\xcfx\\xaf\\xed\\xe7\\xf66}\\x0bso\\\\}Y\\nq\\xebo\\xed,\\x8a\\xf6\\xfe\\x0cPe \\xf7:!*\\x95\\x81\\xde\\xee\\x9c\\xf3\\xd3\\x19\\xe9\\xd7)Vg\\xa1\\x9bo=\\xba\\x1d\\x1d\\xa2\\xc6\\xaf(]\\xfdx\\xbf\\xf1\\x03i#\\x9b%\\xa5\\xf3\\xcc\\xf4\\xea=E\\xe9\\xec\\xb8E[\\xbd\\xc5\\x81\\xbeA\\xc3\\x06\\xfbE\\xc8\\xecu=\\xb1q\\xb2\\x93F\\x00\\xc5\\xef &\\x8f\\x00\\x92\\xdfy\\xeez\\x15\\x9f\\xe2wk\\xe7wW\\xbc\\xbb\\xe0\\x90\\xed.D\\'\\x8d!\\xaa\\xc1+~\\x87Q\\xa9\\xf2%\\xbf\\xf3\\x0c\\xf5*?\\xc5\\xef\\xd6\\xee\\xe8\\xb2\\xb5)5\\xf8\\xe6\\x93\\xa3\\x13\\r\\x92\\xd1Y\\x8a\\xa2\\xcdCT2[2:\\xcfj\\xc7c\\xb1N1:\\x0b\\xed\\xde\\xa9\\xb5\\xa4\\xb5\\x1e\\x8e\\xda\\xbb\\xa4w5+\\xfd^\\x0fQ\\xa9\\x04$\\xbd\\xf3\\xdc\\xf4J E\\xef\\xd6\\'\\xff\\xdc!z%\\x1dZ\\x0fq\\xfe\\xbb6D\\xf4sE\\xf0 &\\xf7sI\\xf0Z~\\xceS\\x9dM\\x8a\\xe0Yh\\xdfm\\xd8\\x1d\\xd4$\\xe7\\xe1l=\\x13O\\x05\\xd4\\xef\\xf5gz@#\\xdf\\xc3\\xa8\\xb1\\xee\\x11\\xa5c.\\xd2_\\xb7I\\xf1=\\x0b=-\\xe2\\x0b\\xef):D\\xc7z\\xa4\\xb3\\xae~\\xbd\\xdb\\xe0\\x01\\xa4\\x9aG\\x94\\x8c\\x96\\xce\\xbaM\\x8a\\xe3Yh\\xef\\xf2\\xb4m\\xee\\x909l6@\\xffb\\xb7\\xaf\\x1f\\x14U\\xafH\\x1eF\\xa5\\xaa\\x97$\\xcf\\xb3\\xd7;\\xd0\\x95\"y\\x1b\\'yW\\xc3&\\x8e\\xf7\\x0e\\x8d\\xc36\\x1c+\\xb86D\\xd9\\xad\\x88\\x1dD\\x8d\\x1ejL\\x97*_z\\xeb6)^g\\xa1\\xa7\\xca\\xb7\\r\\xa6xf\\xc2!\\x1b\\xed\\xe2<W?!\\xaa[q;\\x88JfKj\\xe7\\xf9\\xe9\\xcc\\xeev\\x0c7\\xe1\\xb5\\xb2\\xd0\\xf3\\xba\\x86N\\xb49R\\x8655r\\xe9\\xac\\xab\\xdf\\xefwu\\xb5\\xbb\\n1i\\x0f\\xc6\\xf3\\xd3\\xb3:\\xc5\\xe56\\xee\\x90[\\rT\\xd73\\xb2\\x1d\\xa8\\xaa%\\x93\\xb3\\x04\\x85\\xd1K\\x90\\xaaZ\\x129\\xcfh\\x87\\xc0nRD\\xceB\\xfb\\xc4Fnx\\x87\\xe2\\xca\\xa5\\xa6/\\x9a\\xb7\\xa2q\\x10\\x95l\\x96,\\xce3\\xd3\\xab\\xe8\\x14\\x8b\\xdb\\xb8\\xf3\\x8d=\\xedG\\x87h\\x1e\\x93\\xc4\\xcd\"\\x89zV\\xfb\\xaa\\x10\\x93\\x1b\\xb7<\\xec\\xb6I\\xf16\\x0b=\\xcd\\xdd#7\\xee\\x19\\xa1\\xa6-\\xbdr\\xf5\\xe3\\xfd\\xfe\\xac\\xf6T!&\\x9b,\\x0f\\xbcmS\\x9c\\xcdBO\\x0b\\xd4\\xbd\\xb9g\\xc2\\x19\\xf3\\x06\\xd9Q8p\\\\EO|\\xfd`\\xbf\\xad\\x03\\x1aI\\x1b\\x80\\xb1\\xadc\\xbatVWr\\xb6m\\x8a\\xb3Yh\\xef\\xdfD_\\x1c\\x8a\\xfd\\xbb\\xa6/lV\\x9c\\r\\xa2\\x92\\xcd\\xf2\\xec\\x9bg\\xa6\\xd3\\xbf\\xb7)\\xcaf\\xa1\\xdd\\x05\\x1d)\\xc9\\xd1!#+\\xc1\\t]\\xbf \\xacV\\x1c\\r\\xa2\\x92\\xd5\\x92\\xa2\\xb5\\xectN\\xa1\\xa7(\\xda\\xf6t\\xc9\\x80Fr\\x87\\xcc%\\x1f\\xadV\\xfb\\xa9\\x16\\xab\\xdf\\xc7\\x01$\\xa3\\xa5\\xe3\\xad\\xe5\\xa6ct\\x8a\\xa0m\\xfd\\x18\\xbf\\x9d\\x88\\x8a\\xfeF\\x87\\xec$`4Z\\xb9\\xde,\\x960z\\t\\x92\\xd1\\x92\\x9eyn:s\\xf66E\\xcf,\\xf4L\\xcf\\x88\\x94:b\\'\\xa5\\xa8\\xa6%=\\xab\\xdf\\xef\\x0e\\xe7\\x00\\x92\\xd5\\xd2\\xd5\\xe6\\xf9\\xe9\\xf5\\xea\\x14=\\xdb\\xfa\\xf6\\xe4\\x96\\x8c;:d\\x9b,q\\tb\\x88\\xea\\xd6\\x8a\\xa0AT2[\\x12\\xb4\\x96\\x9fN\\x0bO\\x11\\xb4\\xad\\x134\\xdb9\\x97\\xd7\\xa6<\\x9c\\x1d\\x13\\xa2\\xcb&\\x92\\xb0Y<Q\\xf5K\\x90\\xca@\\x126\\xcfO\\xaf\\xeaS\\x84m\\xeb\\x07\\xcc\\xf6|\\xa1\\xa8A\\xb1\\x8fK\\xc2f\\x91\\x16\\xad\"L\\x80\\x7fF4\\xae\\xb9\\x11\\xa5\\xa9{\\xcei\\xaf\\x9b\\xa7(\\xdb\\xf6tCaCc\\x9b{\\xe1x\\x1aS\\x9e6KPT5\\xf0=\\xb2Zz\\xdaZN\\xcf\\xb7\\xf7]\\x8a\\xb5Y\\xe8i\\xf26\\'S\\\\\\x865h\\xb8\\x8a\\xa3[\\xfdD\\x7f\\xf6F4V7\\xa2\\xd1pDcu{\\x8e:\\x8d|\\x97bj\\x16\\xba\\x1a\\xbe\\xd9\\xb3w\\xcd\\xa1\\xddp\\x15\\xc9Z\\xfd\\x840\\\\\\x915\\x8cJvK\\xb6\\xd6\\xf2\\xda\\xa9\\xf0\\x14[\\xdb\\xf9\\xa12\\xbb\\xa9\\x10\\xf7\\x91\\x1c\\xb2-\\x14\\xbaQ&\\xe9\\x9a\\xc5\\x13\\xfd\\x1bQ2\\\\\\x12\\xb6\\x96\\xd9\\x8e\\xe1)\\xc2\\xb6s\\xc2\\xb6f\\xee\\xe2Pd.\\xf6\\xb3\\xaam@\\xa9\\x99\\xcb\\xadRL\\x99\\x9a\\xb9t\\xa9\\xedR\\x8c\\xcdB{\\xff\\xa6\\xf3\\x8e\\r\\xb2\\x0b\\xc2a8\\xaf\\x9f\\x10\\xcd\\x1cP2\\\\\\xee\\x97b\\xcad\\xb8\\xdfd\\xedTw\\x8a\\xb5\\xedN\\x17\\x16\\xb8\\x9d\\xb7\\x8b\\xa2<\\xb0I\\xdafI\\xaav\\x0e(\\xb5sI\\xdc<\\xb3\\x9dyl\\x97\"n\\x16z\\xaaq;\\xe1G\\x1d\\xdc9\\x9d\\x1d \\x895.\\x89[\\xcd@\\x97\\xaf\\x02H;\\x07\\x88R\\x85\\xbb\\x0f\\xb0S\\xe1)\\xe6\\xb6\\xf3=\\xd2\\x95m\\x88\\xa9\\x0b\\xef\\x1e\\xce\\xee\\x1b\\xc6E\\xa9!\\xaa\\xd9+\\xe6\\x86Q\\xa9\\xf2%uk\\x19\\xea\\x14B\\x8a\\xba\\xedN;\\xa6\\xf1\\xec\\xcb\\xd1!\\xf3H]\\xc9\\xed\\x13\\x0b\\xf7R\\n\\xf1\\x94\\x00\\x80\\xd1\\x07\\x03 \\xb7\\x04\\xb9i\\xdar\\xd7)\\x84\\x14\\x93\\xdb\\xb5\\x1b\\xa5t2\\xc8\\x11\\x9a\\xde\\x14\\x8d\\xb38\\xaa\\xd7K\\x1e\\x87q\\xa9\\xf5;\\xad<o\\xf3U\\x8a\\xc7Y\\xe8\\xc9\\xfbf\\xd3z\\xdc(n\\xd0\\xb0\\xc2M\\xf48\\xea\\xd7\\x0f\\xf6G}@c\\xcdc\\xd4\\xd8\\xfc\\x11\\x8d\\xa5\\xd0\\xb2\\xd7)\\x85\\x14\\xa9\\xbbr\\xf7\\x9b]\\xba\\x8d\\x1c\\xde\\xa1qX\\x85Q\\xf1\\xda\\x10e7\\xa0q\\xb6\\xc3\\xb8d\\xb8du-G\\x1d\\xc3S\\xac\\xee\\xea\\xe4\\x83\\xa3i\\xbeAt\\xd5\\xe5\\xda\\x10e\\xb8r\\xc2aT\\xb2[\\x92:\\xcfP\\x87\\xc5_\\xa5H\\x9d\\x85\\xf6\\xc9\\x8e\\xfa\\xbaC\\x91\\xc2\\xd7\\xf4O\\xad<\\x0eo\\x00R#\\x97\\x94\\x0e\\xa2\\x92\\xa3\\x9d2\\x83O$\\xa4(\\xdd\\x95\\xb3$\\xbbJ\\x1f7\\x87\\x1d\\xb2\\xb9-N\\xf0\\x86\\x08\\xb3%\\xa3\\x83\\xa84\\xac#J\\x9d[2\\xba\\xab\\x14\\xa3\\xb3\\xd0\\xd3\\x10g.\\xc6x1\\xd1\\xa18\\xa1\\xd7\\xf4\\xfbu-\\xd9\\x1cDe\\xa3%\\x9bk\\x19\\xedt\\xec\\x14\\x9b\\xbb:\\xddA\\x8d\\x8b\\xd1\\xa3C\\xb6\\xad\\x06\\xf39\\xddH\\xb5p\\xa2\\x14\\x14\\xb5\\x83\\x98\\\\\\x08\\xd2)\\xd7r\\xd7)\\x84\\x14\\xb5\\xbbr\\xa7\\xdc\\x8a\\xbcm\\xc7\\x06\\xd9[Q\\x81\\xd2\\x1a\\xa2F7\\xc5\\xe60*\\x8dn\\x92\\xcdy\\x86z\\xa3[\\x8a\\xcd]9\\x9b\\xfb\\xda\\xcd5\\x0fg\\x87#hN\\x97\\x8e9\\x8b\\'\\xa8\\r\\xa2T\\n\\x92\\xcey\\x8ez\\xa5\\x90\\xa2sW\\xee\\x98\\xbb\\x8a[\\x0bGGh\\xac\\x93{\\xa9\\x16\\xa9\\xbf\\x98\\x010\\x0e\\xa2o\\x11\\x8d\\x0fxQn`\\x8c\\xdf\\xa7\\xe8\\x9c\\x85\\x9e\\xc6\\xba\\x91\\x9coG\\x87\\xe2\\xbcV\\xd3\\xef\\xb37@\\xe3\\xc4\\x86QCi\\xbeE4\\x1a\\xdd2z\\xbe\\x9b\\xefS\\xec\\xcdB\\xfbdNKv\\x87\\xac8\"w\\xaf\\x9f\\x10v+\\x97\\x1cF%\\xbb!a\\xb2[\\xdek\\xd8\\xa7\\xc8\\x9b\\x85\\x9e\\xec\\xb6=\\x078\\xd9\\x16)\\xac\\x87\\xa3\\x9a\\x974\\xaef\\xe5\\xa5|\"\\x7fE\\x94\\x8a\\x00\\xe2R\\x11\\xc8\\xeb\\xa9\\xfb\\x14\\x8f\\xb3\\xd0S\\x11\\xec\\xe8e\\xb6\\xa3C\\xebx\\x92\\xe2\\xba~A\\xd4\\xbc\\xdaN\\xc5\\xa8d6$LfK\\xef\\xdc>E\\xe5,\\xf4dv\\xf5Y\\xe0\\xf4ul\\x10\\xbd=q]?\\xd1e5\\x00RG\\x07\\x9eGf\\x03Jf{V;\\x1d=\\xc5\\xe4\\xf6\\xee\\x80\\xb3\\x1d\\xf2\\xc8\\xe4\\x1c\\x8a\\x93\\xb9\\xfd\\xac\\xeaZR9\\x8cKVC\\\\\\xb2Z>\\xe4\\xb6OQ9\\x0b=U\\xf6\\x96\\x1c\\xaeG\\x87lq:\\xca\\x032\\xf5\\x83\\xa2\\xc9+.\\x87Q\\xa9\\x14 a*\\x05yUu\\x9f\\xe2r\\x16\\xba\\x96\\xc2\\xfa\\xcc\\xa3*\\x0em\\x87\\x12\\xafp\\xd4O\\xf4\\x9b\\xbc\\xa2r\\x10\\x93&tD\\xc9l\\xfd\\xd0[\\x8a\\xca\\xedO\\x97SW\\xd1?\\xe3P\\xdc}\\xb0\\x9fU]\\xabCp\\x18\\x95\\xea\\x1a\\x12&\\xa3\\xe5)\\xb8}\\x8a\\xb9Y\\xe8\\xa9\\xc5\\xdb\\x1e\\x1b\\xf5\\xf3x\\xf2l~\\x86\\xb3\\xa6/\\x1a\\xb8\\xa2n\\x18\\x95\\x8c\\x86\\x84\\xc9\\xe8xU\\x16\\xdf\\xb9KQ\\xb7\\x83S7~\\xaa\\xf0\\xe8\\xd0v\\xd8\\xc7\\xf1\\xcd\\x10a7\\xa0qP\\xc7\\xa8\\xd1nD\\xa3\\xdd-\\xaf\\xe7\\x07\\xf5C\\x8a\\xbdY\\xe8\\x89\\xb2\\x96\\xa1D\\xb7\\x84C\\x91\\xb8\\xd4\\xf4\\xfb\\x95\\r(\\x19\\rQ\\xc9hI\\xddZF;F\\xa7\\xa8\\xdb\\xc19\\xd0\\x9e\\x1f\\x92q\\x88\\x8c\\x96l\\xcd\"\\t\\xb6\\x86h(\\xe5\\xb7\\x88FOL\\xcbi\\xc7\\xea\\x14[;8\\x05\\xb2\\xbd\\x84\\xb8\\xc5\\xe4\\x10?\\x9fc\\x80\\xaal\\xc5\\xd60*\\x99-O\\xbf\\xb5\\xacv\\xccN\\xb1\\xb5\\xc3L\\x81\\xb6\\xf4P\\xca\\xd1\\x91\\xb86\\xb1\\x9f\\xfb\\xd3\\x16\\x80%\\x12sD\\xc9fy\\xf8\\xcds\\xd3Y|\\x1fRT\\xcdB;1\\x8fW\\x10\\x8e\\x0e\\xf1]\\xfb\\xfa\\x85\\xeel\\r \\x9b\\rl\\x8c\\xcc\\x96n7\\xcfO\\xcf\\xec\\x14W;8\\xe3\\xb1\\x05g\\x183\\x8f\\x0e\\xd9)\\t\\x1a\\xc4\\x95\\xa3\\xcd\\xa2\\xbd\\x14\\n\\rg@\\xbf\\xc8l\\xe9hkY\\xed\\xb4\\xf0\\x149;8\\xe3Y\\x11\\x05;6\\xc8\\x0e\\xc5\\x80\\xbb1:_,\\x9c\\xea\\xe7\\x80R\\xa3\\x07\\x94\\x8aA\\xfa\\xddZ\\xfe:\\xc5\\x90\"k\\x07\\xe7@\\xe6q\\x8a\\xbc\\xc5!\\xb2Z\\x925\\x8b\\xa4Fu@\\xc9j\\xe9gk9\\xedX\\x9dbk\\x87\\xd3S\"DQ\\x1bD\\x07\\xe0\\x0cP\\xb5-\\xb7N1.\\xd9-\\x8f\\xc0y\\x86:}\\xbd\\xacR\\x8c\\xad\\x06w\\xeaB\\xdb\\x86\\r\\x8b\\xd3\\xf8\\xf4\\x89>y\\tpl\\xe8\\x01\\x8e\\xb6\\x078N\\xe5\\xa7\\xfc\\x9e\\xaf\\xf5\\xb2J\\xf1\\xb6\\x1a|\\x1a\\xe2m6\\x8f\\xc4\\xed\\x84Q\\xc5O\\x1fQ\\xf6+\\xc7[\\x88\\xcc\\xe6\\xcb}\\xd3\\x96\\xa9n\\xe5\\xa7\\x18\\\\Y\\xb9\\xf7\\xcd.\\xd9\\xc5\\xa1\\xbea|\\x7f\\xa1\"\\xfd9\\x0eQ\\x9a\\xe4\\x02\\xcc\\xe6\\xcb\\xed\\xd3S\\xa6z\\xb5\\x9f\\xa2re\\xe5\\x9e\\xb7\\xed\\xb0\\x8ec]\\xc3\\xb8\\xed\\xab=\\xd4\\x1aK\\x8cv\\x01f\\xe3%\\x9dkY\\xea\\xd6}\\x8a\\xd0\\x95\\xd5\\xcc\\xe86\\xc4a\\x8e\\r:W\\xf5\\x8a\\xd5\\xd5x\\xd2zy<.\\xc4\\xe6\\x8e/e\\x14\\xca*E\\xedjp\\xdfd\\xe0\\xa7\\x8c\\x1d3\\xafk\\xdcR\\x9a\\xbe\\xd2\\xa5w\\x88\\x9ei\\xfa\\xf2\\x94\\\\\\x88\\xcd\\xf6Kw\\\\Y\\xa58^\\r\\xeegf\\xe2{\\xb6V\\xfd3v\\xe61\\xc8\\xe9+\\xc2~\\xc5\\xf30.\\xed\\xa8\\x06\\x98\\xcd\\x97~\\xb8\\xb2Jq\\xbd\\x1a\\xdc\\xfd\\x91k\\x1e\\xf7\\x1d\\xe3\\x93\\x82\\xd3W\\xd4\\xc0/\\x19^\\x88\\x1d7\\x15\\x03\\xcc\\x05\\xa0\\x1f\\xfc]\\xa5X^\\xb1\\xe0^\\xff\\xb4\\x8cm\\x98\\xd5\\xff\\x16<\\xb2\\xa1\\xa4\\xaek@\\xc1\\x80\\x02\\xcc<\\x00bsqH\\xf2w2\\xa07\\x13\\xa4\\xe8_Y\\xb9\\x13\\xcc\\xceW\\xc4\\x9d\\xa7\\x86m\\xe8\\xd0\\xb8\\x15\\x80\\xa4\\x80\\x01\\xe6\\x02\\x90\\xe7\\xe7Bln\\x0f\\xd2oW\\x92\\x8a\\rM\\x97\\xc1\\xdc\\x95ku\\x82\\xb4\\xa6;\\xf9\\xb0\\xf9f\\xc4\\xf4I\\xd1;\\xb4\\x84\\x03\\xca4Pk\\xf8\\x8a\\x8a\\xc3\\xd7d\\x1cr\\xac\\xd0\\xd5\\x1a\\xec\\xf1\\xf3\\xf8\\xb6\\xca\\xb18\\x16\\x17A\\xf5wA\\x8aP\\xe5\\x81Z\\x02\\xc2l\\xbc\\xe6\\x84\\x9e\\xa5\\x1e/\\xa8z\\t\\t\\xed\\x8e\\xa6\\xd9\\x10,4\\xcbg\\xb2H\\x8c\\xe8+R\\x0e\\x00\\xc7\\xc5\\x7fMt1\\x84\\xb0\\xe5\\x9a\\x0e~E\\xcf\\xa1*#d,\\x9f\\xe9\\xa0\\xad|\\x89\\x0c\\xbb\\x8aBtr\\x15-\\xe9\\xa05\\x1dP\\xb7\\x81M\\xd7d\\x90r\\x04n\\xfbR\\xa5\\x132\\xa6;\\xb9\\xb2ko\\xa4\\xe1\\xe1R\\n\\xdc\\xe2\\x81\\xce\\xc5\\xb7c\\xa7\\x1c\\x9cF\\x03\\xae\\xf7e\\xe4x\\xdd\\x0f\\xe3\\xf2k\\xe8\\x9e\\xa3\\x97\\x96\\x18l\\xcfQA\\xd7p\\x18\\xed\\xe5\\x15\\xaew\\']\\xf6\\xe2\\x8c\\xdc\\x9c,\\xa8\\xcc\\xc0\\x85\\xb1\\xa4~\\\\\\x18K\\x94\\x0bCz\\xfe\\xea\\x97\\xa7\\x99\\xbc3\\x11Ve\\x85LC8]}\\x8d\\xa7Ml\\x00p^\\x18\\x0e\\x9b\\xd5\\xdf\\xd5\\xd0\\'I\\xa1\\x16~\\x00\\xf4L;\\x90W(J\\x15P\\xc8\\x98~zHX\\xbf\\xb8V\\xd3\\x9d\\xa7\\xc0\\xe8\\x04\\x9d\\xbe\\xd8\\xa7\\xc7Z\\n\\x02Pn\\x04\\xd2\\x01\\xd8\\xb2\\xd4\\x9d\\x02r\\xe4\\xd0\\xf5 \\xc6\\xc3@/\\xaf\\x15\\xc7\\xec\\x949\\tB\\xa0t\\x03\\xf7\\x01\\xb5m[\\xd3}iDl\\xbe&\\x83\\x9e\\xa9\\x97!*\\x0c\\x0892\\xd8\\x84!\\xce\\x88\\x05\\x94\\x86\\xb1S\\x08\\x14\\x1cH\\x0fC+C\\xa0\\xfaC\\xdc\\xd2\\xab\\x1f]L\\x92q#\\xb3\\xe5\\xa9W\\xf9U\\x9f!\\xd1\\r\\x9a>\\x84\\xb9\\xc4\\xe2n}i\\xd8@\\x0bc\\xa9\\x10Q\\xe3\\xf57\\x00\\x10\\xa5s\\n\\x01&\\xeb=O]\\xebs\\xd4\\xaf\\tE\\xf0\\xe2\\xf7X\\x1avF\\x02\\x06\\x14\\x1d\\xa8\\xf2\\xa5TDMvQ\\xbbT\\xf9\\x08\\xb3\\xf9~\\x97\\xb73\\xfcW\\xf9\\x86L\\xe5\\x9f\\x1c\\x82\\xf4\\xa4vq\\x8d\\x883\\x0f\\x0eVH-\\x04\\x01\\xa6\\xd9\\x0f#\\xb3\\xfd\\xf2 \\xde)W=\\xfbs\\x14\\xd0\\xf5 \\x8a\\xf9~\\x02!\\xb3\\xeawo!\\x1d\\xdc\\xba\\xae\\x90\\x98\\x01\\xa5Z\\x04\\xc6=\\xd3\\xfa\\xe5\\x81\\xbc\\x96\\xa9n\\xeb\\xcf\\xd1\\xc0&\\x19ak]r\\x8b\\x9c4#h\\xd6C\\xe5\\x07\\x1a\\xf7\\x01\\xe6\\xda\\x97\\xe7\\xf2\\n\\xa6\\xcd\\xad_\\xde\\xb1(U\\x9b!\\xd3\\xfa}\\xc3\\xd7N\\xa9\\x11\\x13t\\xa9\\x86\\xd0*\\xac\\xea\\xe5\\xe9<\\x84\\xd9x\\x88\\xccM_\\x9e\\xcf\\xabi+\\xe6\\x97\\x93\\x8f(\\xae\\xc9Pl\\xdc\\'gx\\xd3k\\x18\\xb6l\\xbf$\\x7fRA\\xa2~R\\x8e|\\xf2`^\\xcbp\\xb7\\xe9\\xe7\\xd8_\\x93\\x870\\xf9\\x8cp\\x1a\\xb54\\xa1\\x06z\\xde\\xa7\"\\xaa\\xdf\\xab\\xc3y\\x18\\xf7L\\xbf\\x07\\xc2\\xc7\\r\\x7f\\xe6\\xa0/\\xbd\\x14\\x19O\\x95h\\xc84\\xfc\\xd9\\x1bh\\xcf\\x97\\xf1\\xa8\\xd7\\x04\\xc0\\xd8\\x19\\xae%$\\n\\xc0\\xdc\\xf4\\x81\\xd1q\\xd3\\x97\\x07\\xf5j\\xda\\xb2\\xe9\\xe7\\x08_\\x13\\x920\\xa1a\\xb6\\xff\\xbc\\x92D\\x01=\\x08\\x9e\\xf1\\xd5i=\\x8c{\\xa6\\xea5\\xdd\\xd3j\\x12%\\'\\'Q\\x83O\\x9ep\\xdb\\x02\\xa4\\x86\\xdf\\xb4&\\xe2\\x82\\x0ft\\x1f\\xc8v@\\xa9\\xdeQ3\\x82\\xea\\x1daj\\xf6\\x94#l\\xf69Q\\x89\\xe2j\\x11\\xe3\\xc8\\x929\\'l({ye\\xbc\\x06T\\xdcG\\xaaK\\x84\\xc8\\\\\\x1a\\xf20_\\xcbc\\xcf\\x0f\\x92S\\x98(\\xae\\xd4P\\x0e_yD\\xe0\\x14\\x90\\xd7@Zc\\xa2F\\x14\\xcb\\x00\\x8c\\xcce\\xa1y\\xa0\\xd6\\x99(U\\xf9!1 6\\x05\\x89s\\x9a\\xb6\\'u\\x89\\xa8\\x8cy=}\\xa5\\xbf\\xfe\\x07\\xf5\\t\\xee\\x18@\\xf4\\xd8|\\xcd\\x03[\\xa6:48\\xa71Q\\x9a\\xc8\\x84\\x9dg%w`\\xc3\\xce\\xd4\\xbe\\xdc\\x1c\\x96J\\x13\\xf5\\x8b\\x8a\\n \\xcc\\xc3\\x82\\xa6\\x81U\\xc2!S\\xf9N\\x03\\xedv)\\xb1\\xe0\\xa67AC\\xa2:\\xf7W@C\\x82k^\\xb3@\\x14\\xa0`\\xdb5\\x0b\\xac2\\x0e\\x19\\xdb\\xfd\\xa2\\x86\\xed\\x03\\xed\\x94``y\\xd1\\x9c\\xa0\\xf5\\x00(G\\xf0\\xf4 \\xfd\\x81\\xa8:\\xc1\\xbd@SB\\xad;Q\\xaa\\xf0C\\xa6,f\\x8ee\\xac\\x88\\xf6\\x04]\\xe9\\xc1^\\x0ec\\xeb%\\'\\x94\\xda\\x13S\\x06_v\\xd0\\xd8z\\xcd\\t\\x9bRFo\\x0c\\xc8q\\xc2&@qN\\x14\\xb6#:Q@W\\x82k^:\\x00!.\\x93\"\\x84\\xb9\\x17hBX\\xc5\\x1d25\\xef\\xc7\\x017\\xf4P\\x8ei{w\\x08\\xa1T\\x9e\\xa8\\xb1\\xd4\\xd4\\x07\\x8c\\x8f\\xeb]\\x13B\\xca\\x11\\x92\\xa2\\x9c\\xfcDi\\xfa\\x134\\xf45\\xc1\\x898\\xf4i\\xb9\\x89\\x9a\\xdebd\\xa7\\xadO\\x84\\xc9t\\x84\\xa9\\xda)O\\xc1\\xf4\\x9c\\xf3\\xcf\\xa5%\\xcc\\xfbC\\xd78\\x8ac|(\\xda\\x04\\xce\\xe5\\xd6\\xaf\\x94\\x9e\\xc0\\xb8\\xdc\\xeaQ|\\x82\\xcd\\x977qKN~\\xa2\\x06\\x9f\\x96\\x02\\xa6\\xbc@\\xb3~Sx\\xe0Y\\x1ft#\\xa8\\xcf\\x03J3\\x1fjNp\\xe5k\\xca\\xd7D1:\\xe3]\\xd5nH\\xf4y\\x17\\x97\\xb0\\xcbyx\\x0f\\x91\\x8bb\\xf6\\x03\\xda\\x13\\x89\\xd4\\x13\\xe4=\\x8f\\x02b\\x12\\\\\\x16\\x9a\\xff\\xa1\\x12\\x05\\xb7\\x04\\xcfT\\xaf,r~@Wx\\xd8\\x18\\xff\\x8b\\x97\\\\\\x8ac4\\xefi-\\x8a\\x1aM\\x0c\\x80\\x18\\x99\\x1b\\x02\\xb0C6\\xde/\\xa7\\xf4\\x8c\\xcf\\xd1\\xbf&\\xf4pe\\xe7\\x9f\\xa2+\\xc816^\\xd2?)IQPv\\x82m\\xd7N@\\xcfQ\\xcf\\x11T\\x85!2\\x9d\\xc0\\xe9\\xdf\\xee\\xcc\\xe6\\x8fkA\\x18+\\x86\\xadpzA\\xb1\\x80\\x18\\x05\\x8f\\x08\\x92\\xffA\\xdc3\\xe3\\xa1\\xe6\\x7f-\\x8b\\xbd\\x86\\x90\\xe3\\x7f.\\x04Q\\xd5\\x06\\xa9\\x1d\\xb43\\x82\\xdc\\x12$\\xfd\\x03Y\\n\\x1e\\x02\\x80\\xdfqK\\xd0\\xf4O\\xebV\\x94*\\x00\\x91i\\t\\xee\\xf7\\xdb\\xd31\\xc8cMj\\x9a(\\x86xx\\xd2\\xe6\\xc2%\\xc7\\xe3\\xba\\x97\\x0c\\x10%*\\xd8|\\xed\\x12\\xf4L\\xf5\\x9c!9\\r\\x8b\\xe2\"\\x16\\xa5\\x0c{\\x9e\\x00\\xda\\x93\\xc8;:\\x0b\\x05\\x92\\x13l\\xbe$\\x81(W\\xc1\\xe6k\\x12\\xe8\\x19\\xeey\\xc3sz\\x16\\xc5U+\\x0e\\xc3\\x15\\xbc\\'I\\xaf\\xc0\\xb7\\x80\\xa6FKe\\xa1\\x15-jL1!`d*\\x0c\\x84iBh\\xa2\\x1b\\x9dq \\xa7kQ\\\\0\\xc2\\x1e\\x15\\xa5u iI\\xccW\\xb9k\\x14\\xe5\\x14\\x04\\x98\\x86\\x01\\x8c\\xcc\\xb6k\\xa7\\xa0\\x96\\xb7(9}\\x8b\\x1a|\\xea\\xea\\xb6\\x1fN\\xfd\\xa0\\xabp1}D\\x9c\\x04\\x05\\x19\\x0b6\\x7f\\xc9\\xfa\\xe8$\\x08\\xaag\\xd0\\xa9X-sQ\\xaa\\x96Db\\x10lB\\x17\\xb6 \\xa0\\xb3\\x10\\xa4-\\xd1\\xaa^\\x93@)u1\\xe5\\xefTpl\\xbb>\\x12\\xa8\\xd5.J\\xd5\\x9b\\xc8\\xd8\\xee\\x8f\\x9e\\xd8qH\\xed\\tr\\xbd\\t[\\x19\\x85\\xa6z=}R\\xb5\\x03\\xc9\\tA\\x1f\\x83\\xcb\\x02(!\\xb7\\x03}[$\\xa7\\x82Q\\x9a\\xb8\\x84m\\x10\\x11\\x15 \\xe1\\x89\\xd6\\x0e\\xf4\\xc6\\xb0\\xd4\\xc1\\xa8\\x1f\\x14\\xa7\\xa1\\x00\\xe5cq\\x9e\\xa3\\x97\\xda\\xc0EqU\\x9b\\xc8\\xb4\\x03\\xa7\\x84u.\\x884\\xa8\\te\\xc4\\x85\\x90\\xd6\\xc2(\\x00s\\xff_r<\\xaew`\\x80\\\\\\xef\\xf1\\x8cb\\xb0=\\xc7\\x00\\x9b\\xb2\\x84m\\ns\\xbd\\xcf\\x14\\xd0^l\\xe1f/9\\xa0\\x94\\xc1(\\x80\\xb2\\xf5\\xfa\\x18\\xa0\\xe7\\xf7%\\xaf\\xc1\\xfa\\x1c\\x05t\\xc1\\x0b\\x93\\t\\xe0]\\x00\\xc7\\x88\\xfe\\xa2f\\x05\\x9d\\x05\\x01\\x98k^\\x9e\\x01\\xd4r\\x18\\xc5s\\xd4[\\x08UE\\x8aL\\xabo\\x17B\\xa8\\xc9\\xb7\\x07\\x96\\xe3\\xe5x\\x1b\\xed\\x96\\x0c\\x8d\\xc8\\x9f\\x94\\xc4\\xc0\\xb8\\\\\\xed\\xc0\\xfd\\xb8\\xd1\\xc7\\x07e\\xb0\\xdas\\xaa\\x18\\xa5i_\\xac\\x875-\\xfe\\x9b\\n\\xc5\\xb0\\xa3\\xa3\\xf0 _A\\xd6\\x03J\\x15\\x0f(Y\\xaf\\x851Z~{\\xcc7\\'\\x8dQ\\\\o\\xa2\\xd8\\nX\\x8a\\xe0\\xb4\\x80t F\\xebd\\xd4h\\x82\\xf6\\x02\\xca\\x05\\xa1\\xef\\x81h\\xa9\\x8cR\\xc5(\\x12=\\xa0\\xe9O\\x98\\xc2S\\xec\\x03\\'\\xb1\\x0c\\xea\\xfe(xA\\xdd\\x1f`n\\x05\\x92\\xf8a\\xd2\\xd4\\x07<O\\xbdI\\xaf\\xaaNd\\x8c\\xf7\\xb3~\\xf6J\\x1b\\xf9\\xc1\\x9bb\\x06\\xbbB\\xb5hF\\x01\\x98\\xad_\\x92;\\xaezM\\xfdH\\xc5#\\x8c\\x009\\xea\\xd7\\xd41vgn\\xc39\\xc6\\xcd^n\\xfe\\x82\\xf6\\x05\\x9b./\\x83h\\xdd\\x8c\\xe2\\x19\\xea\\xad\\xfb\\xabpE\\xa6\\xe2}\\xef\\xf7\\x8cRJq\\xa5\\n6]3=\\x90\\xce`\\xdb%\\xd3C\\xd9\\rn\\xf4z\\xef7\\'\\x9eQ\\x16\\xea\\x19\\xf6\\xcc\\xc2\\xcb\\x1f:\\x13\\xe5\\x01i\\xc5\\x0f\\x82\\x17<\\x05\\x00s\\xa3\\x8d \\x88\\xcc\\xed_\\xd3>\\xcfQw\\x0e\\xc8\\xd1\\xbe&\\xa7q\\xee<\\xd8IB\\x83\\xcf\\xc3i\\r\\x8d\\x020\\xb7\\x83%\\xb3c\\xf35\\xef\\xd32\\x1a\\xa5\\x8aSd\\xfa\\xc0\\xe9np\\x14\\x899\\xd6\\xa4\\xa6\\x83w_\\x13\"\\x9f\\xbe)\\x96~RL\\x03#sa\\xe8\\xcb ZN\\xa3T]\\x8aLa8\\xdf3\\x0f\\x17y\\x7f\\\\R\\xc3\\x9aI\\\\\\x00\\xa1\\xf8\\x05\\xcf\\x83\\xd2\\x11\\x08\\x91\\xd9z\\xcd\\x05[\\x9e:\\xae\\xaf\\x9c\\xb2Fq\\x81\\x8ab\\xaf\\x8f\\x13\\x17l\\xd8\\x19.\\x08\\xaa\\x174\\x10\\xa0&\\x06\\r\\x04ZP\\xa3fi\\xe1Z\\xa3!QKj\\x94*Z\\x91\\xa8\\xfd&\\xaaaW\\x81\\xc8\\x01D\\x1a\\x16\\xbe\\xf0\\x07]\\x0c6\\x1e8\\x1c\\x1b\\x0fp\\x18y\\xdfN\\xd9\\x7f\\xe9Ul\\xbc\\xde\\x0f\\xae\\xca\\x15\\x19\\xe3g\\xdf\\xdfv\\xc5\\xaaa\\xa5)k\\x84,\\\\W@y>\\x11f\\xf3\\xf5u`\\x8c\\xcd\\xe6\\xc7\\x1b\\xca\\xc8\\x82r\\xf2\\x1a\\xa5\\xe9k\\xd8\\x93\\x95\\xd4\\xf3\\x9b\\xa6\\x05\\x1d\\x14\\xb0\\x02\\xd0\\xfe?\\x84\\xb9\\x00 6\\xd7\\xbf\\xa6\\x81\\x9e\\xad\\xde4X\\xf5*2\\xf5?\\xfb\\xd0\\xce\\xdd\\x87v\\xb1\\rs~\\xd0\\xd0\\x87\\xa2\\x184\\xf4!\\xcc\\xf6K*\\xa8\\x057JS\\x07\\xe9\\x8d}9*\\xe8R\\x16k\\xdb\\x02\\xa2\\x15P\\xc3\\xectp\\x1c\\xfaQ=\\x83\\xed\\x07\\xb2\\xc8\\xf6K:\\x88is\\xfb\\xd7t\\xb0JZd\\xaa\\xff\\xb4\\x17\\xbc\\'\\x06\\xe8\\n\\x17\\xe4\\xf9B\\xd5\\x0c6^S@\\x88M\\x13\\x1f\\xa6\\xcd\\xc6\\xeb\\x07b\\xaa\\xaeE\\xc6x\\xbf\\xe3;\\x0e<\\xef\\xb5\\xeb\\xbf\\x85| Zw\\xa3 \\xccu/) Ff\\xf3\\xf5\\xf30U\\xd0\"c\\xfeI}c\\xcf\\xf6\\xc7\\xa3vm\\xde\\x03Z\\xc6u\\x0f0\\x1b/}\\x7f\\xa8\\xc7\\xc1\\xc6\\xeb\\xd3\\x7fU\\xbb\"c\\xfc\\xe9\\xf4\\x1f\\xdf\\x84j\\x82\\x1c\\xd4\\xeb\\x81\\x95\\xb1\\xf1\\x00\\xb3\\xf1K\\x98\\x1b\\xbef|\\x94%\\x9c\\xf5r\\xe2\\x1bv\\xdba\"\\xf8\\x87(\\xe0~l\\x08\\xf5y\\x10\\xc9 \\xbe\\x83\\x12\\x1ad9\\xc0d9F\\xa6j\\xd7\\x02\\x1c%\\xa7\\xc0Q\\x83O\\xd7\\xfa7\\xc6\\xf5\\x96\\xcb_\"~- m\\x06]O\\x9f\\x14\\xab\\x1eT\\xdd\\xe0\\xc2X\\x92?.\\x0c\\xed\\xfdk2!\\x9d\\xc9/\\'\\xcbQ\\x9a\\xde\\x86\\x15\\x06M~\\r;s\\x11\\x1655\\xa8\\x1bhA\\x8e\\xfaQ\\xb1\\xeb\\x85\\x91\\xb91\\xcc\\xe4\\xaf\\xe7\\x00\\xccir\\x14W\\xde\\xb0GA\\xd6\\\\\\xff\\xb3spKEc\\xf5\\xaf\\xc9\\x1f\\xc2\\\\\\xff\\xd2\\x05\\x88\\x91\\xd9~\\xa9\\xcdQr\\xe2\\x1c5x\\xed\\x0c\\x1b{\\x1a\\x91\\xeb\\xdf\\xf7Vy\\xd9\\x0b\\n\\x1cqz\\xfca\\xca\\xc3K\\xef`\\xf3%\\xf7\\xc3\\xb4\\xd9|\\xbd\\xe1[\\x850\\x12S\\x80KqX\\xf5\\xf3\\xd6\\x97c\\xbb3\\xe6kG \\x8aq\\xb0\\xf9\\x92\\xfaad6\\x7f\\xa6~\\xdd\\xd6\\x9f\\xa3~\\xae\\xc9\\xb1\\xb1e?\\xbc{C\\x1b\\xc0\\x1e0\\xd8b\\xfd\\x00\\x88\\x1e\\x8f\\x03\\x9a\\x07Bl\\x1e\\x07\\xb5+\\xb0\\xe9\\x89\\xf4\\xc6\\xc1\\x1c\\x0ft]\\x8e\\xd1\\x1c\\x00D\\x84\\x9afG\\xe4\\x02\\xa8\\xac\\xc1\\xc6/i\\x1e\\xf9\\x01!2\\xdb\\xae\\xfd\\x80\\x94\\xa3@\\x05r$\\xb0\\x89s\\xac\\x98\\x03;\\xc4O\\xdd\\x17\\xd0\\xdf`6\\xa0I Df\\xe3\\xb5\\xdf\\xaf\\xe5\\xa9W\\xf19\\x12\\xe8\\xfa\\x1d\\xeb\\xd5\\x99\\x97\\x81\\x1d\\xa3\\x8d\\x00\\xad\\xe0Q\\x10\\xe6\\xfe/I F\\xe6\\xfe?s\\xd6\\xde\\xce\\x7f\\x95\\xc2H\\x0c\\x7f\\xae\\x8dQl\\xe7\\x1f\\xdf\\xbd\\x8a;\\x81\\x1e\\xf0L;\\x00\\xf1\\rj\\x07(\\xcdAE\\x010\\xb5\\x03\\x8cLE\\xd1\\xf2\\xd4i\\x079e\\x8f\\xd2\\x143l& \\xe3\\xe3\\xd3+\\xbe\\x10\\xd2\\xda\\x1e5Eu!\\x06`\\xb6]\\x93@R\\x1b\\xc1\\x01\\xa0\\xcadd\\x9a\\x81\\x1f\\xfe3\\xa6C\\x83\\x9fkj\\xd0\\xee\\xf0uA-\\x0e\\x1a\\xfe\\xb4\\xcc\\x07\\xc6f\\xf3\\xf5{\\x80Z\\xe8\\xa3T1\\x8d\\x8c\\xf9\\xbe\\tl\\xa7\\x7fP=\\x9a\\x1a\\xc2\\x1c\\xd0n\\x8b\\x1d\\xa4>\\xc0\\x94\\x81\\xfe\\xfd`\\xd4\\xfa\\xe0N\\xa1/\\x88`l:\\x12\\xab\\xc5@J\\xd5\\xdc\\xc8\\x14\\x8d_\\xb8\\xdd\\x9bl\\x1f\\x95\\x86c\\xc3\\x96\\x1e\\x8cEe\\x0fn\\x1ap\\xa6\\x8f\\x0b@\\xdf\\x11\\xc6\\xc4\\xb9\\x00\\xf4\\x1d\\xe1\\x9c4Hi\\xda \\xdb3\\xaf\\xa541\\x0eS4\\x8b\\xd4\\x00\\x15@\\xb8\\x00\\xb4s\\x10c\\xd3\\xc1`\\x84\\xb9\\x00\\xb4w\\xb0\\x8atdZ\\xc0\\xc9;\\xb8\\x85#\\xe2\\x81\\xd0\\x1c\\x8bkt\\x90\\xdb\\x00DAx\\xad\\x800\\xb7\\x05 \\x81\\\\\\x14\\xfa\\x9e\\x88\\xd6\\r)U\\xc7#S\\x14\\xb3\\xeb\\xcd\\xce\\x87\\xd3Y\\x11W\\xe6(\\xd4Ml\\x98\\x04*\\xc7MA\\xb2D\\x8c\\xcc\\xe6\\xeb\\x9b\"\\x9e\\xab\\xde6A\\x95\\xec\\xc8\\x98\\xef\\xbeB\\xbb(\\xcccA\\xc7W\\x88\\xaa l\\xbc\\xa6\\x89\\x18\\x9b\\xad\\xd7\\x17E\\xb4nH\\xa9\\xd2\\x1c\\x19\\xeb\\xfd\\xec\\x9d\\xf1\\x03&\\x08\\x91\\x945\\x82 \\x0f\\n\\xa26\\x08\\xb7|\\xf0\\x06\\xb2\\xf1\\x00\\xf3  \\x8f\\n\\x9a\\x9av\\xc6\\xf8\\x1a|\\xba\\x1d\\x10]$\\r\\x88\\xe3\\xdf\\x94~w\\x02D\\x94\\xde\\xcf\\x0fp\\xb4<\\xc0\\xd1r\\xce\\x12P\\xa31\\'\\x1cR\\x83\\xcf\\x96\\xf3\\xa5\\x90\\x86\\xb1\\xf1\\xf2R\\xc8\\x94\\x83\\xbew$\\xc0l\\xbd\\xbc\\x15\\xc2y\\n\\xd6\\xa7\\x88\\xe1\\xd8tC\\xf6|(\\xa2aq\\xbc\\xaf\\xbf\\x8b\\x8d\\xe1\\x00\\xc7V\\x1f`\\xb6^\\xde\\x14nyzI5X\\x9f\\xe2\\x85c\\x93\\r\\xe1\\x1b\\x0f\\xc7\\x86\\x99\\x9a)R\\xc6\\xb8MX\\x03\\xf6\\x9f\\x0eC\\xf4LO\\x90T0\\xc4\\xe6\\x9e =\\x85cU\\xf1\\xf8\\xf6\\x01\\xb0\\x06\\xef\\x8c\\x01\\x91p\\xcd\\xa3\\xdf\\x94\\xbe\\x18\\x03$\\x07\\xc4\\xc8t?4\\xc0l\\xb9\\xe4\\x80cNC\\xa4\\x06\\x9f,\\xdf\\xd9Ai\\xf8\\x13\\x18q\\x0b\\xc8z*\\xd3\\x17EYH:\\x88\\x91\\xcf\\x94\\x85\\xbc8|\\xca\\xd4\\xf9e\\xf2\\x98\\xd3\\x13\\xa9\\xc1\\xa7sa\\xe61\\xe4\\xc9\\xe0\\xfc\\xbb\\xd1\\xd3\\'\\xfa\\x9b%\\x01\\xe6\\x11A2\\xc0\\x10\\x9b[\\x82\\xbc\\'2\\xe6\\xe4Djpo\\t\\xf4rB\\xc3L3/zI\\xa7\\xaf\\x88\\xda\\x07\\x12\\xc7\\xf6\\x03\\xcc#\\xa2\\xa4\\x80\\xa7\\\\\\xf5j?E\\x01\\xc7\\xa6&b>\\xf1\\xe8(h\\x98\\xbd\\xa8\\x1a\\xb7\\xcb+$\\xa7\\x04\\xc9\\x02C\\xecxT&\\xc0\\xd1Kt\\xcaV\\xaf\\x00R,pt\\xfd\\x90\\xb5M\\x88p;>:\\xccO\\x01\\xc3\\xc2\\xb0\\xfe.\\x8bB\\xee\\x1f\\x87\\xd8\\\\\\x14r\\x03\\xb9\\xe5\\xa9\\xb3w0\\xe6\\x94Dj\\xf0i$\\xb0w4\\xc8\\xfa\\x86}M\\xeb{\\xfa\\xa6\\x18\\x1aP\\r\\x84\\xba\\x86\\xd6\\x12\\t\\x89S\\xcb\\xd0Z\"c\\xd5\\xeaHL\\x8fMK\\xc4\\xc8B\\\\\\x1d\\xd6\\xa4\\xfc0-\\r\\rRNd\\xca\\x83\\xa0\\x8aZN$\\xc4f\\xfb\\xe5!\\xc21\\'\\'R\\x83O\\xbb\\xea\\xaba\\xc5\\xf6\\xbb\\x82p\\xec\\x0cZQd\\xca\\x81\\xb2^\\x9e!\\x0c\\xb1\\xd9zy\\x86p\\xccI\\x8a\\xd4\\xe0S\\r\\xdb\\x19B\\x1a\\x18\\x1d\\xb33t\\xd1O6}E5\\x7f\\xa0\\x7f\\xdc\\xfc\\xe5\\x19\\xc2\\x908\\x17\\x80;3;\\x03cNXdl\\xe2!\\xf6\\x88\\x06\\xf1\\x02\\xc7B\\xc1\\\\\\xd78j,\\x048\\xee\\x9f\\x85\\xc84\\x14b\\xdal\\xbco{\\xf7\\x8cO\\xed\"\\x8f.\\xcda\\xefI\\x9d\\x19\\nO\\xca\"\\xd4\\xfa\\x97\\xbc-\\xee\\x9c\\xd44\\xc5\\xeeA\\x80\\xd9|\\x88\\xcd\\xe6K\\x17\\xe1\\x98\\xd3\\x12\\xa9\\xc1\\xa7\\xc6\\x7f\\xe6\\xfeh\\xc3x\\x13}\\xfaH\\x9f\\x14\\xa1\"\\x087} \\x85l\\xbe\\xdc:n\\x99\\xea-\\x13sz\"\\xa3\\xcb\\x84\\xd8\\x83\\xda\\xdc\\xf5\\xdb\\xf31p\\xcff\\x15\\x15X\\xad+,Y\\x1c\\xb7\\x05\\xcd\\x10!2\\t\\xeea\\xdat\\x8b\\xbce\\xbf\\xe3$\\x1c\\xab^Gf\\x1atG\\xa0\\xb5\\x85x\\x9e\\xa4&5M\\x11\\xd4\\x114=D\\xb9\\x11n\\n\\x10\\x9b\\x9b\\x82\\xdcLny\\xea\\xec\\xa7\\x8eU\\x91#c\\xbd\\x9f(\\xb4\\xdd2n\\x0b\\xed5\\x99x\\x92z\\xfa\\x88\\x9a\\x054\\'D\\xd1\\x10\\xb6_sB\\xd79\\xe9\\xd5~NSdt\\x8d\\x8e+z\"\\xe2\\xd8\\xa03\\x1e\\xf2\\n\\xa9y\\x00a\\xaa\\x7f\\x84\\xc9~\\x84i$\\xd4\\xaa\"c\\x15\\xe5H\\xd4\\xbf+\\x87\\xd8a\\x82\\xb8L\\xb7\\x02\\xf0c\\x87\\xc3\\x8a&B\\xa9*2\\xe5A\\xd0 \\xd4\\ra\\xfb\\xe5Fr\\xcbUoM\\x90\\x93\\x15\\x19]:\\xc4\\x86BzX\\xb1a\\xf6\\xac\\x18\\xec\\x9d\\xd2\\xdeY\\r(\\x9b\\x03\\xc0\\xdc\\x1c\\x00\\x8e\\xd2\\xbb!qr\\x174\\xed\\x93\\x0e/\\xa8\\n\\x1f\\x99\\xe6\\xe0\\x1b\\xcbgTFFW\\x199#>[!\\xe12\\x04\\x94]\\x86\\x08\\xb3\\xfd\\xc0\\x19\\xd9~\\xed2\\xac*\\x1d\\x19\\xfbg\\x96e\\x0f\\xeb\\xc6\\xdd\\xc2\\xb1)\\x90\\xb0\\xc6N\\x85d\\xfdk\\xc7!\\xc6f\\xfb!6\\xdb\\xefN\\xce^\\xfd\\xe7x\\xa1\\x0bw\\x14\\xd3\\x19\\xe1\\x02\\x98)\\x18-\\x08Ag\\x84\\x98\\x00\\xa0\\xc4\\x89Q\\xa3\\x84m\\xd7\\x8eB\\xcfm\\x8f\\x15\\xe5dF\\xc6&3r\\xb6\\xed\\xfb\\x9e2\\xb5\\x8b\\xeb\\x1aMV\\xbe<P\\x18bs\\x01\\xc8\\xdd\\xe2\\x96\\xe5\\xee\\\\\\x98\\xda-\\x1e]M\\xc4\\x1e\\x98\\xe0EA\\x13!\\xa1\\xa3\\xa55\\x96\\xea\\xfb\\x9a\\x08B\\xe48\\x02\\xbf\\xc5\\xb4#=\\xfb\\xb1e\\xb8k~\\x8e\\x08\\xbar\\x87\\xdd(\\x8d\\xf3\\x9dM\\x85\\xe7w\\x8b\\xeb\\xef\\xcax\\xed&D\\x95\\x12\\xae{\\xb9Y\\xccY\\xc2\\x9d\\xa3\\xaa\\x02\\x92\\x19\\xf8\\xfcU\\x19;TH,\\xd8e=\\xb8\\xe3k\\xcf \\xe8\\x90p\\xcf\\x87\\xc8L\\x024\\t\\xf4,\\xf5H@NidlJ#\\xb6\\x1a\\xa6Q\\xaf\\xe9z\\x98\\xfb4\\xae\\x02P\\x11$\\x1e\\x15\\xa8\\xa9\\xbe\\xb4\\r\\xb2\\x1f#\\x93\\xfd\\x08\\x13\\t\\xd4j#cNm\\xa4\\x06\\x9f\\x96\\xc3F\\x82BF\\x8e\\'l\\xd8\\xd3F!\\x08\\x88\\xd0\\xc0\\x8f\\xea#\\xc4z\\x10f\\xfb5\\tl9\\xee\\xccz9}\\x91\\xb1)t\\xd8S\\x82\\xf1\\xa4\\xc4\\t\\xa3\\xca\\xd7\\x9c\\x0f%C\\xd8z\\xed\\t\\xc4\\xd8\\\\\\xfb\\xf2B\\xc9\\x98S\\x14\\xa9\\xc1\\xa7-\\xa23g)\\x1bF]\\x1f\\x04C\\xe8\\x88\\xd4\\x94\\x03\\xb1\\x00\\xc0\\xd8\\\\\\xf7\\xf2*1\\xe7\\t\\x07\\xbe\\x9c\\xa0\\xc8\\xf8\"(\\x12\\x1f\\x8e\\xb2\\xb6\\xdf\\xae\\x93\\xc4\\xe7\\xa6\\xae+\\xa4f}))\\x12\"\\xb3\\xfd\\x906\\xd7\\xbe\\xde*\\xceI\\x8a\\x8c.\\x1bb\\xb3\\x1e=\\xa2w\\xc2\\xe8\\xd5u\\xb3_^(A\\x98\\xc7>\\x88\\xcc\\xf6kW \\t\\x9d\\x84\\xfaO\\x9d\\x16\\x1c]\\x98\\xc3\\x18/o\\x0f7%\\x11\\xea\\xfb\\x9a\\xf2\\xa1R\\x08\\xf7}\\xed\\t\\xc4\\xd8\\\\\\xfb\\xf22\\xf1\\x98\\x13\\x12\\xa9\\xc1\\xa7\\xbeo\\x9c\\x87\\xb6\\xc4\\xfaJ\"\\xd3W\\x84\\xffGJ\\x89\\x84\\xc8\\\\\\xfb\\xf2\"I\\xcbq\\x8f\\xf3U1\\x8e\\x04\\xediR\"\\xf6\\x9aV<\\x1a\\xd1 \\xaa|\\xed\\xfbC5\\x10\\xae|\\xed\\xfb\\xc3\\xd8\\\\\\xf9\\xf26\\xf1\\x98\\xd3\\x12\\xa9\\xc1\\'\\xef\\xa6\\x89\\x8c\\xd1\\x0e\\x88c,\\xb3d]_\\xd3>\\x84\\xb9\\x004\\xef\\xc3\\xd8\\\\\\x00Q\\xe2\\x04\\xfb~NPdt\\x8d\\x8e\\xb5\\xed\\x81Q\\x018f\\xb7LC\\xc7\\xb8\\xae\\xd1\\x04\\xe9\\x07\\x94\\x86>T\\r\\xa1\\xc6\\x8f0\\x99\\xdf2\\xdc\\xa1=U\\x93#\\xd1\\xf8\\x9bp\\x88\\xc9\\xaa\\xb1\\xf93%4?\\x00\\xd1^T\\xfe \\xda+UEF\\x8c\\xcc\\xf6k\\xda\\xe79\\xee-\\xf8s\\xaa\"cS\\xe9\\xb8\\xa2\\xb72\\x8e\\',\\xf6~\\xa9)Rc\\xa9-0\\x84\\xd9xy\\x85\\x84\\xb3\\x14\\xda~\\xce\\xd3\\xe7\\xa2\"\\xa60\\x18\\x1b\\xb8\\x19\\x1f}j~>\\x0e\\x95>\\xb8\\xe6\\xf5\\xe6/\\xc6f\\xeb5\\xeb\\xa3<\\x05\\xebs~>\\x97\\n)W\\xac\\xaf86l\\xa0wT+\\xa4X\\x9fT\\x12\\t\\x91\\xd9~\\xcd\\xfa<W\\xbdy\\xafJud\\xba\\xbe\\x1f\\x10\\xb4SA\\xb4\\xe2u\\xdd\\x0e\\xe2\\xfc\\xa0\\x06B\\xcb=\\xa9$2j%\\x91\\x00\\xf3\\xb0w~\\xf3\\xf7\\xf2\\xe9\\xc3\\xdd\\xdd\\xf3\\x0f7\\xcf7o^\\x7f\\xb9\\xf9\\xf9\\xee_n\\x1e\\x7f\\xbe\\xff\\xfc\\xf4\\xea\\xe3\\xdd{#\\'Fh/^=\\xde\\xff\\xfc\\xa1\\xfd\\xf7\\xf3\\xc3\\x97\\xe9W+\\xa9\\x9f\\x1e\\x9e\\x9f\\x1f>\\xb5\\xbf}\\xb8\\xbbyw\\xf7X\\xfffM\\xf0\\xfd\\xc3\\xc3s\\xfb\\xcb\\xe5\\x9b\\xd7\\x97\\xbf?<\\xfe2}\\xe7\\xcd\\xff\\x03\\x00\\x00\\xff\\xff\\x03\\x00PK\\x03\\x04\\x14\\x00\\x06\\x00\\x08\\x00\\x00\\x00!\\x00?\\x85\\xb6\\xbd*\\x04\\x00\\x00u\\r\\x00\\x00\\x18\\x00\\x00\\x00xl/worksheets/sheet2.xml\\x9c\\x97m\\x8f\\xa36\\x10\\xc7\\xdfW\\xeaw\\xa0~uWi\\x03\\x86\\x90\\x07\\x94\\xe4\\xb4\\xdd\\x87\\xebJw\\xa7\\xd3]{}\\xed\\x05\\'\\xb1\\x1605N\\xb2i\\xd5\\xef\\xde\\x19\\x130\\xb0\\xc9mrQB\\x80q\\xfe\\xbf\\x19{<Lf\\xef\\x9e\\xb3\\xd4\\xd9rU\\n\\x99\\xcf\\t\\x1dx\\xc4\\xe1y,\\x13\\x91\\xaf\\xe6\\xe4\\xcf?\\xee\\xaf&\\xc4)5\\xcb\\x13\\x96\\xca\\x9c\\xcf\\xc9\\x9e\\x97\\xe4\\xdd\\xe2\\xe7\\x9ff;\\xa9\\x9e\\xca5\\xe7\\xda\\x01\\x85\\xbc\\x9c\\x93\\xb5\\xd6E\\xe4\\xbae\\xbc\\xe6\\x19+\\x07\\xb2\\xe09X\\x96ReL\\xc3\\xa5Z\\xb9e\\xa18K\\xcc\\x8f\\xb2\\xd4\\xf5=o\\xe4fL\\xe4\\xa4R\\x88\\xd49\\x1ar\\xb9\\x141\\xbf\\x95\\xf1&\\xe3\\xb9\\xaeD\\x14O\\x99\\x06\\xff\\xcb\\xb5(\\xcaZ-\\x8b\\xcf\\x91\\xcb\\x98z\\xda\\x14W\\xb1\\xcc\\n\\x90x\\x14\\xa9\\xd0{#J\\x9c,\\x8e\\x1eV\\xb9T\\xec1\\x85\\xb8\\x9f\\xe9\\x90\\xc5\\xce\\xb3\\x82\\xb7\\x0f\\x9f\\xa0\\xc6\\x98\\xfb/H\\x99\\x88\\x95,\\xe5R\\x0f@\\xd9\\xad|~\\x19\\xfe\\xd4\\x9d\\xba,n\\x94^\\xc6\\x7f\\x96\\x0c\\x1d\\xba\\x8ao\\x05.\\xa0\\x95\\xf2\\x7f\\xcc%\\x1a6Z\\xbe\\x15\\x0b~Pl\\xd4\\x88\\xe1t\\xa9h#\\x929\\xf9\\xd7;\\xbc\\xae\\xe0\\x9b\\xe2\\xc1\\xbb\\xf2(\\x1eZ\\xaf\\xff\\xc8b\\x96\\x08Xa\\x8c\\xcaQ|9\\'\\xd7~t\\xefS\\xe2.f&\\x81\\xbe\\t\\xbe+[\\xe7N\\xb9\\x96\\xbb\\xf7J$\\x1fD\\xce!\\x1b!\\x8f\\xb5,>\\xf0\\xa5\\xbe\\xe1i\\n?\\xa7\\x948\\xffH\\x99}\\x8d\\x19\\xae\\'\\xa50\\xa2\\xb9\\xfe\\x84Y\\n\\xa3\\xcc]\\xcc\\xecG)\\x9f\\x10\\xf1\\x00\\x1e{\\xe0L\\xc9S\\x1ec\\x8e9\\x0c\\xbe\\xb6\\xbc\\x12\\xbd\\x03\\x87\\x9c\\xf2o\\xe3\\x1f\\x9c\\xd7\\x0e\\xba\\x8d\\x87\\x8b\\x99=\\xaf\\xbd\\xbd7;\\xe2\\xb3r\\x12\\xbed\\x9bT\\x7f\\x91\\xbb\\xdf\\xb9X\\xad5\\xe0C\\x98\\'L\\xb4(\\xd9\\xdf\\xf22\\x86\\x0c\\x07\\xfc\\xc0\\x0f1\\xecX\\xa6 \\x01G\\'\\x13\\xb8U!C\\xd9\\xb3\\xf9\\xde\\x89D\\xaf\\xe7d8\\x08\\xc7^@a4\\xec\\xd8\\xbd\\t\\x928\\xf1\\xa6\\xd42\\xfb\\xab\\x1aa\\xa6\\xcf\\xad\\x84\\x8c\\x8f\\xb7L\\xb3\\xc5L\\xc9\\x9d\\x03\\xc9\\x07+^\\x16\\x0c\\xb72\\x8d\\xe0\\xdc8\\xe4\\x0f\\xc6 W\\x894^\\x1eu2\\x80Y\\x8aQ\\xe67\\xd41j\\xe0|\\tw\\xb7\\x0b\\x7f:s\\xb70\\x171|\\x00\\xd6\\x10!-\\xda\\xc4\\xe3\\xa1\\x1fd\\xafq0\\x86\\x8b\\x82\\xb4\\xd1\\xab\\x90`k`t|\\x1c6\\xbc\\x04\\x86\\x83k\\x98\\xdf\\x83\\x81\\xcd\\xc2ND\\x86k\\xd0\\x9a\\xcb\\xefG\\x86\\x83kX\\xd0\\x83\\x81\\xcd\\xc2&\\xc7#\\x1b]\\x02\\xc3\\xc15l\\xd8\\x83\\x81\\xcd\\xae\\x99w\\x1c6\\xbe\\x04\\x86\\x83kX\\xd8\\x83\\x81\\xcd\\xc2\\xec\\x82v\\x12\\x04\\x1f>gO#\\x0e\\xaea\\xa3\\x1e\\x0cl\\x16f\\x17\\xb4\\x03\\x9b^\\x02\\xc3\\xc15\\xcc&\\\\\\x95\\x8d`\\xb30\\xbb\\xa0\\x1d\\x18\\x96\\x9f\\xf3C3\\xa3k\\x9c\\xcd\\x82\\n\\x87F\\xcb\\xb3k\\xda\\xe5a\\xa5:{*\\xb1X6\\xe1\\xd9\\x14?\\xf0\\xc0hyvY\\xbb\\xbc^5\\xf9\\xfe\\x0e\\xa0U\\xcd8ln\\x9by\\x07 X-\\xd0.m\\x17xQ1\\xa1\\x9dj\\xd2/\\'h\\xb5\\xc0\\x13\\xf5\\x84^TP\\xcc\\xe8\\xa6|\\xf5K\\nZ\\x1b`pb\\xe7\\xe1\\xd3\\xe1\\x82%lW\\x15\\xda/+\\xa8e\\x81\\'v\\x1f\\xbd\\xa8\\xb0\\x98\\xd1M\\x84\\xfd\\xd2\\x82V\\x0b<\\xb1\\x03i\\xbb\\xb8\\xc0\\x0f^I\\x9avu\\xa1\\xfd\\xf2\\x82Z\\x16xj\\x17\\xb6\\x0b\\xcc\\xeb\\xc0v\\x85\\xa1\\xfd\\x12C;5\\xe6D\\xa9\\xa6\\xed\"\\xf3:\\xb0]eZ\\xcf\\xb5\\xc3\\xb6h\\xd7\\x99\\xe0\\xc4\\xbe7\\x1dJ\\xbd\\xef_\\x03b?\\xb3\\x98-q\\xde\\x98RlO\\xaa\\xd6\\xcb\\xdc\\xbe\\xfev\\xf7\\xe5\\xfa\\xfd\\xdd\\x9b7\\x1a\\x9a\\xec_n\\xfc\\xe8\\xc6\\x1f\\x86sr\\x0f\\xcd~\\xca\\xc9\\xdb_\\xe9\\xdb\\x99\\xbb\\xc4g\\xb37\\x08\\xc2Q\\x18\\x8e\\x83\\xf1\\xd8\\x1bN\\xe9\\xc4k\\xb9f\\x1c\\xc76\\xee\\x08\\xc5\\xdc\\xeeRn\\xfd\\xe8\\xd6P>\\xc9.aD\\'\\x93\\x10,S\\x8f\\x8e\\x82i0\\xec\\'p\\xd5uU\\xddM\\xc1V\\xfc#S+\\x91\\x97N\\n\\xfd vT\\x90\\x1b\\xaaj\\xb9\\xcc9t\\x8a\\xe6.l\\x8aG\\xa9\\xa1_\\xaa\\xaf\\xd6\\xf0\\x7f\\x85CO\\x031\\x11g)\\xa5\\xae/\\xa0\\x1fC\\xdd\\xaf\\\\o\\nG*\\x01\\x9d\\x9a\\xf9\\x0b2\\'\\x85TZ1\\xa1\\x81\\x10a\\xbf\\xab\\x1e\\x92\\xaa\\xedj\\xfe0-\\xfe\\x07\\x00\\x00\\xff\\xff\\x03\\x00PK\\x03\\x04\\x14\\x00\\x06\\x00\\x08\\x00\\x00\\x00!\\x00\\xc1\\x17\\x10\\xbeN\\x07\\x00\\x00\\xc6 \\x00\\x00\\x13\\x00\\x00\\x00xl/theme/theme1.xml\\xecY\\xcd\\x8b\\x1b7\\x14\\xbf\\x17\\xfa?\\x0csw\\xfc5\\xe3\\x8f%\\xde\\xe0\\xcfl\\x93\\xdd$d\\x9d\\x94\\x1c\\xb5\\xb6\\xecQV32\\x92\\xbc\\x1b\\x13\\x02%9\\xf5R(\\xa4\\xa5\\x97Bo=\\x94\\xd2@\\x03\\r\\xbd\\xf4\\x8f\\t$\\xb4\\xe9\\x1f\\xd1\\'\\xcd\\xd8#\\xad\\xe5$\\x9blJZv\\r\\x8bG\\xfe\\xbd\\xa7\\xa7\\xf7\\x9e~z\\xf3t\\xf1\\xd2\\xbd\\x98zG\\x98\\x0b\\xc2\\x92\\x96_\\xbeP\\xf2=\\x9c\\x8c\\xd8\\x98$\\xd3\\x96\\x7fk8(4|OH\\x94\\x8c\\x11e\\tn\\xf9\\x0b,\\xfcK\\xdb\\x9f~r\\x11m\\xc9\\x08\\xc7\\xd8\\x03\\xf9Dl\\xa1\\x96\\x1fI9\\xdb*\\x16\\xc5\\x08\\x86\\x91\\xb8\\xc0f8\\x81\\xdf&\\x8c\\xc7H\\xc2#\\x9f\\x16\\xc7\\x1c\\x1d\\x83\\xde\\x98\\x16+\\xa5R\\xad\\x18#\\x92\\xf8^\\x82bP{}2!#\\xec\\r\\x95J\\x7f{\\xa9\\xbcO\\xe11\\x91B\\r\\x8c(\\xdfW\\xaa\\xb1%\\xa1\\xb1\\xe3\\xc3\\xb2B\\x88\\x85\\xe8R\\xee\\x1d!\\xda\\xf2a\\x9e1;\\x1e\\xe2{\\xd2\\xf7(\\x12\\x12~h\\xf9%\\xfd\\xe7\\x17\\xb7/\\x16\\xd1V&D\\xe5\\x06YCn\\xa0\\xff2\\xb9L`|X\\xd1s\\xf2\\xe9\\xc1j\\xd2 \\x08\\x83Z{\\xa5_\\x03\\xa8\\\\\\xc7\\xf5\\xeb\\xfdZ\\xbf\\xb6\\xd2\\xa7\\x01h4\\x82\\x95\\xa6\\xb6\\xd8:\\xeb\\x95n\\x90a\\rP\\xfa\\xd5\\xa1\\xbbW\\xefU\\xcb\\x16\\xde\\xd0_]\\xb3\\xb9\\x1d\\xaa\\x8f\\x85\\xd7\\xa0T\\x7f\\xb0\\x86\\x1f\\x0c\\xba\\xe0E\\x0b\\xafA)>\\\\\\xc3\\x87\\x9df\\xa7g\\xeb\\xd7\\xa0\\x14_[\\xc3\\xd7K\\xed^P\\xb7\\xf4kPDIr\\xb8\\x86.\\x85\\xb5jw\\xb9\\xda\\x15d\\xc2\\xe8\\x8e\\x13\\xde\\x0c\\x83A\\xbd\\x92)\\xcfQ\\x90\\r\\xab\\xecRSLX\"7\\xe5Z\\x8c\\xee2>\\x00\\x80\\x02R$I\\xe2\\xc9\\xc5\\x0cO\\xd0\\x08\\xb2\\xb8\\x8b(9\\xe0\\xc4\\xdb%\\xd3\\x08\\x12o\\x86\\x12&`\\xb8T)\\rJU\\xf8\\xaf>\\x81\\xfe\\xa6#\\x8a\\xb602\\xa4\\x95]`\\x89X\\x1bR\\xf6xb\\xc4\\xc9L\\xb6\\xfc+\\xa0\\xd57 /\\x9e={\\xfe\\xf0\\xe9\\xf3\\x87\\xbf=\\x7f\\xf4\\xe8\\xf9\\xc3_\\xb2\\xb9\\xb5*Kn\\x07%SS\\xee\\xd5\\x8f_\\xff\\xfd\\xfd\\x17\\xde_\\xbf\\xfe\\xf0\\xea\\xf17\\xe9\\xd4\\'\\xf1\\xc2\\xc4\\xbf\\xfc\\xf9\\xcb\\x97\\xbf\\xff\\xf1:\\xf5\\xb0\\xe2\\xdc\\x15/\\xbe}\\xf2\\xf2\\xe9\\x93\\x17\\xdf}\\xf5\\xe7O\\x8f\\x1d\\xda\\xdb\\x1c\\x1d\\x98\\xf0!\\x89\\xb1\\xf0\\xae\\xe1c\\xef&\\x8ba\\x81\\x0e\\xfb\\xf1\\x01?\\x9d\\xc40B\\xc4\\x92@\\x11\\xe8v\\xa8\\xee\\xcb\\xc8\\x02^[ \\xea\\xc2u\\xb0\\xed\\xc2\\xdb\\x1cX\\xc6\\x05\\xbc<\\xbfk\\xd9\\xba\\x1f\\xf1\\xb9$\\x8e\\x99\\xafF\\xb1\\x05\\xdcc\\x8cv\\x18w:\\xe0\\xaa\\x9a\\xcb\\xf0\\xf0p\\x9eL\\xdd\\x93\\xf3\\xb9\\x89\\xbb\\x89\\xd0\\x91k\\xee.J\\xac\\x00\\xf7\\xe73\\xa0W\\xe2R\\xd9\\x8d\\xb0e\\xe6\\r\\x8a\\x12\\x89\\xa68\\xc1\\xd2S\\xbf\\xb1C\\x8c\\x1d\\xab\\xbbC\\x88\\xe5\\xd7=2\\xe2L\\xb0\\x89\\xf4\\xee\\x10\\xaf\\x83\\x88\\xd3%Cr`%R.\\xb4Cb\\x88\\xcb\\xc2e \\x84\\xda\\xf2\\xcd\\xdem\\xaf\\xc3\\xa8k\\xd5=|d#a[ \\xea0~\\x88\\xa9\\xe5\\xc6\\xcbh.Q\\xecR9D15\\x1d\\xbe\\x8bd\\xe42r\\x7f\\xc1G&\\xae/$Dz\\x8a)\\xf3\\xfac,\\x84K\\xe6:\\x87\\xf5\\x1aA\\xbf\\n\\x0c\\xe3\\x0e\\xfb\\x1e]\\xc46\\x92Kr\\xe8\\xd2\\xb9\\x8b\\x183\\x91=v\\xd8\\x8dP<s\\xdaL\\x92\\xc8\\xc4~&\\x0e!E\\x91w\\x83I\\x17|\\x8f\\xd9;D=C\\x1cP\\xb21\\xdc\\xb7\\t\\xb6\\xc2\\xfdf\"\\xb8\\x05\\xe4j\\x9a\\x94\\'\\x88\\xfae\\xce\\x1d\\xb1\\xbc\\x8c\\x99\\xbd\\x1f\\x17t\\x82\\xb0\\x8be\\xda<\\xb6\\xd8\\xb5\\xcd\\x893;:\\xf3\\xa9\\x95\\xda\\xbb\\x18St\\x8c\\xc6\\x18{\\xb7>sX\\xd0a3\\xcb\\xe7\\xb9\\xd1W\"`\\x95\\x1d\\xecJ\\xac+\\xc8\\xceU\\xf5\\x9c`\\x01e\\x92\\xaak\\xd6)r\\x97\\x08+e\\xf7\\xf1\\x94m\\xb0goq\\x82x\\x16(\\x89\\x11\\xdf\\xa4\\xf9\\x1aD\\xddJ]8\\xe5\\x9cTz\\x9d\\x8e\\x0eM\\xe05\\x02\\xe5\\x1f\\xe4\\x8b\\xd3)\\xd7\\x05\\xe80\\x92\\xbb\\xbfI\\xeb\\x8d\\x08Yg\\x97z\\x16\\xee|]p+~o\\xb3\\xc7`_\\xde=\\xed\\xbe\\x04\\x19|j\\x19 \\xf6\\xb7\\xf6\\xcd\\x10Qk\\x82<a\\x86\\x08\\n\\x0c\\x17\\xdd\\x82\\x88\\x15\\xfe\\\\D\\x9d\\xabZl\\xee\\x94\\x9b\\xd8\\x9b6\\x0f\\x03\\x14FV\\xbd\\x13\\x93\\xe4\\x8d\\xc5\\xcf\\x89\\xb2\\'\\xfcw\\xca\\x1ew\\x01s\\x06\\x05\\x8f[\\xf1\\xfb\\x94:\\x9b(e\\xe7D\\x81\\xb3\\t\\xf7\\x1f,kzh\\x9e\\xdc\\xc0p\\x92\\xacs\\xd6yUs^\\xd5\\xf8\\xff\\xfb\\xaaf\\xd3^>\\xafe\\xcek\\x99\\xf3Z\\xc6\\xf5\\xf6\\xf5Aj\\x99\\xbc|\\x81\\xca&\\xef\\xf2\\xe8\\x9eO\\xbc\\xb1\\xe53!\\x94\\xee\\xcb\\x05\\xc5\\xbbBw}\\x04\\xbc\\xd1\\x8c\\x070\\xa8\\xdbQ\\xba\\'\\xb9j\\x01\\xce\"\\xf8\\x9a5\\x98,\\xdc\\x94#-\\xe3q&?\\'2\\xda\\x8f\\xd0\\x0cZCe\\xdd\\xc0\\x9c\\x8aL\\xf5Tx3&\\xa0c\\xa4\\x87u+\\x15\\x9f\\xd0\\xad\\xfbN\\xf3x\\x8f\\x8d\\xd3Ng\\xb9\\xac\\xba\\x9a\\xa9\\x0b\\x05\\x92\\xf9x)\\\\\\x8dC\\x97J\\xa6\\xe8Z=\\xef\\xde\\xad\\xd4\\xeb~\\xe8TwY\\x97\\x06(\\xd9\\xd3\\x18aLf\\x1bQu\\x18Q_\\x0eB\\x14^g\\x84^\\xd9\\x99X\\xd1tX\\xd1P\\xea\\x97\\xa1ZFq\\xe5\\n0m\\x15\\x15x\\xe5\\xf6\\xe0E\\xbd\\xe5\\x87A\\xdaA\\x86f\\x1c\\x94\\xe7c\\x15\\xa7\\xb4\\x99\\xbc\\x8c\\xae\\n\\xce\\x99Fz\\x933\\xa9\\x99\\x01Pb/3 \\x8ftS\\xd9\\xbaqyjui\\xaa\\xbdE\\xa4-#\\x8ct\\xb3\\x8d0\\xd20\\x82\\x17\\xe1,;\\xcd\\x96\\xfbY\\xc6\\xba\\x99\\x87\\xd42O\\xb9b\\xb9\\x1br3\\xea\\x8d\\x0f\\x11kE\"\\'\\xb8\\x81&&S\\xd0\\xc4;n\\xf9\\xb5j\\x08\\xb7*#4k\\xf9\\x13\\xe8\\x18\\xc3\\xd7x\\x06\\xb9#\\xd4[\\x17\\xa2S\\xb8v\\x19I\\x9en\\xf8wa\\x96\\x19\\x17\\xb2\\x87D\\x94:\\\\\\x93N\\xca\\x061\\x91\\x98{\\x94\\xc4-_-\\x7f\\x95\\r4\\xd1\\x1c\\xa2m+W\\x80\\x10>Z\\xe3\\x9a@+\\x1f\\x9bq\\x10t;\\xc8x2\\xc1#i\\x86\\xdd\\x18Q\\x9eN\\x1f\\x81\\xe1S\\xaep\\xfe\\xaa\\xc5\\xdf\\x1d\\xac$\\xd9\\x1c\\xc2\\xbd\\x1f\\x8d\\x8f\\xbd\\x03:\\xe77\\x11\\xa4XX/+\\x07\\x8e\\x89\\x80\\x8b\\x83r\\xea\\xcd1\\x81\\x9b\\xb0\\x15\\x91\\xe5\\xf9w\\xe2`\\xcah\\xd7\\xbc\\x8a\\xd29\\x94\\x8e#:\\x8bPv\\xa2\\x98d\\x9e\\xc25\\x89\\xae\\xcc\\xd1O+\\x1f\\x18O\\xd9\\x9a\\xc1\\xa1\\xeb.<\\x98\\xaa\\x03\\xf6\\xbdO\\xdd7\\x1f\\xd5\\xcas\\x06i\\xe6g\\xa6\\xc5*\\xea\\xd4t\\x93\\xe9\\x87;\\xe4\\r\\xab\\xf2C\\xd4\\xb2*\\xa5n\\xfdN-r\\xaek.\\xb9\\x0e\\x12\\xd5yJ\\xbc\\xe1\\xd4}\\x8b\\x03\\xc10-\\x9f\\xcc2MY\\xbcN\\xc3\\x8a\\xb3\\xb3Q\\xdb\\xb43,\\x08\\x0cO\\xd46\\xf8muF8=\\xf1\\xae\\'?\\xc8\\x9d\\xccZu@,\\xebJ\\x9d\\xf8\\xfa\\xca\\xdc\\xbc\\xd5f\\x07w\\x81<zp\\x7f8\\xa7R\\xe8PBo\\x97#(\\xfa\\xd2\\x1b\\xc8\\x946`\\x8b\\xdc\\x93Y\\x8d\\x08\\xdf\\xbc9\\'-\\xff~)l\\x07\\xddJ\\xd8-\\x94\\x1aa\\xbf\\x10T\\x83R\\xa1\\x11\\xb6\\xab\\x85v\\x18V\\xcb\\xfd\\xb0\\\\\\xeau*\\x0f\\xe0`\\x91Q\\\\\\x0e\\xd3\\xeb\\xfa\\x01\\\\a\\xd0Evi\\xaf\\xc7\\xd7.\\xee\\xe3\\xe5-\\xcd\\x85\\x11\\x8b\\x8bL_\\xcc\\x17\\xb5\\xe1\\xfa\\xe2\\xbe\\\\\\xd9|q\\xef\\x11 \\x9d\\xfb\\xb5\\xca\\xa0Ymvj\\x85f\\xb5=(\\x04\\xbdN\\xa3\\xd0\\xec\\xd6:\\x85^\\xad[\\xef\\rz\\xdd\\xb0\\xd1\\x1c<\\xf0\\xbd#\\r\\x0e\\xda\\xd5nP\\xeb7\\n\\xb5r\\xb7[\\x08j%e~\\xa3Y\\xa8\\x07\\x95J;\\xa8\\xb7\\x1b\\xfd\\xa0\\xfd +c`\\xe5)}d\\xbe\\x00\\xf7j\\xbb\\xb6\\xff\\x01\\x00\\x00\\xff\\xff\\x03\\x00PK\\x03\\x04\\x14\\x00\\x06\\x00\\x08\\x00\\x00\\x00!\\x00$7\\x1e.\\x9d\\x08\\x00\\x00\\x83B\\x00\\x00\\r\\x00\\x00\\x00xl/styles.xml\\xc4\\\\\\xdbn\\xe36\\x10}/\\xd0\\x7f\\x10\\x04\\xf4\\xd1\\xd1\\xdd\\xb6\\x02\\xdbE\\xecD\\xed\\x02\\xdbt\\x81M\\xd1\\xbe\\xca\\xb2\\xec\\xb0\\xd1\\xc5\\x90\\xe8\\xad\\xbdE\\xff\\xbdC\\xeaB2\\xbe\\xd1\\x89b\\xc2\\xd8\\x8d%\\x8bg\\x863\\x873\\xe4H\\xd4\\xe8\\xe7m\\x9ah\\xdf\\xe2\\xa2Dy6\\xd6\\xad\\x1bS\\xd7\\xe2,\\xca\\x17([\\x8d\\xf5?\\x9e\\x82\\xdeP\\xd7J\\x1cf\\x8b0\\xc9\\xb3x\\xac\\xef\\xe2R\\xffy\\xf2\\xe3\\x0f\\xa3\\x12\\xef\\x92\\xf8\\xebs\\x1cc\\r \\xb2r\\xac?c\\xbc\\xbe5\\x8c2z\\x8e\\xd3\\xb0\\xbc\\xc9\\xd7q\\x06\\xbf,\\xf3\"\\r1\\x1c\\x16+\\xa3\\\\\\x17q\\xb8(I\\xa341l\\xd3\\xec\\x1bi\\x882\\xbdB\\xb8M#\\x19\\x904,^6\\xeb^\\x94\\xa7\\xeb\\x10\\xa39J\\x10\\xdeQ,]K\\xa3\\xdbO\\xab,/\\xc2y\\x02\\xaan-7\\x8c\\xb4\\xad\\xd5/lm[4B\\xe8\\xd9=9)\\x8a\\x8a\\xbc\\xcc\\x97\\xf8\\x06p\\x8d|\\xb9DQ\\xbc\\xaf\\xaeo\\xf8F\\x181$@~\\x1b\\x92\\xe5\\x19\\xa6-\\xf4}[\\xbc\\x11\\xc95\\x8a\\xf8\\x1b\"\\xee\\xd3\\'\\xa3e\\x9e\\xe1R\\x8b\\xf2M\\x86\\xc1\\x99>hJlp\\xfb\\x92\\xe5\\xffd\\x01\\xf9\\r\\xce\\xd6\\x97MF\\xe5w\\xed[\\x98\\xc0\\x19K7&\\xa3(O\\xf2B\\xc3\\xe0;0\\x1d=\\x93\\x85i\\\\]1\\x0b\\x134/\\x10\\xb9l\\x19\\xa6(\\xd9U\\xa7mr\\x82\\xba\\xbb\\xbe.E`|r\\xd2 \\x8aT\\xea(\\x903\\xdc\\xeb\\x8fC\\xce\\xec\\xf5G\\xfb\\x8cV\\xcf\\xf8|\\xaf\\xc2\\xbf\\x0f\\xf4jN\\xfa\\xdeX\\xd0\\x93\\x94\\xf8F\\x0b\\n\\xb2h_\\x04o\\x1d\\xee]\\x17\\xb2\\xf6\\x99\\xd1\\xa9\\xacC\\x0c,V\\xf3\\xb1\\x1e\\x04\\x10\\x1b,\\xd3<\\xe8\\xb6\\x0eiX\\x0b\\xf3g&\\xc8\\xbb\\x9a0op\\xb5\\x9e9\\x81\\x13\\x0c:\\xed\\x99\\xc0E\\x8e\\x1f\\xb5)\\x89@\\'\\xe8\\xd2\\x94g\\x04\\x06w\\x83\\xfb\\xab\\x99\\xb3{a\\xc7zW\\x07\\xe2k\\x8d\\x002\\xe0\\xba\\xb5\"\\xe2\\xe3\\xe3>O\\x06\\x01\\xf9\\\\\\x83\\'WNi\\x9dzL`\\x87\\xbb\\x97d:J\\xd34[\\x97\\x90\\xaeQ\\x92\\xb4\\xb3\\x07\\xc7!\\x13\\x0583\\x19\\xc1<\\x0b\\xc7E\\x16\\xc0\\x81V\\x7f\\x7f\\xda\\xada\\x9a\\x90\\xc1\\x94\\x90(eT\\xd7\\x9d\\xb9zU\\x84;\\xcb\\xa6\\xa9R\\xaeA\\x99\\'hA\\xb4X\\xcd\\xe8\\xe4\\xa4\\x0e1\\xb3\\xfeC0{\\xa0r9\\xcdd\\xb58\\x02\\x1a\\x04\\xb3\\xc1\\x07\\x80>L\\xfdY\\xf7\\x9a\\xce|\\xbfkP;\\x80O\\xc7\\xa0w\\x1e\\xf9t\\xde}pUg6\\xad\\x83\\x03\\x1dZF\\x07lj\\xf14\\x8c\\xc8\\x1c\\xdc\\xbc\\x19\\xf8\\xbe?\\xb4\\xfa\\xc3\\xe1\\xd0w\\x1d\\xcbu\\xa9\\x91\\xe75\\xa3Q\\xb6\\x88\\xb7\\xf1b\\xac\\xf7;3\\xd3\\xbe\\x06\\x1eh\\xe0;C\\xbfo\\x83\"\\xa6;\\xa4\\xa2\\xae\\xaa\\x81\\x03\\n\\x0c<o\\xe8Y\\xbe\\xed\\xc2?\\x1a\\xb7>^\\x83\\xaem\\xea\\xe9\\xaa\\xbd\\xcai\\xa0\\xc8\\xab\\x9c\\x06\\x8a\\xbcJg\\xb3\\x1d\\x8e\\xd5\\xber\\xafr\\x1a(\\xf2*\\xa7\\x81\"\\xaf\\x0e\\xbaJ\\x13u\\xfc\\x1b(\\xf7*\\xa7\\x81\"\\xafr\\x1a(\\xf2*\\xad\\xc4t8V\\xa1\\x18\\xa98\\xafr\\x1a(\\xf2*\\xa7\\x81\"\\xafv6\\xf9\\xac\\xc7*\\xd4)\\x15{\\x95\\xd3@\\x91W9\\r\\xde\\xedU\\xba\\xba\\x82\\xf5\\xdc</\\x16P\\xd9o\\xeb\\xc1&\\xac\\xa5\\xaas\\x93Q\\x12/1\\xac\\xdc\\nR\\x01\\x85\\xbf8_\\xc3\\xff\\xf3\\x1cc(\\x7fOF\\x0b\\x14\\xae\\xf2,L\\xc8\\xda\\xaei!\\xd1\\x12\\xee\\x14\\xc0M\\x81\\xb1\\x8e\\x9fQ\\xf4\\x02\\xc2\\x84*e5\\xc7\\xaeD|\\x94\\x84\\x96G.\\x99u\\xbb\\x03\\xd7\\x1c\\xb8\\x9e\\xdd\\xaf\\x166\\x1d\\x89N\\xe3\\x05\\xda\\xa4\\xfb\\xbdke\\x1f\\xf4\\x1f\\x98\\x91\\xd8\\xf6|\\xc79\\x1b\\x92\\x8a~e\\xc2z\\xe5\\xcb\\x8a&\\x06\\xf1_\\xed>\\xc9\\x16\\xd4\\xd5\\xd4\\xd3\\x92\\r\\x80\\x13\\r%$[t\\xd1GV@\\x94\\xed#\\xd7B\\xae\\x8f\\\\\\x03\\xc9>r-:b\\xd1\"\\xdf\\xc0M\\xaa\\xd7\\x0e\\x0e\\x82\\xa1i\\xd2\\xd5\\xd1\\xc5|9\\x0cx\\xda\\x9ag\\xdb\\xec\\xdb\\xf3l\\x93\\x03\\x16=\\xdb\\xa6\\x0b\\xdeLm\\xf2\\xa1\\xb3H\\xc9\\xb1\\xc1\\xb5\\x90\\xe3\\r\\xd7@\\x927\\\\\\x8b\\xb7\\xf1\\xe6\\xe0\\xc0\\x13\\x8a\\x16\\xe7\\xed-\\\\~J\\x8d:\\xd4C\\xe6\\x88\\xe2$\\xf9Jb\\xf9_\\xcb6}@\\xe5b2\\xda.\\xb5l\\x93\\x06)\\xfe\\x04E\\x0b\\xb8WL\\xee\\xf35_\\xa1<X\\x7f\\xadREu\\x00)\\xe4X#\\x1b\\xda\\x1fn\\xa4\\x85\\xebu\\xb2{\\xdc\\xa4\\xf3\\xb8\\x08\\xe8\\rd*\\x8d\\x9e%eHv4\\xa59\\x8e\\x1d\\xdf%h\\x95\\xa51\\xad\\xbd\\xe8\\x15\\xcc\\x97\"\\xc7q\\x84\\xe9\\rnZ\\x9d=\\xa6\\x8fsD\\x1f\\xab\\x06\\x92\\xd1\\xe7=\\xf2\\xdd#\\xf2\\xc1N\\xd2\\xf6x\\x8f|X\\xdb\\x1f\\xf4\\x07\\xd8E\\xa9|\\xe0\\x99\\x12>\\xc0\\xaa\\xb8\\xb1\\x07\\xb8\\x80\\'\\xf5)}\\xbad$\\xac\\xe0\\x1a\\r\\xc0\\t*4\\x80\\xd5F\\xa3\\x01\\xd0S\\x85\\x0603n4\\x00\\x822\\r@\\x9d\\x13\\xacx\\xcf8\\xb0H`\\xab\\x03\\x13p\\x80\\x89\\x04\\xf9\\x1f%\\x12b\\xccA\\x91\\x1f\\xd8\\xcbc\\xe1\\x17\\xba|\\x95\\xe1nq\\xf1\\x16\\x88\\xce\\xcc\\x0c\\x07\\x1fe\\xe6c!VU\\x88\\xe1\\xdc\\x0e#\\x8d\\x99\\x00\\x0eN\\xf9\\x00\\xb2n7)\\xcf:\\x16\\xf3\\x95\\x19\\x84\\x0b\\xba\\xa0\\x03\\xb3\\x08\\x84\\x81\\xeb\\xb0\\x92\\x8b\\xb9 SE\\xc4\\xe3HAB\\x91j\\x15@\\x1d\\xd5*(J\\xbf\\x16\\xc7\\x05\\x12\\xadT\\x9bAQ\\x06\\xe6\\xf9(\\xa4\\xe0\\xd3A\\xa2\\xcb\\x89\\x10\\xaf\\x82\\x90\\x92\\xaf\\xa8\\x02O\\x06!_\\xa91\\x83\\x90/\\xd4\\xa8\\xa0>>\\xda\\xaa\\xe2#G\\x06\\xb8\\x9d\\xad:2\\xd8\\xaa\\x02$\\xb7BR\\x1f\\x1fmU\\xf1\\x91\\'\\x83\\xfa\\x00i\\xab\\n\\x90\\x1c\\x19\\xd4\\xc7G[U|\\xe4\\xc9\\xa0>@:\\xea\\'\\x90\\x8e\\xfa\\xf8\\xe8|p|4\\xf8\\x82iU>\\xe5*\\xa7\\xe4I\\xca\\xcb\\x0b\\xa7\\xdavy\\xb6\\x82\\xca\\x15*^\\xfb\\xb9i]\\xad\\x9a\\xb8r\\x08\\xd9\\x00\\x02\\xfb9\\xaa*\\xa9\\xf6\\x9c\\x17\\xe8;,\\'\\xc9F\\x10Z\\x05\\xa7\\x15\\xf4\\xed\\xf2\\xb8\\xc6\\x16W\\x12:-\\x94\\xec8\\xa9\\xf7\\x92P\\x03\\x81I\\xb8\\xd2\\xb2XXn\\r\\xa8\\x91m\\x1ac\\xdd6\\x7f\\xd2z\\xda]\\x14A)\\x17\\xf8S\\xf5\\x86\\xech\\x99oP\\x02w\\x8b\\x89i\\x08\\xb7\\xa3M\\t\\xb7\\xd5\\xa6\\xd5\\xc9Z\\xd8), B\\x85e\\x93|\\xc5aA\\xee\\xb8\\x14\\x0b\\x10j,\\x12\\xee8,\\xb0\\xd0\\xa5X \\xbe\\xc2\\xa2\\xa3\\x85aA\\xd5\\xfdb,HA5\\x16IF\\x1c\\x16$\\x86K\\xf5\\x82&5\\x96h{O\\xd2\\xf6\\xee!?\\xd2Y\\x1bg/p\\xb0\\x8c^<\\x16\\xf3#I\\xfa\\x1c\\x16t\\xf9R,\\xe6G\\x9238,\\xe8\\xf2\\xa5X\\xcc\\x8f$\\xe4p\\xb6\\x07!\\x97b1?\\x92\\x8c\\xcea\\x01\\xdd.\\xc5j\\xfd\\xe8\\x921\\xcb\\xb0<I\\xdb\\xf7\\x0f\\xfa\\x91Dv\\xce^\\x92\\\\\\xe5\\xb1\\x98\\x1fE\\xae:\\x92\\\\\\xe5\\xb1\\x98\\x1fE\\xae\\x92.\\xcb\\xd8\\x8b\\xc7b~\\x14\\xe3\\x84+\\x19\\'x,\\xe6G1N\\xb8\\x92q\\x82\\xc7b~\\x14m\\xefI\\xda\\xfeuD\\x15\\x19oK2\\xbeBa\\xbe\\x13\\xb9\\x0e[\\x07\\xa4\\xec]\\xa10\\xaf\\x89,w$Y^\\xa10\\x7f\\x89\\xfcv%\\xf9]\\xa10O\\x89Q\\xc5\\x95\\x8c*\\x15\\n\\x8b\\x99\\xa2u]I\\xebN\\xc3E\\x13uE\\xc2\\xd8\\x92&\\x81\\xfd\\x9a\\xd1&\\x81\\xdd\\xb1\\xb0)\\xb4I\\x9d\"]\\xc8\\x82QfH\\xcc\\x9e\\xe3\\xe8E\\x9b\\xc1\\xed\\xe0\\x16H\\x1c\\x0f$\\x8d\\xca\\x00=l\\xd7I\\x98\\x858/v\\xdaS\\xbc\\xc5-\\x9c\\xe8tO\\x12\\xee\\x97<om$\"\\x90\\xd5\\x8f\\x8cB\\xbf\\xc2Nd\\xd8\\xe4\\xac\\xb5\\x93\\x0b\\x91\\xc3\\xd6\\x850\\xedX\\x10\\xcdC*\\x88\\x97h\\xd3\\x0e\\x06\\x91\\x7fd\\xceu\\tL;\\x1a\\xc4\\xa0J\\xe6O20\\x9f\\xb2\\xf5\\xa6\\xf5\\x90\\x18KI\\xea\\x96\\x81\\xf8\\x8c\\xb2\\x97x!2G\\xb40Y\\xad\\xcb =\\xc6\\x1b\\\\\\x84-\\xff^\\x05,I\\xc3<\\x92\\x87\\x08Z\\x0c1D\\xd0g\\x02^\\xcf\\x19\\x1f\\xe1\\x99\\x81\\x96\\xa3\\xaf\\xac(i\\x82\\xdf7\\x983#\\xad\\xe4\\xb3\\\\I\\x8aF2\\xbd\\x7fB\\x18\\x1e\\x13j\\x06\\xb1\\x90n\\xc9\\xbd\\x1b)\\x88\\x1cf\\xf7-\\xc4\\xab\\x88\"\\x89\\xf1gXdd\\xb4\\x08C\\xf7\\x15G\\x8f\\xf4\\x88\\xad\\x8d`\\xf6\\xbf\\xd8\\xb2\\x07J\\xa8\\xdd1\\xd9\\xabO\\x1f5i\\xd7\\x03`\\xdeE\\xbc\\x0c7\\t~j\\x7f\\x1c\\xeb\\xec\\xfbo\\xf4\\x01< S}\\xd5\\x17\\xf4-\\xc7\\x14b\\xac\\xb3\\xefto7\\x8cbx\\xfe\\x04\\xc2\\xcd\\xe7\\x12\\x9e\\x96\\x83\\xbf\\xda\\xa6@c\\xfd\\xdf\\x87\\xe9\\xc0\\xbf\\x7f\\x08\\xec\\xde\\xd0\\x9c\\x0e{\\xae\\x13{=\\xdf\\x9b\\xde\\xf7<w6\\xbd\\xbf\\x0f|\\xd36g\\xffqo\\x0cx\\xc7\\xfb\\x02\\xe8\\x0b\\x0e`5e\\xb9\\xb7e\\x02o\\x15(\\xea\\xce\\xd6\\xca\\x7fe\\xe7\\xc6:wP\\xa9O\\x17c\\xa06\\xaf\\xbbo\\xf7\\xcd;\\xcf2{\\x81cZ=\\xb7\\x1f\\x0e{\\xc3\\xbe\\xe3\\xf5\\x02\\xcf\\xb2\\xef\\xfb\\xee\\xf4\\xc1\\x0b<Nw\\xef\\x8d\\xef\\x150\\r\\xcb\\xaa\\xdeP@\\x94\\xf7n1J\\xe3\\x04e\\x8d\\xaf\\x1a\\x0f\\xf1g\\xc1Ipx\\xa2\\x13F\\xe3\\t\\x83\\xbd=b\\xf2?\\x00\\x00\\x00\\xff\\xff\\x03\\x00PK\\x03\\x04\\x14\\x00\\x06\\x00\\x08\\x00\\x00\\x00!\\x00\\xd9V\\x14k\\x02\\x03\\x00\\x00\\x03\\x08\\x00\\x00\\x14\\x00\\x00\\x00xl/sharedStrings.xml\\xacUMo\\x13A\\x0c\\xbd#\\xf1\\x1f\\xac\\xbd\\x14$\\x92M\\x8b@\\xa8\\xca\\xc7\\xa1U{\\xa1\\x08\\xa9E\\x88S5\\xbb\\xebdG\\x9d\\x9d\\x19\\xe6#i\\xf8\\xf5\\xd8\\xb3\\x1b\\x12v\\xa3RU\\x9c\\x92\\xd8c\\xfb\\xd9~\\xcf\\x99.\\x1e\\x1b\\x05kt^\\x1a=\\xcbN\\xc7\\x93\\x0cP\\x97\\xa6\\x92z5\\xcb\\xbe\\xdd]\\x8d>e\\xe0\\x83\\xd0\\x95PF\\xe3,\\xdb\\xa2\\xcf\\x16\\xf3\\xd7\\xaf\\xa6\\xde\\x07\\xa0X\\xedgY\\x1d\\x82=\\xcfs_\\xd6\\xd8\\x08?6\\x165y\\x96\\xc65\"\\xd0O\\xb7\\xca\\xbdu(*_#\\x86F\\xe5g\\x93\\xc9\\xc7\\xbc\\x11RgP\\x9a\\xa8\\x03\\xd5\\x9dLN3\\x88Z\\xfe\\x8cx\\xd1\\x9a\\xde\\x7f\\xc8\\xe6S/\\xe7\\xd30\\x0f&\\x08u_H\\xa5\\xa6y\\x98Os\\xb6v\\x1ei\\xfb&\\x8f\\x8f\\x03Sc\\x1e\\xd0\\xf5\\xad\\x95\\xd8\\x0e\\xd358\\x08\\x96\\xbf\\x06\\xb6+\\xeaS\\r\\xac_L?\\xf66\\xea\\xbe\\xe9Rj=\\xc4rs$\\xdd\\xad\\x08\\xfd\\xe0\\x1f\\xe8\\xfb\\xa6\\xbb:\\x0e:\\xfb\\x1cuY\\xf7\\x1f^9\\xd97}\\xafE\\x00\\xe9!\\xd4\\x08\\x868 \\x94\\x02\\xc1\\x9f+\\x84 \\xed\\xa2\\xff\\xfe\\xabC+\\x1c\\x82\\x80\\xc2<Ze\\x02\\xd0\\x8e\\xe1\\x84\\x9e\\x9e\\xbc\\x03vP\"v\\xeb-\\x98\\x18\\x94$V\\rr\\\\c\\xa0x\\x1d\\x1bt\\xb2\\x14\\n|l\\x1a\\xe1\\xb6\\xfbL0\\xda\\xa5\\x82\\x06+)4\\xe5\\xab\\xe8+}!h[\\xa8\\xe4rIUtX@\\xc2_\\x19\\xe4\\x0e\\xb8\\r$\\xfc[\\x13A\\x14T>u\\xb5\\x94\\xa8\\xaag\\xf7\\xf1\\x87f\\xcfn\\x87\\x15p\\xee\\xad(I\\x19Dq\\x8fn\\x8d\\xd9\\xfc\\x1au\\x85\\xee\\x1c6\\x07\\xf3\\xb5\\xe8J\\x02\\rf\\t\\xcb\\xc4\\x1e\\x0fR\\'\\x8c\\x95\\x08b\\x01O\\xccZ8H\\xc3\\xde\\xc8P\\xa7\\x88B8\\x0f\\xb4\\x0b.\\xa8\\x03)5Y\\xbb\\n\\xbc<*\\xe2\\xb04\\xae\\xf2i\\xae(\\xca\\x1aV\\t\\xd4x\\xc0\\xc7v|\\xb4\\xb5\\xfd\\xe2\\xbb\\x19C\\xb1\\xed\\xa2\\x16p\\xc9\\xcf\\xe8\\x00t\\x06\\xa6\\x074&\\xad\\x9c\\x16\\x93\\x08\\xc4\\xcb\\x1f\\x8c:\\xc5\\xb1\\xfbxz\\xf6\\x04\\xd9$\\xc4\\xa4\\xc7~\\xf8\\xf1\\xf1\\xfe#\\xa7\\'\\xc1\\xc2\\x1bbX\\x81\\x8e\\'a\\xd1XE\\x00ZF\\x04Q(|;\\x9c\\xf7\\xa5\\x01\\x9f\\xce\\x04\\xf1\\xe8\\xaf\\xde\\xb4\\xd1\\xa3\\xces\\x84\\xcc\\xbchX\\xfbq\\x17\\x9c\\xef_\\'\\xdar\\xaa\\x84g\\x04%]\\xc0\\xc0\\xda9\\xe3\\xb9\\x9e%\\xf7\\x8a\\xc4\\xd0\\x1f\\x0e?\\x1f\\x13\\xb5%\\xef\\xcc\\x99h\\x19O\\xab\\xd1\\xc6\\xf80\\xc0p#\\x1e8\\xab/E\\x08\\x84%1\\x85\\xba\\xde\\xdf\\xcc\\x04\\x8fr\\x0cV\\x7f\\'\\xfcC\\x9f\\x0e\\x17;\\x94\\x1a7$\\xba@\"\\x05\\x92\\xa9\\xc2\\nNl\\x19\\xeeY\\xeb0cH\\xf9a\\x89Q\\xab\\xc0\\x8d\\x89\\xaa\\x82\\x02i\\xe6-\\xdb\\xb9\\xff\\x95\\\\#\\x9d\\x07\\x12\\xb1\\xafw~\\xba \\x98\\xe0\\x92\\xae}$\\x1a1\\xe2\\xc4\\x05k\\x99\\xcf\\x05\\xd6b-Mt\\xc7\\xf9\\xda!\\xf9\\x7f<}\\x82h\\xc3Z/#X\\xda\\x13\\xf7\\xd8\\n\\xf1\\x804\\xb0\\x964\\xec\\xe8\\xb9\\xf1]5\\xba\\x82\\xe9\\xb0\\xd19st(\\xd2\\xc5+\\x11\\xcaZ\\xe8\\x15\\xbe\\x90\\x03]\\xee\\x83\\x91\\xe6\\xf4\\'>\\xff\\r\\x00\\x00\\xff\\xff\\x03\\x00PK\\x03\\x04\\x14\\x00\\x06\\x00\\x08\\x00\\x00\\x00!\\x00;m2K\\xc1\\x00\\x00\\x00B\\x01\\x00\\x00#\\x00\\x00\\x00xl/worksheets/_rels/sheet2.xml.rels\\x84\\x8f\\xc1\\x8a\\xc20\\x14E\\xf7\\x03\\xfeCx{\\x93\\xd6\\x85\\x0cCS7\"\\xb8U\\xe7\\x03b\\xfa\\xda\\x06\\xdb\\x97\\x90\\xf7\\x14\\xfd{\\xb3\\x1ce\\xc0\\xe5\\xe5p\\xcf\\xe56\\x9b\\xfb<\\xa9\\x1bf\\x0e\\x91,\\xd4\\xba\\x02\\x85\\xe4c\\x17h\\xb0\\xf0{\\xda-\\xbfA\\xb18\\xea\\xdc\\x14\\t-<\\x90a\\xd3.\\xbe\\x9a\\x03NNJ\\x89\\xc7\\x90X\\x15\\x0b\\xb1\\x85Q$\\xfd\\x18\\xc3~\\xc4\\xd9\\xb1\\x8e\\t\\xa9\\x90>\\xe6\\xd9I\\x89y0\\xc9\\xf9\\x8b\\x1b\\xd0\\xac\\xaajm\\xf2_\\x07\\xb4/N\\xb5\\xef,\\xe4}W\\x83:=RY\\xfe\\xec\\x8e}\\x1f<n\\xa3\\xbf\\xceH\\xf2\\xcf\\x84I9\\x90`>\\xa2H9\\xc8E\\xed\\xf2\\x80bA\\xebw\\xf6\\x9ek}\\x0e\\x04\\xa6m\\xcc\\xcb\\xf3\\xf6\\t\\x00\\x00\\xff\\xff\\x03\\x00PK\\x03\\x04\\x14\\x00\\x06\\x00\\x08\\x00\\x00\\x00!\\x007VS^\\xc2\\x01\\x00\\x00,\\x15\\x00\\x00\\'\\x00\\x00\\x00xl/printerSettings/printerSettings1.bin\\xecT\\xcdJ\\xdcP\\x18=3\\xb1\\xed\\xe8\\xa6\\x0e\\x14\\xdctQ\\xa4+q\\xe8\\x0c\\x93\\xa9\\xddU\\x99\\xa4vJ\\xd2\\x84$3\\xb8q1tR\\x08\\x8c\\xc9\\x90DD\\xa5\\x82\\xf8\\x1a>H\\x97.]\\xf6\\x01\\xbav!\\xc5\\x07p\\xa3\\xe7\\xa63\\xd8\\x96\\xa1\\x8c\\xe0F\\xf8\\xee\\xe5\\xbb\\xdf\\xcf=97\\xf7\\x90|6\"|A\\x8a\\x04\\x19\\xed+r\\xbc\\x82\\xcb<B\\\\\\xc49\\xab\\xaab\\xe0\\x03\\xa6\\x8d\\xd2\\x9c\\xf6\\xf4\\'\\xdc\\x17\\xda\\x1b\\xa0\\xc4y\\xb9\\x90T\\x06\\xf4\\xcf\\xb1U.\\xd3o\\x955\\xae\\x16B\\xb2\\xe5\\\\\\xd3\\xa9,\\xf7+\\x96\\xc6p\\xe5\\xcb4\\xe5o86;\\xbe\\xfe\\'\\x93\\xd1\\xf9\\xdc]\\xc69^k\\xab\\xd5\\xf7\\xdb\\x87G\\xff;\\xe5I\\xb19_p=\\xc0+\\n\\xc5#T`\\xf2]\\xcd\\xf2\\xea\\xe7\\x04\\xf9v\\xf0Ia\\x17\\xf1\\x1d\\x87\\xa8\\xe3\\x1dt\\xfe%u4\\xb8n\\xa0\\x06\\x13o\\xd1d\\xadF3\\xb0\\xc6Y#\\xa6\\xc9\\xba\\xc9\\xa8\\xce\\\\g\\xde\\xa0o3k\\xa2Ud\\xdf\\xc8\\xe8\\x99\\xbeaY\\xe8\\xc6Q\\x1af*r\\xfb\\xa30\\xf5\\xa3\\x83\\x10\\x96\\x19\\x04\\xa6\\x07\\'\\x8d\\xc28\\xef\\xe7Q\\x12\\xc3u\\xbc\\xc0\\xdb\\xe8\\x04\\xf0\\xc2,\\x19\\xee\\x165\\x86\\xceHE\\r\\xb4\\x93a\\x92\\xda\\xc9 \\xfc\\x1d\\xfd}\\xbb\\xd5*\\xd0\\xd3\\r{r\\xf7\\xd3\\x85\\xd1\\xf2KB~\\xd14\\xdau\\xc9\\xa9\\xe8\\x17{\\xf6\\xc9\\xd5\\xb3\\x8fKg\\xad\\xe3\\x1f\\xacY\\xe3=T\\xee\\xb8\\x14V\\xe5+c\\xaf\\xf2uZO\\xe5\\x8b\\xe0\\xfd\\x13\\xf6\\x99]\\xec\\xb0\\x07\\xa8\\xce\\xd2e\\xbfQ\\xdd\\xc0E\\x9fQ\\x86=\\xee\\xa7\\x18\\x10\\xfc/\\xd2\\xe1^<#\\xb6M\\x8e}\\x8c\\xc8\\xef\\xf3\\tu\\x9e\\xead9k2D\\x01Q@\\x14\\x10\\x05D\\x01Q@\\x14\\x10\\x05D\\x01Q@\\x14\\x10\\x05D\\x01Q@\\x14\\x98E\\x81[\\x00\\x00\\x00\\xff\\xff\\x03\\x00PK\\x03\\x04\\x14\\x00\\x06\\x00\\x08\\x00\\x00\\x00!\\x008\\xe5i\\x13\\xa8\\x00\\x00\\x00\\xf8\\x00\\x00\\x00\\x10\\x00\\x00\\x00xl/calcChain.xmldNK\\n\\xc20\\x10\\xdd\\x0b\\xde!\\xcc\\xde\\xa6\\xad \"M\\xbb\\x10{\\x02=\\xc0\\x90\\x8eM!\\x9f\\x92\\t\\xa2\\xb77.\\xb4\\x8a\\x9b\\x07\\xf3~\\xf3\\x9a\\xee\\xee\\xac\\xb8Q\\xe4)x\\x05UQ\\x82 \\xaf\\xc30\\xf9Q\\xc1\\xe5\\xdco\\xf6 8\\xa1\\x1f\\xd0\\x06O\\n\\x1e\\xc4\\xd0\\xb5\\xebU\\xa3\\xd1\\xea\\xa3\\xc1\\xc9\\x8b\\xdc\\xe0Y\\x81Ii>H\\xc9\\xda\\x90C.\\xc2L>+\\xd7\\x10\\x1d\\xa6|\\xc6Q\\xf2\\x1c\\t\\x076D\\xc9YY\\x97\\xe5N\\xba\\\\\\x00m\\xa3ET\\xd0\\xd7\\x15\\x88I\\xc1\\x16\\x84\\xcdS@\\xe0\\x0b\\xe5\\xbf\\x9a\\x9f-\\xfciI\\xfd\\xf8\\xbf\\xf8\\xb7_~6\\xb7O\\x00\\x00\\x00\\xff\\xff\\x03\\x00PK\\x03\\x04\\x14\\x00\\x06\\x00\\x08\\x00\\x00\\x00!\\x00\\xc1\\xfee\\xe3J\\x01\\x00\\x00_\\x02\\x00\\x00\\x11\\x00\\x08\\x01docProps/core.xml \\xa2\\x04\\x01(\\xa0\\x00\\x01\\x00\\x00\\x00\\x00\\x00\\x00\\x00\\x00\\x00\\x00\\x00\\x00\\x00\\x00\\x00\\x00\\x00\\x00\\x00\\x00\\x00\\x00\\x00\\x00\\x00\\x00\\x00\\x00\\x00\\x00\\x00\\x00\\x00\\x00\\x00\\x00\\x00\\x00\\x00\\x00\\x00\\x00\\x00\\x00\\x00\\x00\\x00\\x00\\x00\\x00\\x00\\x00\\x00\\x00\\x00\\x00\\x00\\x00\\x00\\x00\\x00\\x00\\x00\\x00\\x00\\x00\\x00\\x00\\x00\\x00\\x00\\x00\\x00\\x00\\x00\\x00\\x00\\x00\\x00\\x00\\x00\\x00\\x00\\x00\\x00\\x00\\x00\\x00\\x00\\x00\\x00\\x00\\x00\\x00\\x00\\x00\\x00\\x00\\x00\\x00\\x00\\x00\\x00\\x00\\x00\\x00\\x00\\x00\\x00\\x00\\x00\\x00\\x00\\x00\\x00\\x00\\x00\\x00\\x00\\x00\\x00\\x00\\x00\\x00\\x00\\x00\\x00\\x00\\x00\\x00\\x00\\x00\\x00\\x00\\x00\\x00\\x00\\x00\\x00\\x00\\x00\\x00\\x00\\x00\\x00\\x00\\x00\\x00\\x00\\x00\\x00\\x00\\x00\\x00\\x00\\x00\\x00\\x00\\x00\\x00\\x00\\x00\\x00\\x00\\x00\\x00\\x00\\x00\\x00\\x00\\x00\\x00\\x00\\x00\\x00\\x00\\x00\\x00\\x00\\x00\\x00\\x00\\x00\\x00\\x00\\x00\\x00\\x00\\x00\\x00\\x00\\x00\\x00\\x00\\x00\\x00\\x00\\x00\\x00\\x00\\x00\\x00\\x00\\x00\\x00\\x00\\x00\\x00\\x00\\x00\\x00\\x00\\x00\\x00\\x00\\x00\\x00\\x00\\x00\\x00\\x00\\x00\\x00\\x00\\x00\\x00\\x00\\x00\\x00\\x00\\x00\\x00\\x00\\x00\\x00\\x00\\x00\\x00\\x00\\x00\\x00\\x00\\x00\\x00\\x00\\x00\\x00\\x00\\x00\\x00\\x00\\x00\\x00\\x00\\x00\\x00|\\x92_O\\x830\\x14\\xc5\\xdfM\\xfc\\x0e\\xa4\\xef\\xd0\\x16\\xc4l\\r\\xb0\\xf8\\'{r\\x89\\x893\\x1a\\xdf\\x9a\\xf6n#\\x83\\xd2\\xb4U\\xb6oo\\x81\\r13>\\xf6\\x9es\\x7f\\xf7\\xdc\\x9bf\\x8bC]\\x05_`l\\xd9\\xa8\\x1c\\xd1\\x88\\xa0\\x00\\x94hd\\xa9\\xb69z]/\\xc3\\x19\\n\\xac\\xe3J\\xf2\\xaaQ\\x90\\xa3#X\\xb4(\\xae\\xaf2\\xa1\\x99h\\x0c<\\x9bF\\x83q%\\xd8\\xc0\\x93\\x94eB\\xe7h\\xe7\\x9cf\\x18[\\xb1\\x83\\x9a\\xdb\\xc8;\\x94\\x177\\x8d\\xa9\\xb9\\xf3O\\xb3\\xc5\\x9a\\x8b=\\xdf\\x02\\x8e\\t\\xb9\\xc558.\\xb9\\xe3\\xb8\\x03\\x86z$\\xa2\\x13R\\x8a\\x11\\xa9?M\\xd5\\x03\\xa4\\xc0PA\\r\\xcaYL#\\x8a\\x7f\\xbc\\x0eLm\\xffl\\xe8\\x95\\x89\\xb3.\\xddQ\\xfb\\x9dNq\\xa7l)\\x06qt\\x1fl9\\x1a\\xdb\\xb6\\x8d\\xda\\xa4\\x8f\\xe1\\xf3S\\xfc\\xbezz\\xe9W\\rK\\xd5\\xddJ\\x00*2)\\x980\\xc0]c\\x8a\\xbb=Wv\\xc73<\\xa9u\\xf7\\xab\\xb8u+\\x7f\\xeaM\\t\\xf2\\xfe\\xf8c\\xbb\\x94<\\xad\\x0f? A\\x06>\\x0e\\x1b\\xc2\\x9f\\x95\\xb7\\xe4\\xe1q\\xbdDEL\\xe8<\\xa4$$\\xb35MY:gt\\xf6\\xd1M\\xfe\\xd5\\xdf\\xc5\\x1b\\n\\xf5i\\xfe\\xbf\\xc4\\xd8\\xe3\\xd2\\x90\\xc4kr\\xc3\\x92\\x84\\xa5\\xf1\\x84x\\x06\\x14\\x19\\xbe\\xf8\\x12\\xc57\\x00\\x00\\x00\\xff\\xff\\x03\\x00PK\\x03\\x04\\x14\\x00\\x06\\x00\\x08\\x00\\x00\\x00!\\x00\\xff\\xd6\\xb1\\x0c\\x82\\x01\\x00\\x00\\x13\\x03\\x00\\x00\\x10\\x00\\x08\\x01docProps/app.xml \\xa2\\x04\\x01(\\xa0\\x00\\x01\\x00\\x00\\x00\\x00\\x00\\x00\\x00\\x00\\x00\\x00\\x00\\x00\\x00\\x00\\x00\\x00\\x00\\x00\\x00\\x00\\x00\\x00\\x00\\x00\\x00\\x00\\x00\\x00\\x00\\x00\\x00\\x00\\x00\\x00\\x00\\x00\\x00\\x00\\x00\\x00\\x00\\x00\\x00\\x00\\x00\\x00\\x00\\x00\\x00\\x00\\x00\\x00\\x00\\x00\\x00\\x00\\x00\\x00\\x00\\x00\\x00\\x00\\x00\\x00\\x00\\x00\\x00\\x00\\x00\\x00\\x00\\x00\\x00\\x00\\x00\\x00\\x00\\x00\\x00\\x00\\x00\\x00\\x00\\x00\\x00\\x00\\x00\\x00\\x00\\x00\\x00\\x00\\x00\\x00\\x00\\x00\\x00\\x00\\x00\\x00\\x00\\x00\\x00\\x00\\x00\\x00\\x00\\x00\\x00\\x00\\x00\\x00\\x00\\x00\\x00\\x00\\x00\\x00\\x00\\x00\\x00\\x00\\x00\\x00\\x00\\x00\\x00\\x00\\x00\\x00\\x00\\x00\\x00\\x00\\x00\\x00\\x00\\x00\\x00\\x00\\x00\\x00\\x00\\x00\\x00\\x00\\x00\\x00\\x00\\x00\\x00\\x00\\x00\\x00\\x00\\x00\\x00\\x00\\x00\\x00\\x00\\x00\\x00\\x00\\x00\\x00\\x00\\x00\\x00\\x00\\x00\\x00\\x00\\x00\\x00\\x00\\x00\\x00\\x00\\x00\\x00\\x00\\x00\\x00\\x00\\x00\\x00\\x00\\x00\\x00\\x00\\x00\\x00\\x00\\x00\\x00\\x00\\x00\\x00\\x00\\x00\\x00\\x00\\x00\\x00\\x00\\x00\\x00\\x00\\x00\\x00\\x00\\x00\\x00\\x00\\x00\\x00\\x00\\x00\\x00\\x00\\x00\\x00\\x00\\x00\\x00\\x00\\x00\\x00\\x00\\x00\\x00\\x00\\x00\\x00\\x00\\x00\\x00\\x00\\x00\\x00\\x00\\x00\\x00\\x00\\x00\\x00\\x00\\x00\\x00\\x00\\x00\\x00\\x00\\x00\\x00\\x9c\\x92OO\\x1b1\\x10\\xc5\\xefH\\xfd\\x0e+\\xdf\\x89\\x97\\xb4B(\\xf2\\x1aU\\xd0\\x8a\\x03\\xa8A\\t\\xf4\\xeczg\\xb3\\x16\\x8emy\\x86U\\xd2O\\xcf\\xec\\xae\\x126p\\xa8\\xd4\\xdb\\xfcyz\\xfe\\xf9\\xd9\\xeaz\\xb7\\xf5E\\x07\\x19]\\x0c\\x95\\xb8\\x98\\x95\\xa2\\x80`c\\xed\\xc2\\xa6\\x12O\\xeb\\x9f\\xe7W\\xa2@2\\xa16>\\x06\\xa8\\xc4\\x1eP\\\\\\xeb/gj\\x99c\\x82L\\x0e\\xb0`\\x8b\\x80\\x95h\\x89\\xd2BJ\\xb4-l\\r\\xcex\\x1dx\\xd3\\xc4\\xbc5\\xc4m\\xde\\xc8\\xd84\\xce\\xc2m\\xb4\\xaf[\\x08$\\xe7ey)aG\\x10j\\xa8\\xcf\\xd3\\xd1P\\x8c\\x8e\\x8b\\x8e\\xfe\\xd7\\xb4\\x8e\\xb6\\xe7\\xc3\\xe7\\xf5>1\\xb0V\\xdfS\\xf2\\xce\\x1a\\xe2[\\xea\\x07gs\\xc4\\xd8P\\xf1cg\\xc1+9]*\\xa6[\\x81}\\xcd\\x8e\\xf6\\xbaTr\\xda\\xaa\\x955\\x1en\\xd8X7\\xc6#(\\xf9>Pw`\\xfa\\xd0\\x96\\xc6e\\xd4\\xaa\\xa3E\\x07\\x96b.\\xd0\\xfd\\xe5\\xd8\\xe6\\xa2\\xf8c\\x10z\\x9cJt&;\\x13\\x88\\xb1z\\xd9\\xd8\\x0c\\xb5OHY\\xff\\x8e\\xf9\\x05[\\x00B%Y0\\x0e\\x87r\\xaa\\x9d\\xd6\\xee\\x9b\\x9e\\x0f\\x02.N\\x85\\xbd\\xc1\\x08\\xc2\\x8bS\\xc4\\xb5#\\x0f\\xf8\\xabY\\x9aL\\xff\"\\x1e\\x18F\\xde\\x11\\x87\\\\:\\xa1;r>~\\x86\\x1er\\xe0\\xe3?\\x1cx\\xef\\xc2\\x0b>\\xa5u\\xbc5\\x04\\x87@O\\x87j\\xd5\\x9a\\x0c5\\xbf\\xc11\\xf0\\xe3@\\xddq\\x96\\xd9\\xf7&7\\xad\\t\\x1b\\xa8\\x0f\\x9a\\xcf\\x8b\\xfe\\xf9\\x9f\\xc7?\\xae/.g\\xe5\\xd7\\x92_v2S\\xf2\\xfd7\\xeb7\\x00\\x00\\x00\\xff\\xff\\x03\\x00PK\\x03\\x04\\x14\\x00\\x06\\x00\\x08\\x00\\x00\\x00!\\x00[i\\xf8U\\r\\x01\\x00\\x00\\x8d\\x01\\x00\\x00\\x13\\x00\\x08\\x01docProps/custom.xml \\xa2\\x04\\x01(\\xa0\\x00\\x01\\x00\\x00\\x00\\x00\\x00\\x00\\x00\\x00\\x00\\x00\\x00\\x00\\x00\\x00\\x00\\x00\\x00\\x00\\x00\\x00\\x00\\x00\\x00\\x00\\x00\\x00\\x00\\x00\\x00\\x00\\x00\\x00\\x00\\x00\\x00\\x00\\x00\\x00\\x00\\x00\\x00\\x00\\x00\\x00\\x00\\x00\\x00\\x00\\x00\\x00\\x00\\x00\\x00\\x00\\x00\\x00\\x00\\x00\\x00\\x00\\x00\\x00\\x00\\x00\\x00\\x00\\x00\\x00\\x00\\x00\\x00\\x00\\x00\\x00\\x00\\x00\\x00\\x00\\x00\\x00\\x00\\x00\\x00\\x00\\x00\\x00\\x00\\x00\\x00\\x00\\x00\\x00\\x00\\x00\\x00\\x00\\x00\\x00\\x00\\x00\\x00\\x00\\x00\\x00\\x00\\x00\\x00\\x00\\x00\\x00\\x00\\x00\\x00\\x00\\x00\\x00\\x00\\x00\\x00\\x00\\x00\\x00\\x00\\x00\\x00\\x00\\x00\\x00\\x00\\x00\\x00\\x00\\x00\\x00\\x00\\x00\\x00\\x00\\x00\\x00\\x00\\x00\\x00\\x00\\x00\\x00\\x00\\x00\\x00\\x00\\x00\\x00\\x00\\x00\\x00\\x00\\x00\\x00\\x00\\x00\\x00\\x00\\x00\\x00\\x00\\x00\\x00\\x00\\x00\\x00\\x00\\x00\\x00\\x00\\x00\\x00\\x00\\x00\\x00\\x00\\x00\\x00\\x00\\x00\\x00\\x00\\x00\\x00\\x00\\x00\\x00\\x00\\x00\\x00\\x00\\x00\\x00\\x00\\x00\\x00\\x00\\x00\\x00\\x00\\x00\\x00\\x00\\x00\\x00\\x00\\x00\\x00\\x00\\x00\\x00\\x00\\x00\\x00\\x00\\x00\\x00\\x00\\x00\\x00\\x00\\x00\\x00\\x00\\x00\\x00\\x00\\x00\\x00\\x00\\x00\\x00\\x00\\x00\\x00\\x00\\x00\\x00\\x00\\x00\\x00\\x00\\x00\\x00\\x00\\x00\\x00\\x00\\x00\\x00\\x00\\x00\\x9c\\x90\\xc9N\\xc30\\x14E\\xf7H\\xfc\\x83\\xe5\\xbdk\\'%\\x83\\xa3$\\x15MZ\\xb6,\\n\\xac\\x83\\x876jlG\\xb6\\x13\\x88\\x10\\xff\\x8e+\\x86\\xeeY>\\xdd\\xab\\xa3s_\\xb9yW\\x03\\x98\\x85u\\xbd\\xd1\\x15\\x8cV\\x04\\x02\\xa1\\x99\\xe1\\xbd>V\\xf0\\xe9\\xb0G9\\x04\\xcew\\x9aw\\x83\\xd1\\xa2\\x82\\x8bppS\\xdf\\xde\\x94\\x8f\\xd6\\x8c\\xc2\\xfa^8\\x10\\x10\\xdaU\\xf0\\xe4\\xfdX`\\xec\\xd8I\\xa8\\xce\\xadB\\xacC\"\\x8dU\\x9d\\x0f\\xa7=b#e\\xcfDk\\xd8\\xa4\\x84\\xf68&$\\xc5lr\\xde(4\\xfe\\xe1\\xe07\\xaf\\x98\\xfd\\x7f\\x91\\xdc\\xb0\\x8b\\x9d{>,c\\xd0\\xad\\xcb\\x1f\\xf8\\x02\\xa4\\xf2=\\xaf\\xe0G\\x9b4m\\x9b\\x90\\x04\\xc5;\\xda\\xa0\\x88D[D\\xd74C$\\'$\\xde\\xc6\\xcd\\x9e\\xde\\xef>!\\x18/\\xe5\\x18\\x02\\xdd\\xa90\\xfd\\xc5\\xd8\\xf3\\xab1\\xe7\\x87\\xa9\\xe7\\x01:\\xfbb\\x18\\xdf\\x9c\\xb7u&3\"YJQ\\x9c\\xb2\\x0c\\xddq\\x9e\\xa2\\x8er\\x8e$M\\xd6\\t#\\x8c\\xb2<*\\xf1\\xb5_\\xe2_\\xa1\\xba\\xc4\\xd7?\\xd6_\\x00\\x00\\x00\\xff\\xff\\x03\\x00PK\\x01\\x02-\\x00\\x14\\x00\\x06\\x00\\x08\\x00\\x00\\x00!\\x00\\x9f;\\xdd\\xa0\\x8c\\x01\\x00\\x00\\x89\\x06\\x00\\x00\\x13\\x00\\x00\\x00\\x00\\x00\\x00\\x00\\x00\\x00\\x00\\x00\\x00\\x00\\x00\\x00\\x00\\x00[Content_Types].xmlPK\\x01\\x02-\\x00\\x14\\x00\\x06\\x00\\x08\\x00\\x00\\x00!\\x00\\x13^\\xbee\\x02\\x01\\x00\\x00\\xdf\\x02\\x00\\x00\\x0b\\x00\\x00\\x00\\x00\\x00\\x00\\x00\\x00\\x00\\x00\\x00\\x00\\x00\\xc5\\x03\\x00\\x00_rels/.relsPK\\x01\\x02-\\x00\\x14\\x00\\x06\\x00\\x08\\x00\\x00\\x00!\\x00\\x8a.\\x0f.\\r\\x03\\x00\\x00\\\\\\x07\\x00\\x00\\x0f\\x00\\x00\\x00\\x00\\x00\\x00\\x00\\x00\\x00\\x00\\x00\\x00\\x00\\xf8\\x06\\x00\\x00xl/workbook.xmlPK\\x01\\x02-\\x00\\x14\\x00\\x06\\x00\\x08\\x00\\x00\\x00!\\x00\\xfei\\xeaW\\n\\x01\\x00\\x00\\xcc\\x03\\x00\\x00\\x1a\\x00\\x00\\x00\\x00\\x00\\x00\\x00\\x00\\x00\\x00\\x00\\x00\\x002\\n\\x00\\x00xl/_rels/workbook.xml.relsPK\\x01\\x02-\\x00\\x14\\x00\\x06\\x00\\x08\\x00\\x00\\x00!\\x000\\xfd;\\xc2\\xf8#\\x00\\x00u\\xf6\\x00\\x00\\x18\\x00\\x00\\x00\\x00\\x00\\x00\\x00\\x00\\x00\\x00\\x00\\x00\\x00|\\x0c\\x00\\x00xl/worksheets/sheet1.xmlPK\\x01\\x02-\\x00\\x14\\x00\\x06\\x00\\x08\\x00\\x00\\x00!\\x00?\\x85\\xb6\\xbd*\\x04\\x00\\x00u\\r\\x00\\x00\\x18\\x00\\x00\\x00\\x00\\x00\\x00\\x00\\x00\\x00\\x00\\x00\\x00\\x00\\xaa0\\x00\\x00xl/worksheets/sheet2.xmlPK\\x01\\x02-\\x00\\x14\\x00\\x06\\x00\\x08\\x00\\x00\\x00!\\x00\\xc1\\x17\\x10\\xbeN\\x07\\x00\\x00\\xc6 \\x00\\x00\\x13\\x00\\x00\\x00\\x00\\x00\\x00\\x00\\x00\\x00\\x00\\x00\\x00\\x00\\n5\\x00\\x00xl/theme/theme1.xmlPK\\x01\\x02-\\x00\\x14\\x00\\x06\\x00\\x08\\x00\\x00\\x00!\\x00$7\\x1e.\\x9d\\x08\\x00\\x00\\x83B\\x00\\x00\\r\\x00\\x00\\x00\\x00\\x00\\x00\\x00\\x00\\x00\\x00\\x00\\x00\\x00\\x89<\\x00\\x00xl/styles.xmlPK\\x01\\x02-\\x00\\x14\\x00\\x06\\x00\\x08\\x00\\x00\\x00!\\x00\\xd9V\\x14k\\x02\\x03\\x00\\x00\\x03\\x08\\x00\\x00\\x14\\x00\\x00\\x00\\x00\\x00\\x00\\x00\\x00\\x00\\x00\\x00\\x00\\x00QE\\x00\\x00xl/sharedStrings.xmlPK\\x01\\x02-\\x00\\x14\\x00\\x06\\x00\\x08\\x00\\x00\\x00!\\x00;m2K\\xc1\\x00\\x00\\x00B\\x01\\x00\\x00#\\x00\\x00\\x00\\x00\\x00\\x00\\x00\\x00\\x00\\x00\\x00\\x00\\x00\\x85H\\x00\\x00xl/worksheets/_rels/sheet2.xml.relsPK\\x01\\x02-\\x00\\x14\\x00\\x06\\x00\\x08\\x00\\x00\\x00!\\x007VS^\\xc2\\x01\\x00\\x00,\\x15\\x00\\x00\\'\\x00\\x00\\x00\\x00\\x00\\x00\\x00\\x00\\x00\\x00\\x00\\x00\\x00\\x87I\\x00\\x00xl/printerSettings/printerSettings1.binPK\\x01\\x02-\\x00\\x14\\x00\\x06\\x00\\x08\\x00\\x00\\x00!\\x008\\xe5i\\x13\\xa8\\x00\\x00\\x00\\xf8\\x00\\x00\\x00\\x10\\x00\\x00\\x00\\x00\\x00\\x00\\x00\\x00\\x00\\x00\\x00\\x00\\x00\\x8eK\\x00\\x00xl/calcChain.xmlPK\\x01\\x02-\\x00\\x14\\x00\\x06\\x00\\x08\\x00\\x00\\x00!\\x00\\xc1\\xfee\\xe3J\\x01\\x00\\x00_\\x02\\x00\\x00\\x11\\x00\\x00\\x00\\x00\\x00\\x00\\x00\\x00\\x00\\x00\\x00\\x00\\x00dL\\x00\\x00docProps/core.xmlPK\\x01\\x02-\\x00\\x14\\x00\\x06\\x00\\x08\\x00\\x00\\x00!\\x00\\xff\\xd6\\xb1\\x0c\\x82\\x01\\x00\\x00\\x13\\x03\\x00\\x00\\x10\\x00\\x00\\x00\\x00\\x00\\x00\\x00\\x00\\x00\\x00\\x00\\x00\\x00\\xe5N\\x00\\x00docProps/app.xmlPK\\x01\\x02-\\x00\\x14\\x00\\x06\\x00\\x08\\x00\\x00\\x00!\\x00[i\\xf8U\\r\\x01\\x00\\x00\\x8d\\x01\\x00\\x00\\x13\\x00\\x00\\x00\\x00\\x00\\x00\\x00\\x00\\x00\\x00\\x00\\x00\\x00\\x9dQ\\x00\\x00docProps/custom.xmlPK\\x05\\x06\\x00\\x00\\x00\\x00\\x0f\\x00\\x0f\\x00\\xeb\\x03\\x00\\x00\\xe3S\\x00\\x00\\x00\\x00'}"
            ]
          },
          "metadata": {
            "tags": []
          },
          "execution_count": 96
        }
      ]
    },
    {
      "cell_type": "code",
      "metadata": {
        "id": "PFk4Hwe0ArCv",
        "colab_type": "code",
        "colab": {}
      },
      "source": [
        "import pandas as pd\n",
        "import numpy as np\n",
        "import matplotlib.pyplot as plt\n"
      ],
      "execution_count": 0,
      "outputs": []
    },
    {
      "cell_type": "code",
      "metadata": {
        "id": "HP0hNSTVBOgh",
        "colab_type": "code",
        "colab": {}
      },
      "source": [
        "df = pd.read_excel('assign.xlsx',sheet_name='tips')"
      ],
      "execution_count": 0,
      "outputs": []
    },
    {
      "cell_type": "code",
      "metadata": {
        "id": "7dFb-Ge3utCv",
        "colab_type": "code",
        "colab": {
          "base_uri": "https://localhost:8080/",
          "height": 204
        },
        "outputId": "ce6356c8-3c43-4fa8-c198-9b7aa1acbafa"
      },
      "source": [
        "df.tail(5)"
      ],
      "execution_count": 99,
      "outputs": [
        {
          "output_type": "execute_result",
          "data": {
            "text/html": [
              "<div>\n",
              "<style scoped>\n",
              "    .dataframe tbody tr th:only-of-type {\n",
              "        vertical-align: middle;\n",
              "    }\n",
              "\n",
              "    .dataframe tbody tr th {\n",
              "        vertical-align: top;\n",
              "    }\n",
              "\n",
              "    .dataframe thead th {\n",
              "        text-align: right;\n",
              "    }\n",
              "</style>\n",
              "<table border=\"1\" class=\"dataframe\">\n",
              "  <thead>\n",
              "    <tr style=\"text-align: right;\">\n",
              "      <th></th>\n",
              "      <th>total_bill</th>\n",
              "      <th>tip</th>\n",
              "      <th>sex</th>\n",
              "      <th>smoker</th>\n",
              "      <th>day</th>\n",
              "      <th>time</th>\n",
              "      <th>size</th>\n",
              "    </tr>\n",
              "  </thead>\n",
              "  <tbody>\n",
              "    <tr>\n",
              "      <th>240</th>\n",
              "      <td>27.18</td>\n",
              "      <td>2.00</td>\n",
              "      <td>Female</td>\n",
              "      <td>Yes</td>\n",
              "      <td>Sat</td>\n",
              "      <td>Dinner</td>\n",
              "      <td>2.0</td>\n",
              "    </tr>\n",
              "    <tr>\n",
              "      <th>241</th>\n",
              "      <td>22.67</td>\n",
              "      <td>2.00</td>\n",
              "      <td>Male</td>\n",
              "      <td>Yes</td>\n",
              "      <td>Sat</td>\n",
              "      <td>Dinner</td>\n",
              "      <td>2.0</td>\n",
              "    </tr>\n",
              "    <tr>\n",
              "      <th>242</th>\n",
              "      <td>17.82</td>\n",
              "      <td>1.75</td>\n",
              "      <td>Male</td>\n",
              "      <td>No</td>\n",
              "      <td>Sat</td>\n",
              "      <td>Dinner</td>\n",
              "      <td>2.0</td>\n",
              "    </tr>\n",
              "    <tr>\n",
              "      <th>243</th>\n",
              "      <td>18.78</td>\n",
              "      <td>3.00</td>\n",
              "      <td>Female</td>\n",
              "      <td>No</td>\n",
              "      <td>Thur</td>\n",
              "      <td>Dinner</td>\n",
              "      <td>2.0</td>\n",
              "    </tr>\n",
              "    <tr>\n",
              "      <th>244</th>\n",
              "      <td>NaN</td>\n",
              "      <td>NaN</td>\n",
              "      <td>0.356557</td>\n",
              "      <td>0.618852</td>\n",
              "      <td>NaN</td>\n",
              "      <td>NaN</td>\n",
              "      <td>NaN</td>\n",
              "    </tr>\n",
              "  </tbody>\n",
              "</table>\n",
              "</div>"
            ],
            "text/plain": [
              "     total_bill   tip       sex    smoker   day    time  size\n",
              "240       27.18  2.00    Female       Yes   Sat  Dinner   2.0\n",
              "241       22.67  2.00      Male       Yes   Sat  Dinner   2.0\n",
              "242       17.82  1.75      Male        No   Sat  Dinner   2.0\n",
              "243       18.78  3.00    Female        No  Thur  Dinner   2.0\n",
              "244         NaN   NaN  0.356557  0.618852   NaN     NaN   NaN"
            ]
          },
          "metadata": {
            "tags": []
          },
          "execution_count": 99
        }
      ]
    },
    {
      "cell_type": "code",
      "metadata": {
        "id": "NCUrNFhdvSRv",
        "colab_type": "code",
        "colab": {}
      },
      "source": [
        "df=df.drop(df.index[244])"
      ],
      "execution_count": 0,
      "outputs": []
    },
    {
      "cell_type": "code",
      "metadata": {
        "id": "xT1IZu97v5oD",
        "colab_type": "code",
        "colab": {
          "base_uri": "https://localhost:8080/",
          "height": 204
        },
        "outputId": "cf8ae567-e08e-476b-b3e8-a0a168b69c1f"
      },
      "source": [
        "df.tail(5)"
      ],
      "execution_count": 101,
      "outputs": [
        {
          "output_type": "execute_result",
          "data": {
            "text/html": [
              "<div>\n",
              "<style scoped>\n",
              "    .dataframe tbody tr th:only-of-type {\n",
              "        vertical-align: middle;\n",
              "    }\n",
              "\n",
              "    .dataframe tbody tr th {\n",
              "        vertical-align: top;\n",
              "    }\n",
              "\n",
              "    .dataframe thead th {\n",
              "        text-align: right;\n",
              "    }\n",
              "</style>\n",
              "<table border=\"1\" class=\"dataframe\">\n",
              "  <thead>\n",
              "    <tr style=\"text-align: right;\">\n",
              "      <th></th>\n",
              "      <th>total_bill</th>\n",
              "      <th>tip</th>\n",
              "      <th>sex</th>\n",
              "      <th>smoker</th>\n",
              "      <th>day</th>\n",
              "      <th>time</th>\n",
              "      <th>size</th>\n",
              "    </tr>\n",
              "  </thead>\n",
              "  <tbody>\n",
              "    <tr>\n",
              "      <th>239</th>\n",
              "      <td>29.03</td>\n",
              "      <td>5.92</td>\n",
              "      <td>Male</td>\n",
              "      <td>No</td>\n",
              "      <td>Sat</td>\n",
              "      <td>Dinner</td>\n",
              "      <td>3.0</td>\n",
              "    </tr>\n",
              "    <tr>\n",
              "      <th>240</th>\n",
              "      <td>27.18</td>\n",
              "      <td>2.00</td>\n",
              "      <td>Female</td>\n",
              "      <td>Yes</td>\n",
              "      <td>Sat</td>\n",
              "      <td>Dinner</td>\n",
              "      <td>2.0</td>\n",
              "    </tr>\n",
              "    <tr>\n",
              "      <th>241</th>\n",
              "      <td>22.67</td>\n",
              "      <td>2.00</td>\n",
              "      <td>Male</td>\n",
              "      <td>Yes</td>\n",
              "      <td>Sat</td>\n",
              "      <td>Dinner</td>\n",
              "      <td>2.0</td>\n",
              "    </tr>\n",
              "    <tr>\n",
              "      <th>242</th>\n",
              "      <td>17.82</td>\n",
              "      <td>1.75</td>\n",
              "      <td>Male</td>\n",
              "      <td>No</td>\n",
              "      <td>Sat</td>\n",
              "      <td>Dinner</td>\n",
              "      <td>2.0</td>\n",
              "    </tr>\n",
              "    <tr>\n",
              "      <th>243</th>\n",
              "      <td>18.78</td>\n",
              "      <td>3.00</td>\n",
              "      <td>Female</td>\n",
              "      <td>No</td>\n",
              "      <td>Thur</td>\n",
              "      <td>Dinner</td>\n",
              "      <td>2.0</td>\n",
              "    </tr>\n",
              "  </tbody>\n",
              "</table>\n",
              "</div>"
            ],
            "text/plain": [
              "     total_bill   tip     sex smoker   day    time  size\n",
              "239       29.03  5.92    Male     No   Sat  Dinner   3.0\n",
              "240       27.18  2.00  Female    Yes   Sat  Dinner   2.0\n",
              "241       22.67  2.00    Male    Yes   Sat  Dinner   2.0\n",
              "242       17.82  1.75    Male     No   Sat  Dinner   2.0\n",
              "243       18.78  3.00  Female     No  Thur  Dinner   2.0"
            ]
          },
          "metadata": {
            "tags": []
          },
          "execution_count": 101
        }
      ]
    },
    {
      "cell_type": "code",
      "metadata": {
        "id": "IeCON4pECK8y",
        "colab_type": "code",
        "outputId": "b9dd76ae-02c1-4297-d767-45f692479e5a",
        "colab": {
          "base_uri": "https://localhost:8080/",
          "height": 204
        }
      },
      "source": [
        "df.head(5)"
      ],
      "execution_count": 102,
      "outputs": [
        {
          "output_type": "execute_result",
          "data": {
            "text/html": [
              "<div>\n",
              "<style scoped>\n",
              "    .dataframe tbody tr th:only-of-type {\n",
              "        vertical-align: middle;\n",
              "    }\n",
              "\n",
              "    .dataframe tbody tr th {\n",
              "        vertical-align: top;\n",
              "    }\n",
              "\n",
              "    .dataframe thead th {\n",
              "        text-align: right;\n",
              "    }\n",
              "</style>\n",
              "<table border=\"1\" class=\"dataframe\">\n",
              "  <thead>\n",
              "    <tr style=\"text-align: right;\">\n",
              "      <th></th>\n",
              "      <th>total_bill</th>\n",
              "      <th>tip</th>\n",
              "      <th>sex</th>\n",
              "      <th>smoker</th>\n",
              "      <th>day</th>\n",
              "      <th>time</th>\n",
              "      <th>size</th>\n",
              "    </tr>\n",
              "  </thead>\n",
              "  <tbody>\n",
              "    <tr>\n",
              "      <th>0</th>\n",
              "      <td>16.99</td>\n",
              "      <td>1.01</td>\n",
              "      <td>Female</td>\n",
              "      <td>No</td>\n",
              "      <td>Sun</td>\n",
              "      <td>Dinner</td>\n",
              "      <td>2.0</td>\n",
              "    </tr>\n",
              "    <tr>\n",
              "      <th>1</th>\n",
              "      <td>10.34</td>\n",
              "      <td>1.66</td>\n",
              "      <td>Male</td>\n",
              "      <td>No</td>\n",
              "      <td>Sun</td>\n",
              "      <td>Dinner</td>\n",
              "      <td>3.0</td>\n",
              "    </tr>\n",
              "    <tr>\n",
              "      <th>2</th>\n",
              "      <td>21.01</td>\n",
              "      <td>3.50</td>\n",
              "      <td>Male</td>\n",
              "      <td>No</td>\n",
              "      <td>Sun</td>\n",
              "      <td>Dinner</td>\n",
              "      <td>3.0</td>\n",
              "    </tr>\n",
              "    <tr>\n",
              "      <th>3</th>\n",
              "      <td>23.68</td>\n",
              "      <td>3.31</td>\n",
              "      <td>Male</td>\n",
              "      <td>No</td>\n",
              "      <td>Sun</td>\n",
              "      <td>Dinner</td>\n",
              "      <td>2.0</td>\n",
              "    </tr>\n",
              "    <tr>\n",
              "      <th>4</th>\n",
              "      <td>24.59</td>\n",
              "      <td>3.61</td>\n",
              "      <td>Female</td>\n",
              "      <td>No</td>\n",
              "      <td>Sun</td>\n",
              "      <td>Dinner</td>\n",
              "      <td>4.0</td>\n",
              "    </tr>\n",
              "  </tbody>\n",
              "</table>\n",
              "</div>"
            ],
            "text/plain": [
              "   total_bill   tip     sex smoker  day    time  size\n",
              "0       16.99  1.01  Female     No  Sun  Dinner   2.0\n",
              "1       10.34  1.66    Male     No  Sun  Dinner   3.0\n",
              "2       21.01  3.50    Male     No  Sun  Dinner   3.0\n",
              "3       23.68  3.31    Male     No  Sun  Dinner   2.0\n",
              "4       24.59  3.61  Female     No  Sun  Dinner   4.0"
            ]
          },
          "metadata": {
            "tags": []
          },
          "execution_count": 102
        }
      ]
    },
    {
      "cell_type": "code",
      "metadata": {
        "id": "GDtIk5qmqmFt",
        "colab_type": "code",
        "colab": {
          "base_uri": "https://localhost:8080/",
          "height": 34
        },
        "outputId": "86711bfc-e9cc-482f-dcc2-a1a6938d2b65"
      },
      "source": [
        "df.shape"
      ],
      "execution_count": 103,
      "outputs": [
        {
          "output_type": "execute_result",
          "data": {
            "text/plain": [
              "(244, 7)"
            ]
          },
          "metadata": {
            "tags": []
          },
          "execution_count": 103
        }
      ]
    },
    {
      "cell_type": "markdown",
      "metadata": {
        "id": "1taB3ApphRGo",
        "colab_type": "text"
      },
      "source": [
        "![image.png](data:image/png;base64,iVBORw0KGgoAAAANSUhEUgAAAMEAAAAVCAYAAAD/7YqlAAAENElEQVR4Ae1ZbZasKgxkXSzI9bgaN9OLyTskFOQD2552nOc9Mn+UFpJKpULQSTT/JgMPZyA9PP4Z/mSAZhFMETyegVkEj5fAJGAWwdTA4xmYRfB4CUwCfqEIXrTmRMt2ZzL/BYzf8bctiZIi34+/s/qcVa812xdj/iGv9NIcvFbKKYq8zz0nMLajkqhdl3tOqsfkJ7lxtHkOozN/q6EXvR/fCuwvg4l5/qleNlryaouAWPCZVl0F20Ip2d2mxFLIzjzxnMBGgZzlKto8h/EsnivXe9H78ZW+/2/bMc/fIXLHIRGLiFsMstiXhXJaqJ94NloSigUCK78lKZj2rIKq3YSLqXUVWYffylX7RTg+qRz4nh/as/kBxrBWxws0uHo/fa7HS9Vuj21/LVHlda0bDzgf8idYvD8/BmK+7tiJawTjVZgJG2vLo95k3/GDaPycrh0bS5lXdPpGm0SuExCRrS6IXYy0UwsHgcQDEIqitqQ+mVsOmgvbV8cb6w9B9qsJipMIv32Ov4s2jzB6zJUHhbP7qLZafHUuBGu4YUIpq03BxAO+mx8kS8coLXuPP2/PjzvuN3b+FDM0Jch8rjx+r5cej9eqPLHrY97ZHnJVjblOwOccSphURFcTVIxjZ7DAxZHSRFEUpZZYDRui6Em2ttxcvBPAeN3JMIyz5Zdo8wAj2+1FLFZsspqvYSHquSJkYGQs4OLQj13bfOob598mPRazXmrujR3r91LMxm/V28f8mAjchi3PLB+DvKPbYlcZdQJpyfIibMTUhO0N+7ELDLudbn0oMjyDYmyMPLJBoYjk2IWi9MsMbn54gJETg6OcvvrCcJtEc2ztd8z2d3nn0vZxDz9WjDDP8ezw133JbD+GjXL9zM7VmEuMiNcV7U/ygHicdmz8LhYmI3IcO0HdfYvAisHuo4LfyteivpPjzNvnuSIYttq+PgpWp82RZB7FYPA42hyQ0YoahdUxwc7w6ncynmQTK2JfaPNz/Tg4GMR0wJ9N+hu+Duz8GeYgdMX7IT+WsJhnH/8g7591Aog4D8WeczbfpX9aBJw0VUQcCNqhjVHk5b6D9ymjAOVptDmYq4sgvLx2L/FObOlv83v+9rja62C6Cze/Tryev2+LwNtBHi/HXOIxO2aLtOxG/D+nfX703PF7m+Wj5kp1npirwYuxuJEdyZ/r2UD7ugNARwKr1VnbeV5XWlQR6CPCKHgTFAsCRwj9RQFY6lXtNmLzGCMSoL9W+fi7l8oPjiiDIh5zVSwgMSqOtn7QCWpnBi7Pn+EHc3dEJsIXv94OIyv/OAr5vQgzuCvXFv+Rr/Jc/YU873UCnS/Veaqp4XFIuZm3k4FfZWC0E5fiHG2A5x0PNr+B0VkEA1LmT9cx4DsXOuMsgus4n5Zvx0A8Dl5TACXw2Qlul/4J6J4MzOPQPfMyUf0hA/8BqJd5UOttErMAAAAASUVORK5CYII=)"
      ]
    },
    {
      "cell_type": "code",
      "metadata": {
        "id": "EDTV2YMeN68W",
        "colab_type": "code",
        "colab": {}
      },
      "source": [
        "avg_tips=df.tip.mean()"
      ],
      "execution_count": 0,
      "outputs": []
    },
    {
      "cell_type": "code",
      "metadata": {
        "id": "FyHsuUkfiI-Q",
        "colab_type": "code",
        "colab": {
          "base_uri": "https://localhost:8080/",
          "height": 34
        },
        "outputId": "7f0ea59b-a367-45f8-c0b3-be9b2bae86ca"
      },
      "source": [
        "avg_tips"
      ],
      "execution_count": 105,
      "outputs": [
        {
          "output_type": "execute_result",
          "data": {
            "text/plain": [
              "2.9982786885245902"
            ]
          },
          "metadata": {
            "tags": []
          },
          "execution_count": 105
        }
      ]
    },
    {
      "cell_type": "markdown",
      "metadata": {
        "id": "uyFbL4ZKiRFR",
        "colab_type": "text"
      },
      "source": [
        "Get a numerical summary for 'tip' - are the median and mean very different? What does this tell you about the field?"
      ]
    },
    {
      "cell_type": "code",
      "metadata": {
        "id": "yFFHQaFtiLsh",
        "colab_type": "code",
        "colab": {
          "base_uri": "https://localhost:8080/",
          "height": 170
        },
        "outputId": "f4056339-df2d-4665-d853-ff8eb1852a49"
      },
      "source": [
        "df.tip.describe()"
      ],
      "execution_count": 106,
      "outputs": [
        {
          "output_type": "execute_result",
          "data": {
            "text/plain": [
              "count    244.000000\n",
              "mean       2.998279\n",
              "std        1.383638\n",
              "min        1.000000\n",
              "25%        2.000000\n",
              "50%        2.900000\n",
              "75%        3.562500\n",
              "max       10.000000\n",
              "Name: tip, dtype: float64"
            ]
          },
          "metadata": {
            "tags": []
          },
          "execution_count": 106
        }
      ]
    },
    {
      "cell_type": "markdown",
      "metadata": {
        "id": "znOfSdUBknUp",
        "colab_type": "text"
      },
      "source": [
        "Mean and median are almost same the distribution is symmetric and their is 0 skewness"
      ]
    },
    {
      "cell_type": "markdown",
      "metadata": {
        "id": "JPcMGF1tk7nP",
        "colab_type": "text"
      },
      "source": [
        "Prepare a boxplot for 'tip', are there any outliers?"
      ]
    },
    {
      "cell_type": "code",
      "metadata": {
        "id": "z9XSRN-zjGL-",
        "colab_type": "code",
        "colab": {
          "base_uri": "https://localhost:8080/",
          "height": 282
        },
        "outputId": "d51e8a01-f05c-4b62-c7fa-71d91d5f98b6"
      },
      "source": [
        "df.boxplot('tip')"
      ],
      "execution_count": 107,
      "outputs": [
        {
          "output_type": "execute_result",
          "data": {
            "text/plain": [
              "<matplotlib.axes._subplots.AxesSubplot at 0x7f35b21a0588>"
            ]
          },
          "metadata": {
            "tags": []
          },
          "execution_count": 107
        },
        {
          "output_type": "display_data",
          "data": {
            "image/png": "[encoded data removed]",
            "text/plain": [
              "<Figure size 432x288 with 1 Axes>"
            ]
          },
          "metadata": {
            "tags": [],
            "needs_background": "light"
          }
        }
      ]
    },
    {
      "cell_type": "markdown",
      "metadata": {
        "id": "Cn3AvL-Km5p1",
        "colab_type": "text"
      },
      "source": [
        "Prepare a boxplot for 'total_bill', are there any outliers?"
      ]
    },
    {
      "cell_type": "code",
      "metadata": {
        "id": "z9RS5LfkmCU4",
        "colab_type": "code",
        "colab": {
          "base_uri": "https://localhost:8080/",
          "height": 283
        },
        "outputId": "57c697a3-40c1-4a15-b06f-489839e5c3df"
      },
      "source": [
        "df.boxplot('total_bill')"
      ],
      "execution_count": 108,
      "outputs": [
        {
          "output_type": "execute_result",
          "data": {
            "text/plain": [
              "<matplotlib.axes._subplots.AxesSubplot at 0x7f35b2117550>"
            ]
          },
          "metadata": {
            "tags": []
          },
          "execution_count": 108
        },
        {
          "output_type": "display_data",
          "data": {
            "image/png": "[encoded data removed]",
            "text/plain": [
              "<Figure size 432x288 with 1 Axes>"
            ]
          },
          "metadata": {
            "tags": [],
            "needs_background": "light"
          }
        }
      ]
    },
    {
      "cell_type": "markdown",
      "metadata": {
        "id": "cPTjDuvfnyjS",
        "colab_type": "text"
      },
      "source": [
        "Gender: what is the percent of females in the data? "
      ]
    },
    {
      "cell_type": "code",
      "metadata": {
        "id": "0dzUdnYBnIGZ",
        "colab_type": "code",
        "colab": {
          "base_uri": "https://localhost:8080/",
          "height": 102
        },
        "outputId": "faa5b5b5-ac05-4c80-d829-6953953f7fa7"
      },
      "source": [
        "df.sex.describe()"
      ],
      "execution_count": 109,
      "outputs": [
        {
          "output_type": "execute_result",
          "data": {
            "text/plain": [
              "count      244\n",
              "unique       2\n",
              "top       Male\n",
              "freq       157\n",
              "Name: sex, dtype: object"
            ]
          },
          "metadata": {
            "tags": []
          },
          "execution_count": 109
        }
      ]
    },
    {
      "cell_type": "code",
      "metadata": {
        "id": "Xx1JkHsUoWJB",
        "colab_type": "code",
        "colab": {
          "base_uri": "https://localhost:8080/",
          "height": 34
        },
        "outputId": "932502a7-03bc-4c4f-b90e-398fc69ba7ca"
      },
      "source": [
        "df.sex.unique()"
      ],
      "execution_count": 110,
      "outputs": [
        {
          "output_type": "execute_result",
          "data": {
            "text/plain": [
              "array(['Female', 'Male'], dtype=object)"
            ]
          },
          "metadata": {
            "tags": []
          },
          "execution_count": 110
        }
      ]
    },
    {
      "cell_type": "code",
      "metadata": {
        "id": "mGJQfEFCpzBJ",
        "colab_type": "code",
        "colab": {
          "base_uri": "https://localhost:8080/",
          "height": 68
        },
        "outputId": "c340bb23-1c50-4051-d4f1-c6c498954fdc"
      },
      "source": [
        "(df['sex'].value_counts()/df['sex'].count())*100"
      ],
      "execution_count": 111,
      "outputs": [
        {
          "output_type": "execute_result",
          "data": {
            "text/plain": [
              "Male      64.344262\n",
              "Female    35.655738\n",
              "Name: sex, dtype: float64"
            ]
          },
          "metadata": {
            "tags": []
          },
          "execution_count": 111
        }
      ]
    },
    {
      "cell_type": "markdown",
      "metadata": {
        "id": "AcQDa4YjxM7d",
        "colab_type": "text"
      },
      "source": [
        "Prepare a bar plot with the bars representing the percentage of records for each gender."
      ]
    },
    {
      "cell_type": "code",
      "metadata": {
        "id": "3ENT6NfRBrI5",
        "colab_type": "code",
        "colab": {}
      },
      "source": [
        "a=(df['sex'].value_counts()/df['sex'].count())*100"
      ],
      "execution_count": 0,
      "outputs": []
    },
    {
      "cell_type": "code",
      "metadata": {
        "id": "IRYVbQrdxBqT",
        "colab_type": "code",
        "colab": {
          "base_uri": "https://localhost:8080/",
          "height": 308
        },
        "outputId": "5fec6d74-19e1-4244-ec6c-7aba6bc6d392"
      },
      "source": [
        "a.plot(kind='bar')"
      ],
      "execution_count": 113,
      "outputs": [
        {
          "output_type": "execute_result",
          "data": {
            "text/plain": [
              "<matplotlib.axes._subplots.AxesSubplot at 0x7f35b20d9ba8>"
            ]
          },
          "metadata": {
            "tags": []
          },
          "execution_count": 113
        },
        {
          "output_type": "display_data",
          "data": {
            "image/png": "[encoded data removed]",
            "text/plain": [
              "<Figure size 432x288 with 1 Axes>"
            ]
          },
          "metadata": {
            "tags": [],
            "needs_background": "light"
          }
        }
      ]
    },
    {
      "cell_type": "markdown",
      "metadata": {
        "id": "_CrXh2nYCMQb",
        "colab_type": "text"
      },
      "source": [
        "Does the average tip differ by gender? Does one gender tip more than the other?"
      ]
    },
    {
      "cell_type": "code",
      "metadata": {
        "id": "6s5qx6iaBcN8",
        "colab_type": "code",
        "colab": {
          "base_uri": "https://localhost:8080/",
          "height": 85
        },
        "outputId": "d5fe4621-6705-492b-fad3-04779638eba9"
      },
      "source": [
        "df.groupby(by='sex')['tip'].mean()"
      ],
      "execution_count": 114,
      "outputs": [
        {
          "output_type": "execute_result",
          "data": {
            "text/plain": [
              "sex\n",
              "Female    2.833448\n",
              "Male      3.089618\n",
              "Name: tip, dtype: float64"
            ]
          },
          "metadata": {
            "tags": []
          },
          "execution_count": 114
        }
      ]
    },
    {
      "cell_type": "markdown",
      "metadata": {
        "id": "9iLGMS9VJoJW",
        "colab_type": "text"
      },
      "source": [
        "Does the average tip differ by the time of day?"
      ]
    },
    {
      "cell_type": "code",
      "metadata": {
        "id": "awheuM0NJ8D8",
        "colab_type": "code",
        "colab": {
          "base_uri": "https://localhost:8080/",
          "height": 119
        },
        "outputId": "0752e75f-cf46-44c4-c96a-672ac846ffa6"
      },
      "source": [
        "df.groupby(by='day')['tip'].mean()"
      ],
      "execution_count": 115,
      "outputs": [
        {
          "output_type": "execute_result",
          "data": {
            "text/plain": [
              "day\n",
              "Fri     2.734737\n",
              "Sat     2.993103\n",
              "Sun     3.255132\n",
              "Thur    2.771452\n",
              "Name: tip, dtype: float64"
            ]
          },
          "metadata": {
            "tags": []
          },
          "execution_count": 115
        }
      ]
    },
    {
      "cell_type": "markdown",
      "metadata": {
        "id": "9AxSsGGwJoGI",
        "colab_type": "text"
      },
      "source": [
        "Does the average tip differ by size (number of people at the table)? "
      ]
    },
    {
      "cell_type": "code",
      "metadata": {
        "id": "FHYwnY92Jlyd",
        "colab_type": "code",
        "colab": {
          "base_uri": "https://localhost:8080/",
          "height": 153
        },
        "outputId": "4c7270b8-de68-4d1b-9efe-91922a1d99a0"
      },
      "source": [
        "df.groupby(by='size')['tip'].mean()"
      ],
      "execution_count": 116,
      "outputs": [
        {
          "output_type": "execute_result",
          "data": {
            "text/plain": [
              "size\n",
              "1.0    1.437500\n",
              "2.0    2.582308\n",
              "3.0    3.393158\n",
              "4.0    4.135405\n",
              "5.0    4.028000\n",
              "6.0    5.225000\n",
              "Name: tip, dtype: float64"
            ]
          },
          "metadata": {
            "tags": []
          },
          "execution_count": 116
        }
      ]
    },
    {
      "cell_type": "markdown",
      "metadata": {
        "id": "60W_LK12Jlc1",
        "colab_type": "text"
      },
      "source": [
        "Do smokers tip more than non-smokers?"
      ]
    },
    {
      "cell_type": "code",
      "metadata": {
        "id": "gnrLiyxjL_0N",
        "colab_type": "code",
        "colab": {
          "base_uri": "https://localhost:8080/",
          "height": 85
        },
        "outputId": "09ee94c5-6a48-4687-c181-ba34bc5c2855"
      },
      "source": [
        "df.groupby(by='smoker')['tip'].count()"
      ],
      "execution_count": 117,
      "outputs": [
        {
          "output_type": "execute_result",
          "data": {
            "text/plain": [
              "smoker\n",
              "No     151\n",
              "Yes     93\n",
              "Name: tip, dtype: int64"
            ]
          },
          "metadata": {
            "tags": []
          },
          "execution_count": 117
        }
      ]
    },
    {
      "cell_type": "markdown",
      "metadata": {
        "id": "ZC6MRDAfJkl0",
        "colab_type": "text"
      },
      "source": [
        "Gender vs. smoker/non-smoker and tip size - create a 2 by 2 and get the average tip size. Which group tips the most?"
      ]
    },
    {
      "cell_type": "code",
      "metadata": {
        "id": "-kd8HwavJEJ6",
        "colab_type": "code",
        "colab": {
          "base_uri": "https://localhost:8080/",
          "height": 119
        },
        "outputId": "56918df2-c998-40af-a166-842061ed31cd"
      },
      "source": [
        "df.groupby(by=['smoker','sex']).mean()['tip']"
      ],
      "execution_count": 118,
      "outputs": [
        {
          "output_type": "execute_result",
          "data": {
            "text/plain": [
              "smoker  sex   \n",
              "No      Female    2.773519\n",
              "        Male      3.113402\n",
              "Yes     Female    2.931515\n",
              "        Male      3.051167\n",
              "Name: tip, dtype: float64"
            ]
          },
          "metadata": {
            "tags": []
          },
          "execution_count": 118
        }
      ]
    },
    {
      "cell_type": "code",
      "metadata": {
        "id": "mADJVbRmO0IW",
        "colab_type": "code",
        "colab": {
          "base_uri": "https://localhost:8080/",
          "height": 142
        },
        "outputId": "76993ae5-04fb-49f3-f283-4036800981ec"
      },
      "source": [
        "df.groupby(by=['smoker','sex']).mean()['tip'].unstack()"
      ],
      "execution_count": 119,
      "outputs": [
        {
          "output_type": "execute_result",
          "data": {
            "text/html": [
              "<div>\n",
              "<style scoped>\n",
              "    .dataframe tbody tr th:only-of-type {\n",
              "        vertical-align: middle;\n",
              "    }\n",
              "\n",
              "    .dataframe tbody tr th {\n",
              "        vertical-align: top;\n",
              "    }\n",
              "\n",
              "    .dataframe thead th {\n",
              "        text-align: right;\n",
              "    }\n",
              "</style>\n",
              "<table border=\"1\" class=\"dataframe\">\n",
              "  <thead>\n",
              "    <tr style=\"text-align: right;\">\n",
              "      <th>sex</th>\n",
              "      <th>Female</th>\n",
              "      <th>Male</th>\n",
              "    </tr>\n",
              "    <tr>\n",
              "      <th>smoker</th>\n",
              "      <th></th>\n",
              "      <th></th>\n",
              "    </tr>\n",
              "  </thead>\n",
              "  <tbody>\n",
              "    <tr>\n",
              "      <th>No</th>\n",
              "      <td>2.773519</td>\n",
              "      <td>3.113402</td>\n",
              "    </tr>\n",
              "    <tr>\n",
              "      <th>Yes</th>\n",
              "      <td>2.931515</td>\n",
              "      <td>3.051167</td>\n",
              "    </tr>\n",
              "  </tbody>\n",
              "</table>\n",
              "</div>"
            ],
            "text/plain": [
              "sex       Female      Male\n",
              "smoker                    \n",
              "No      2.773519  3.113402\n",
              "Yes     2.931515  3.051167"
            ]
          },
          "metadata": {
            "tags": []
          },
          "execution_count": 119
        }
      ]
    },
    {
      "cell_type": "code",
      "metadata": {
        "id": "Ru7CgbhZO_Ac",
        "colab_type": "code",
        "colab": {
          "base_uri": "https://localhost:8080/",
          "height": 142
        },
        "outputId": "d8e18100-0a80-4695-f063-e1ec9206a40a"
      },
      "source": [
        "pd.pivot_table(data=df,index='sex',columns='smoker',values='tip')"
      ],
      "execution_count": 120,
      "outputs": [
        {
          "output_type": "execute_result",
          "data": {
            "text/html": [
              "<div>\n",
              "<style scoped>\n",
              "    .dataframe tbody tr th:only-of-type {\n",
              "        vertical-align: middle;\n",
              "    }\n",
              "\n",
              "    .dataframe tbody tr th {\n",
              "        vertical-align: top;\n",
              "    }\n",
              "\n",
              "    .dataframe thead th {\n",
              "        text-align: right;\n",
              "    }\n",
              "</style>\n",
              "<table border=\"1\" class=\"dataframe\">\n",
              "  <thead>\n",
              "    <tr style=\"text-align: right;\">\n",
              "      <th>smoker</th>\n",
              "      <th>No</th>\n",
              "      <th>Yes</th>\n",
              "    </tr>\n",
              "    <tr>\n",
              "      <th>sex</th>\n",
              "      <th></th>\n",
              "      <th></th>\n",
              "    </tr>\n",
              "  </thead>\n",
              "  <tbody>\n",
              "    <tr>\n",
              "      <th>Female</th>\n",
              "      <td>2.773519</td>\n",
              "      <td>2.931515</td>\n",
              "    </tr>\n",
              "    <tr>\n",
              "      <th>Male</th>\n",
              "      <td>3.113402</td>\n",
              "      <td>3.051167</td>\n",
              "    </tr>\n",
              "  </tbody>\n",
              "</table>\n",
              "</div>"
            ],
            "text/plain": [
              "smoker        No       Yes\n",
              "sex                       \n",
              "Female  2.773519  2.931515\n",
              "Male    3.113402  3.051167"
            ]
          },
          "metadata": {
            "tags": []
          },
          "execution_count": 120
        }
      ]
    },
    {
      "cell_type": "markdown",
      "metadata": {
        "id": "mQhcvWUpNp0Q",
        "colab_type": "text"
      },
      "source": [
        "Create a new metric called 'pct_tip' = tip/ total_bill - this would be percent tip give, and should be a better measure of the tipping behaviour."
      ]
    },
    {
      "cell_type": "code",
      "metadata": {
        "id": "TlsFn3b-NrHO",
        "colab_type": "code",
        "colab": {}
      },
      "source": [
        "pct_tip=(df.tip/df.total_bill)"
      ],
      "execution_count": 0,
      "outputs": []
    },
    {
      "cell_type": "code",
      "metadata": {
        "id": "CAG_jdp-PtQT",
        "colab_type": "code",
        "colab": {}
      },
      "source": [
        "df['pct_tip']=pct_tip"
      ],
      "execution_count": 0,
      "outputs": []
    },
    {
      "cell_type": "markdown",
      "metadata": {
        "id": "W0SdyJN4PubW",
        "colab_type": "text"
      },
      "source": [
        "Does pct_tip differ by gender? Does one gender tip more than the other?"
      ]
    },
    {
      "cell_type": "code",
      "metadata": {
        "id": "9SbQH8MAQDl1",
        "colab_type": "code",
        "colab": {
          "base_uri": "https://localhost:8080/",
          "height": 85
        },
        "outputId": "e5deebdc-82c2-4d91-f8bf-de3680fcf9f4"
      },
      "source": [
        "df.groupby(by='sex')['pct_tip'].count()"
      ],
      "execution_count": 123,
      "outputs": [
        {
          "output_type": "execute_result",
          "data": {
            "text/plain": [
              "sex\n",
              "Female     87\n",
              "Male      157\n",
              "Name: pct_tip, dtype: int64"
            ]
          },
          "metadata": {
            "tags": []
          },
          "execution_count": 123
        }
      ]
    },
    {
      "cell_type": "markdown",
      "metadata": {
        "id": "SnKWpvm5QE1A",
        "colab_type": "text"
      },
      "source": [
        "Does pct_tip differ by size (number of people at the table)? "
      ]
    },
    {
      "cell_type": "code",
      "metadata": {
        "id": "3_OkkpRHQZIz",
        "colab_type": "code",
        "colab": {
          "base_uri": "https://localhost:8080/",
          "height": 153
        },
        "outputId": "9925f2b7-edcc-48a8-f1bd-a9d94e7c4467"
      },
      "source": [
        "df.groupby(by='size')['pct_tip'].count()"
      ],
      "execution_count": 124,
      "outputs": [
        {
          "output_type": "execute_result",
          "data": {
            "text/plain": [
              "size\n",
              "1.0      4\n",
              "2.0    156\n",
              "3.0     38\n",
              "4.0     37\n",
              "5.0      5\n",
              "6.0      4\n",
              "Name: pct_tip, dtype: int64"
            ]
          },
          "metadata": {
            "tags": []
          },
          "execution_count": 124
        }
      ]
    },
    {
      "cell_type": "markdown",
      "metadata": {
        "id": "jZTzX10UQEf0",
        "colab_type": "text"
      },
      "source": [
        "Make the gender vs. smoker view using pct_tip  - does your inference change?"
      ]
    },
    {
      "cell_type": "code",
      "metadata": {
        "id": "loAswAnCQyTQ",
        "colab_type": "code",
        "colab": {
          "base_uri": "https://localhost:8080/",
          "height": 119
        },
        "outputId": "ebe2ef17-ad09-4d17-d20b-eb7256b7bab3"
      },
      "source": [
        "df.groupby(by=['smoker','sex'])['pct_tip'].mean()"
      ],
      "execution_count": 125,
      "outputs": [
        {
          "output_type": "execute_result",
          "data": {
            "text/plain": [
              "smoker  sex   \n",
              "No      Female    0.156921\n",
              "        Male      0.160669\n",
              "Yes     Female    0.182150\n",
              "        Male      0.152771\n",
              "Name: pct_tip, dtype: float64"
            ]
          },
          "metadata": {
            "tags": []
          },
          "execution_count": 125
        }
      ]
    },
    {
      "cell_type": "markdown",
      "metadata": {
        "id": "_EGrhCOqQy0R",
        "colab_type": "text"
      },
      "source": [
        "Make a scatter plot of total_bill vs. tip."
      ]
    },
    {
      "cell_type": "code",
      "metadata": {
        "id": "7oG7P_3ZDVaU",
        "colab_type": "code",
        "colab": {
          "base_uri": "https://localhost:8080/",
          "height": 282
        },
        "outputId": "a8c2c712-995e-4e76-86a1-94b5b234cfd5"
      },
      "source": [
        "plt.scatter(df.total_bill,df.tip)"
      ],
      "execution_count": 126,
      "outputs": [
        {
          "output_type": "execute_result",
          "data": {
            "text/plain": [
              "<matplotlib.collections.PathCollection at 0x7f35b2008dd8>"
            ]
          },
          "metadata": {
            "tags": []
          },
          "execution_count": 126
        },
        {
          "output_type": "display_data",
          "data": {
            "image/png": "[encoded data removed]",
            "text/plain": [
              "<Figure size 432x288 with 1 Axes>"
            ]
          },
          "metadata": {
            "tags": [],
            "needs_background": "light"
          }
        }
      ]
    },
    {
      "cell_type": "markdown",
      "metadata": {
        "id": "7GBWMnYlRRNH",
        "colab_type": "text"
      },
      "source": [
        "Make a scatter plot of total_bill vs. pct_tip."
      ]
    },
    {
      "cell_type": "code",
      "metadata": {
        "id": "CiDw_xFuGVQC",
        "colab_type": "code",
        "colab": {
          "base_uri": "https://localhost:8080/",
          "height": 282
        },
        "outputId": "fb17fd1b-c0ac-4cc0-e09b-9b324f947682"
      },
      "source": [
        "plt.scatter(df.total_bill,df.pct_tip)"
      ],
      "execution_count": 127,
      "outputs": [
        {
          "output_type": "execute_result",
          "data": {
            "text/plain": [
              "<matplotlib.collections.PathCollection at 0x7f35b1fe8198>"
            ]
          },
          "metadata": {
            "tags": []
          },
          "execution_count": 127
        },
        {
          "output_type": "display_data",
          "data": {
            "image/png": "[encoded data removed]",
            "text/plain": [
              "<Figure size 432x288 with 1 Axes>"
            ]
          },
          "metadata": {
            "tags": [],
            "needs_background": "light"
          }
        }
      ]
    },
    {
      "cell_type": "code",
      "metadata": {
        "id": "LV7pNcTVRZIa",
        "colab_type": "code",
        "colab": {}
      },
      "source": [
        ""
      ],
      "execution_count": 0,
      "outputs": []
    }
  ]
}